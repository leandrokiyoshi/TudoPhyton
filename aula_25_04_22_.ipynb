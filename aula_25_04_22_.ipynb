{
  "nbformat": 4,
  "nbformat_minor": 0,
  "metadata": {
    "colab": {
      "name": "aula 25/04/22 .ipynb",
      "provenance": [],
      "collapsed_sections": [
        "D3BEbRz5rp1y",
        "pA6Qw4Rsrvlo",
        "N4o68ag2r66A",
        "yVI3H3jEmGSk",
        "2iJIoiRSqiTE",
        "EefrMZuMscDZ",
        "zqe9qHtVuL4L",
        "Q86QNJTdvCb9",
        "qt1kES0xcTsU",
        "BJQGQZjxqQCp",
        "nf1LdiGVtgq3",
        "JL5NVKAKujJe",
        "eA7x923ExLrG",
        "amB2X8l430SZ",
        "hDwrFahl4d7C",
        "Jf0pT6lJ4heK",
        "0n-h9UUz5b9_",
        "G2lvBBedhXmu",
        "MPeDI0ftlhOk",
        "tU3RKdTilouW",
        "onMhwZgvlrMo",
        "Laxo6cgHnxi-",
        "c7D8T0YloM9P",
        "uu1J2sCLpuuW",
        "sdVOKQdoqj5B",
        "SNYg4WKKrHWl",
        "UFFAboSIsUDz",
        "6qHkWBOAu15_",
        "TjhjMfwWvIg-",
        "Lbimhw6KwNWQ",
        "qoF6bWTVxH46",
        "XmY1kTvP1MxR",
        "bIIJgzMz1fjC",
        "Zkh4bC-y5dSH",
        "XJA9Pf8e6Bc5",
        "d2ls5jPE6f4j",
        "BXcj670wmkOx",
        "hSplGMGlmz5r",
        "Y0_EACKnrIdM",
        "zgN-Wqoao15v",
        "WPvQdQTrqjuJ",
        "_KIMiNR0q4W7",
        "ipGYtzHFtE9U",
        "OB2syOhPtsGk",
        "PuTEG5KQtvlk",
        "G3-QnJlGukPg",
        "CbJ7GZR5v2vj",
        "74ZefT1Jw12s",
        "Up1jCYKH0By4",
        "FdWF-FYI3i_2",
        "QAkgbrkh3pD8",
        "OQ4kJKEHBlFP",
        "NxHMUodNEG1g",
        "AjPqqOVyoQqW",
        "BdU71kGM2gJ5",
        "ICCaFA_w9Toc",
        "ZIYcbUEyDUPn",
        "_z-6YPZuIfzp",
        "joWwSkU0rHi0",
        "JhjSG7Hdt_7E",
        "hLK8n0MmzQNU",
        "1pO8cD024Fka",
        "sJV-ZnGH67sp",
        "AnhPTLhY9Tdx",
        "cJNIci1BB5jQ",
        "EzL1MhczDd8G",
        "bquS0FhNE-1f",
        "xA87M8vJHXLW",
        "Olyvzi26IQ1B",
        "Y5idbwvZJRf_",
        "GMY8-_k0uuI8",
        "EV3TYiFExMK3",
        "DSUCdEObyxcY",
        "YedCB6sx1F0B",
        "4ezFuEkR4MfI",
        "-6T-BWxQ4VOP",
        "PEia4Pw8GkvW"
      ],
      "authorship_tag": "ABX9TyPa2pCzTVguNHTOVxkJBXDX",
      "include_colab_link": true
    },
    "kernelspec": {
      "name": "python3",
      "display_name": "Python 3"
    },
    "language_info": {
      "name": "python"
    }
  },
  "cells": [
    {
      "cell_type": "markdown",
      "metadata": {
        "id": "view-in-github",
        "colab_type": "text"
      },
      "source": [
        "<a href=\"https://colab.research.google.com/github/leandrokiyoshi/TudoPhyton/blob/main/aula_25_04_22_.ipynb\" target=\"_parent\"><img src=\"https://colab.research.google.com/assets/colab-badge.svg\" alt=\"Open In Colab\"/></a>"
      ]
    },
    {
      "cell_type": "markdown",
      "source": [
        "#Aula 01 - \n",
        "##introdução ao phyton para ciencia de dados \n",
        "###(shift+enter termina de escrever)\n",
        "\n",
        "\n",
        " o nome deste tipo de edição de texto é markdown-(https://www.markdownguide.org/)."
      ],
      "metadata": {
        "id": "iQJkhvVya_vj"
      }
    },
    {
      "cell_type": "markdown",
      "source": [
        "__Objetivo__: Apresentar os conceitos iniciais da linguagem Python abordando os operadores aritméticos, relacionais e lógicos, além de comandos de saída e entra (leitura do teclado)."
      ],
      "metadata": {
        "id": "CeEIesszcmff"
      }
    },
    {
      "cell_type": "markdown",
      "source": [
        "__Variável__: é um objeto localizado na memória da máquina, capaz de armazenar dados para representar um valor ou uma função (expressão) através de um __nome__.\n",
        "\n",
        "Em Python, temos três tipo:\n",
        "*   Numérico\n",
        "*   Texto ou *string*\n",
        "*   Lógico ou *booleano*\n",
        "\n",
        "**Observações Importantes**\n",
        "* Em Python não há a necessidade especificar que tipo uma variável deve ser, pois a própria linguagem reconhece o tipo de acordo com o valor atribuído.\n",
        "* Python é Case Sensitive, ou seja, diferencia letras maiúsculas de minúsculas.\n",
        "* Para definirmos o nome de variáveis, temos que iniciar utilizando um caractere que esteja no intervalo de `a` à `z` ou `A` à `Z` e de `0` a `9`. A única exceção a esta regra é o caractere underscore \"`_`\".\n",
        "* Podemos utilizar números, desde que seja o segundo caractere da sequência.\n",
        "* Também é desejável e prudente que os nomes tenham relação com o seu significado."
      ],
      "metadata": {
        "id": "K42dm9TsdHmt"
      }
    },
    {
      "cell_type": "markdown",
      "source": [
        "#introdução ao phyton\n",
        "\n"
      ],
      "metadata": {
        "id": "yBGgVaH7qzqw"
      }
    },
    {
      "cell_type": "code",
      "source": [
        "# isso é um comentário e por isso nmão executa nada\n",
        "\n",
        "#variaveis numericas : (o proprio app descobre sozinho qual tipo é)\n",
        "# 1 - int: numero inteiro\n",
        "# 2 - float: ponto flutuante (real)"
      ],
      "metadata": {
        "id": "LyUNGL2hbNRz"
      },
      "execution_count": null,
      "outputs": []
    },
    {
      "cell_type": "markdown",
      "source": [
        "#declarando variaveis"
      ],
      "metadata": {
        "id": "nRztqqreq7VK"
      }
    },
    {
      "cell_type": "code",
      "source": [
        "x = 10 # int\n",
        "y = 7.3 # float"
      ],
      "metadata": {
        "id": "rkt5P_vZe8lY"
      },
      "execution_count": null,
      "outputs": []
    },
    {
      "cell_type": "markdown",
      "source": [
        "#mostrando na tela"
      ],
      "metadata": {
        "id": "1me1uHExrNz1"
      }
    },
    {
      "cell_type": "code",
      "source": [
        "# mostrando valores através do comando print()\n",
        "print(x)\n",
        "print(y)"
      ],
      "metadata": {
        "id": "yMHbxKCQg9dN"
      },
      "execution_count": null,
      "outputs": []
    },
    {
      "cell_type": "code",
      "source": [
        "# outra forma de mostrar valores\n",
        "print(x, y) # cada parametro deve ser separado por virgula"
      ],
      "metadata": {
        "id": "7ngjkuzChgpF"
      },
      "execution_count": null,
      "outputs": []
    },
    {
      "cell_type": "markdown",
      "source": [
        "#pulando uma linha"
      ],
      "metadata": {
        "id": "PlcKIDyErTU0"
      }
    },
    {
      "cell_type": "code",
      "source": [
        "#\"\\n\" pula linha\n",
        "print(x, \"\\n\", y)"
      ],
      "metadata": {
        "id": "KGtdhRYiiN73"
      },
      "execution_count": null,
      "outputs": []
    },
    {
      "cell_type": "markdown",
      "source": [
        "#Mostrando tipo de variavel"
      ],
      "metadata": {
        "id": "nF0VySv9rXr4"
      }
    },
    {
      "cell_type": "code",
      "source": [
        "# descobrir o tipo de dados de uma variavel\n",
        "print(type(x),x)\n",
        "print(type(y), y)"
      ],
      "metadata": {
        "id": "bJ8ZwCiYiVBY"
      },
      "execution_count": null,
      "outputs": []
    },
    {
      "cell_type": "code",
      "source": [
        "#melhorando a apresentação\n",
        "print('O valor de x é:', x, type(x))"
      ],
      "metadata": {
        "id": "vrvwpLihi6Lw"
      },
      "execution_count": null,
      "outputs": []
    },
    {
      "cell_type": "markdown",
      "source": [
        "#convertendo valores em string"
      ],
      "metadata": {
        "id": "D3BEbRz5rp1y"
      }
    },
    {
      "cell_type": "code",
      "source": [
        "# codificar uma saida desta forma \n",
        "## O valor de \"x\" é 10 e o seu tipo é <class 'int'> 10\n",
        "# Obs: o str() coonverte qualquer valor numerico em \"string\"\n",
        "print('O valor de x é ' + str(x) + ' e o seu tipo é ' + str(type(x)))"
      ],
      "metadata": {
        "id": "0elD8axQjL3j"
      },
      "execution_count": null,
      "outputs": []
    },
    {
      "cell_type": "markdown",
      "source": [
        "#Usando variaveis string"
      ],
      "metadata": {
        "id": "pA6Qw4Rsrvlo"
      }
    },
    {
      "cell_type": "code",
      "source": [
        "# Variáveis string - devem estar envolvidas por aspas, podendo ser simples ou dupla\n",
        "curso = 'Ciências da Computação'\n",
        "disciplina = \"Ciência de Dados\"\n",
        "ano = '2022'\n",
        "\n",
        "print(curso, type(curso))\n",
        "print(disciplina, type(disciplina))\n",
        "print(ano, type(ano))"
      ],
      "metadata": {
        "id": "tL_taQZljt50"
      },
      "execution_count": null,
      "outputs": []
    },
    {
      "cell_type": "code",
      "source": [
        "# outro exemplo \n",
        "nome = 'Edson Melo tem'\n",
        "idade = 51\n",
        "complemento = 'anos'\n",
        "print(nome, idade, complemento)"
      ],
      "metadata": {
        "id": "20mKsG9Gkq0t"
      },
      "execution_count": null,
      "outputs": []
    },
    {
      "cell_type": "markdown",
      "source": [
        "#mostrando numeros depois da virgula"
      ],
      "metadata": {
        "id": "N4o68ag2r66A"
      }
    },
    {
      "cell_type": "code",
      "source": [
        "# formatação mais rebuscada\n",
        "# %0.2f mostra mais casas depois da virgula dependendo do numero que no caso esta 2\n",
        "print(\"O valor da variavel 'y' é %.02f\" %y)"
      ],
      "metadata": {
        "id": "1O05Ktq9lF9j"
      },
      "execution_count": null,
      "outputs": []
    },
    {
      "cell_type": "markdown",
      "source": [
        "# Operadores Aritméticos\n",
        "\n",
        "| Operação      | Operador |\n",
        "|---------------|:--------:|\n",
        "| Adição        |     +    |\n",
        "| Subtração     |     -    |\n",
        "| Multiplicação |     *    |\n",
        "| Divisão       |     /    |\n",
        "| Exponenciação |    **    |\n",
        "| Parte Inteira |    //    |\n",
        "| Módulo        |     %    |"
      ],
      "metadata": {
        "id": "yVI3H3jEmGSk"
      }
    },
    {
      "cell_type": "code",
      "source": [
        "a = 5 \n",
        "b = 7\n",
        "print(\"+\", a+b)\n",
        "print(\"-\", a-b)\n",
        "print(\"*\", a*b)\n",
        "print(\"/\", a/b)\n",
        "print(\"**\", a**b)\n",
        "print(\"//\", a//b)\n",
        "print(\"%\", a%b) # resto da divisão \n"
      ],
      "metadata": {
        "id": "DJsikRGplsSA"
      },
      "execution_count": null,
      "outputs": []
    },
    {
      "cell_type": "code",
      "source": [
        "# Exercício\n",
        "# Utilizando variáveis, faça um script para realizar o seguinte cálculo:\n",
        "# result = 10 + 20 -30 + (45*3)/8**2\n",
        "a = 10\n",
        "b = 20\n",
        "c = 30\n",
        "d = 45\n",
        "e = 3\n",
        "f = 8 \n",
        "g = 2\n",
        "print('o resultado do calculo é:', a+b-c+(d*e)/f**g)"
      ],
      "metadata": {
        "id": "iCSOZ10HnBG6"
      },
      "execution_count": null,
      "outputs": []
    },
    {
      "cell_type": "code",
      "source": [
        "#verdadeiro e falso\n",
        "print(x > y)\n",
        "print(x < y)"
      ],
      "metadata": {
        "id": "aWt4mS6WoXgk"
      },
      "execution_count": null,
      "outputs": []
    },
    {
      "cell_type": "markdown",
      "source": [
        "### **Operadores Lógicos**\n",
        "\n",
        "Esses operadores permitem unir 2 expressões ligando-as com os conectivos lógicos matemáticos e são:\n",
        "\n",
        "| Operador Lógico \t| Função    \t| Prioridade \t|\n",
        "|-----------------\t|-----------\t|:----------:\t|\n",
        "| NOT             \t| Negação   \t|      1     \t|\n",
        "| AND             \t| Conjunção \t|      2     \t|\n",
        "| OR              \t| Disjunção \t|      3     \t|"
      ],
      "metadata": {
        "id": "2iJIoiRSqiTE"
      }
    },
    {
      "cell_type": "code",
      "source": [
        "a = 1\n",
        "b = 5\n",
        "c = 2\n",
        "d = 6\n",
        "print((a >1) and (c < 3)) # os 2 precisam ser verdadeiros\n",
        "print((b <d) or (a > 1)) # um dos dois precisa ser verdadeiros\n",
        "print(not (c > d) and (d == b)) # precisa ser falso para dar verdadeiro"
      ],
      "metadata": {
        "id": "BL0_U1JKqRA7"
      },
      "execution_count": null,
      "outputs": []
    },
    {
      "cell_type": "markdown",
      "source": [
        "# Leitura de teclado (pede entrada de dados)\n",
        "A função utilizada para isso é o input()\n"
      ],
      "metadata": {
        "id": "EefrMZuMscDZ"
      }
    },
    {
      "cell_type": "code",
      "source": [
        "entrada = input('Digite um nome:')\n",
        "print('Olá', entrada)"
      ],
      "metadata": {
        "id": "51HCBLcBsK54"
      },
      "execution_count": null,
      "outputs": []
    },
    {
      "cell_type": "code",
      "source": [
        "# Atenção: para manipular leitura de números é preciso converter\n",
        "entrada = input('Digite um valor:')\n",
        "print('Olá', entrada, type(entrada))"
      ],
      "metadata": {
        "id": "5Rk7JN9etGSO"
      },
      "execution_count": null,
      "outputs": []
    },
    {
      "cell_type": "markdown",
      "source": [
        "#fazendo calculo pedindo numeros para usuario\n",
        "\n",
        "# Atenção: para manipular leitura de números é preciso converter\n",
        "\n",
        "#converteremos usando int\n",
        "\n",
        "#pode-se converter tanto assim:valor1 = int(input('Digite o valor 1:'))\n",
        "#como assim: print(valor1 * int(valor2))"
      ],
      "metadata": {
        "id": "zqe9qHtVuL4L"
      }
    },
    {
      "cell_type": "code",
      "source": [
        "valor1 = int(input('Digite o valor 1:'))\n",
        "valor2 = input('Digite o valor 2:')\n",
        "print(valor1 * int(valor2))"
      ],
      "metadata": {
        "id": "743Utr2otmfi"
      },
      "execution_count": null,
      "outputs": []
    },
    {
      "cell_type": "markdown",
      "source": [
        "# Exercícios de Fixação\n",
        "1) Implemente um programa que escreve na tela a frase \"Meu primeiro programa em Python!!!\".\n",
        "\n",
        "2) Você foi contratado por uma escola pra fazer o sistema de boletim dos alunos. Como primeiro passo, escreva um programa que produza a seguinte saída (Não é necessário manter o alinhamento):\n",
        "\n",
        "| Aluno(a)        \t|  Nota \t|\n",
        "|-----------------\t|------:\t|\n",
        "| Ana Maria       \t|  9.00 \t|\n",
        "| José Carlos     \t|  7.20 \t|\n",
        "| Júlio Martins   \t|  8.00 \t|\n",
        "| Ubiratan Santos \t| 10.00 \t|\n",
        "\n",
        "3) Calcule o **delta** da equação a seguir, realizando a entrada dos valores de (a, b e c) pelo teclado.\n",
        "\n",
        "Exemplo: $x^2 + 12x - 13 = 0$ (a=1, b=12 e c=-13).\n",
        "\n",
        "\n",
        "$\\Delta = b^2 - 4 * a * c$"
      ],
      "metadata": {
        "id": "Q86QNJTdvCb9"
      }
    },
    {
      "cell_type": "code",
      "source": [
        "# exercicio 1\n",
        "print('Meu primeiro programa em Phyton')"
      ],
      "metadata": {
        "id": "DubbAwwfuJf6"
      },
      "execution_count": null,
      "outputs": []
    },
    {
      "cell_type": "code",
      "source": [
        "# exercicio 2\n",
        "print(\"Aluno\", \"Nota\")\n",
        "print(\"Ana Maria %.2f\" %9.0)\n",
        "print(\"José Carlos %.2f\" %7.2)\n",
        "print(\"Júlio Martins %.2f\" %8.0)\n",
        "print(\"Ubiratan Santos %.2f\" %10.0)"
      ],
      "metadata": {
        "id": "yHZ9tLFLvQuU"
      },
      "execution_count": null,
      "outputs": []
    },
    {
      "cell_type": "code",
      "source": [
        "# exercicio 3\n",
        "a = int(input('Digite o valor 1 : '))\n",
        "b = int(input('Digite o valor 2 : '))\n",
        "c = int(input('Digite o valor 3 : '))\n",
        "\n",
        "#print('Delta = ', b^2 - 4 * a * c) # minha resposta foi assim\n",
        "print('Delta = ', b**2 - 4 * a * c) # errei pois fiz ^ em vez de **"
      ],
      "metadata": {
        "id": "eWoIaW8Wvt6m"
      },
      "execution_count": null,
      "outputs": []
    },
    {
      "cell_type": "markdown",
      "source": [
        "#Aula 2 \n",
        "#Desvio Condicional e Laços de Repetição\n",
        "\n",
        "## _Atenção_: Python define \"bloco de código\" através da identação.\n",
        "\n"
      ],
      "metadata": {
        "id": "qt1kES0xcTsU"
      }
    },
    {
      "cell_type": "markdown",
      "source": [
        "Desvio Condicional (if-elif-else)\n"
      ],
      "metadata": {
        "id": "YasBuidYeTa6"
      }
    },
    {
      "cell_type": "code",
      "source": [
        "# desvio simples\n",
        "#if = se\n",
        "if (10 < 20):\n",
        "  print('Instruçoes')\n",
        "    \n"
      ],
      "metadata": {
        "id": "BT52BDSkw16N"
      },
      "execution_count": null,
      "outputs": []
    },
    {
      "cell_type": "code",
      "source": [
        "#isso é errado\n",
        "if (10 < 20):\n",
        "print('instruçoes') # cuidado, perceba qua a linha deve estar indentada"
      ],
      "metadata": {
        "id": "wcilyNWsfMQ3"
      },
      "execution_count": null,
      "outputs": []
    },
    {
      "cell_type": "code",
      "source": [
        "#outro erro\n",
        "if (10 < 20) #não há os 2 pontos \n",
        " print('Instruçoes')"
      ],
      "metadata": {
        "id": "lmic6qwAfcCx"
      },
      "execution_count": null,
      "outputs": []
    },
    {
      "cell_type": "code",
      "source": [
        "a =10\n",
        "b = 20\n",
        "c = 30"
      ],
      "metadata": {
        "id": "Jmyh4KT9gEhx"
      },
      "execution_count": null,
      "outputs": []
    },
    {
      "cell_type": "code",
      "source": [
        "if a < b: #se a informação for falsa não printa a informaçao abaixo\n",
        "  print(a, 'é < que ', b)\n",
        "\n",
        "print('Executou o teste acima e finalizou aqui')"
      ],
      "metadata": {
        "id": "oA5_Yr41gOhf"
      },
      "execution_count": null,
      "outputs": []
    },
    {
      "cell_type": "code",
      "source": [
        "# desvio encadeado\n",
        "#else = se não\n",
        "if a > b:\n",
        "  print('é vedade')\n",
        "else:\n",
        "  print('é fake news')\n",
        "\n"
      ],
      "metadata": {
        "id": "k0B-8SJ_gf_j"
      },
      "execution_count": null,
      "outputs": []
    },
    {
      "cell_type": "code",
      "source": [
        "#mais um exemplo\n",
        "if (a < b):\n",
        "  if (a < c):\n",
        "    print('é verdade')\n",
        "  else:\n",
        "    print('fake news')\n",
        "else:\n",
        "    print('fake news')"
      ],
      "metadata": {
        "id": "GlGZkXbLjSl3"
      },
      "execution_count": null,
      "outputs": []
    },
    {
      "cell_type": "code",
      "source": [
        "# if = se (condition)\n",
        "# elif = se não se\n",
        "#else = se não\n",
        "if a < b:\n",
        "  print('a < b')\n",
        "elif b < c:\n",
        "  print('b < c')\n",
        "else:\n",
        "  print('n.d.a')"
      ],
      "metadata": {
        "id": "27TLSWw9j7lj"
      },
      "execution_count": null,
      "outputs": []
    },
    {
      "cell_type": "markdown",
      "source": [
        "Faça um programa que leia o peso e a altura de uma pessoa, calcule o seu IMC e mostre o seu estado nutricional. \n",
        "\n",
        "**Observações:**\n",
        "* Utilizar *if-elif-else*\n",
        "* O IMC deverá conter apenas duas casas decimais\n",
        "<br><br>\n",
        "\n",
        "<center>\n",
        "Equação para o cálculo\n",
        "<br><br> \n",
        "$\n",
        "\\large IMC = \\frac{peso}{altura^2}\n",
        "$\n",
        "<br><br>\n",
        "<strong>Tabela do Estado Nutricional</strong>\n",
        "</center>\n",
        "\n",
        "| IMC               | Resultado        |\n",
        "|-------------------|------------------|\n",
        "| Menos do que 18,5 | Abaixo do peso   |\n",
        "| Entre 18,5 e 24,9 | Peso normal      |\n",
        "| Entre 25 e 29,9   | Sobrepeso        |\n",
        "| Entre 30 e 34,9   | Obesidade grau 1 |\n",
        "| Entre 35 e 39,9   | Obesidade grau 2 |\n",
        "| Mais do que 40    | Obesidade grau 3 |"
      ],
      "metadata": {
        "id": "Fa53emzMl2I_"
      }
    },
    {
      "cell_type": "code",
      "source": [
        "peso = float(input('Digite peso:'))\n",
        "altura = float(input('Digite altura:'))\n",
        "imc = peso / (altura * altura)\n",
        "print('IMC: ', imc)\n",
        "\n",
        "status = ''\n",
        "if imc <= 18.5:\n",
        "    status = 'Abaixo do peso'\n",
        "elif (imc > 18.5 and imc < 24.9):\n",
        "    status = 'Peso normal'\n",
        "elif (imc > 25 and imc < 29.9):\n",
        "    status = 'Sobrepeso'\n",
        "elif (imc > 30 and imc < 34.9):\n",
        "    status = 'Obesidade grau 1'\n",
        "elif (imc > 35 and imc < 39.9):\n",
        "    status = 'Obesidade grau 2'\n",
        "else:\n",
        "    status = 'Obesidade grau 3'\n",
        " \n",
        "# função de aredondamento - round(valor, decimal)\n",
        "print('IMC:', round(imc, 2), '(', status, ')')"
      ],
      "metadata": {
        "id": "vhOkBPVHkx5M"
      },
      "execution_count": null,
      "outputs": []
    },
    {
      "cell_type": "markdown",
      "source": [
        "# Estrutura de repetição ``for``\n",
        "\n",
        "```\n",
        "for variável condição:\n",
        "    <instruções>\n",
        "```"
      ],
      "metadata": {
        "id": "BJQGQZjxqQCp"
      }
    },
    {
      "cell_type": "code",
      "source": [
        "# for com intervalo definido\n",
        "for i in range(1, 11):\n",
        "  print(i)"
      ],
      "metadata": {
        "id": "27l1_HE6lua6"
      },
      "execution_count": null,
      "outputs": []
    },
    {
      "cell_type": "code",
      "source": [
        "nome = 'O Edson é lindão, #SQN'"
      ],
      "metadata": {
        "id": "yqdNRIURsX4O"
      },
      "execution_count": null,
      "outputs": []
    },
    {
      "cell_type": "code",
      "source": [
        "for letra in nome:\n",
        "  print(letra)"
      ],
      "metadata": {
        "id": "7wS74seFsdZJ"
      },
      "execution_count": null,
      "outputs": []
    },
    {
      "cell_type": "code",
      "source": [
        "# Spolier\n",
        "# No Python temos o métodos split() para Strings.\n",
        "# Ele serve para separar \"pedaços\" de uma sequência com base em algum critério\n",
        "frase1 = 'Sou humilde, pois sou o melhor!!!'\n",
        "frase2 = 'Só não sou perfeito por quê sou humilde'\n",
        "print(frase1.split(' '))\n",
        "print(frase1.split(','))"
      ],
      "metadata": {
        "id": "594lZ0XEse7b"
      },
      "execution_count": null,
      "outputs": []
    },
    {
      "cell_type": "markdown",
      "source": [
        "# repetição while"
      ],
      "metadata": {
        "id": "nf1LdiGVtgq3"
      }
    },
    {
      "cell_type": "code",
      "source": [
        "#while = enquanto\n",
        "t = 1\n",
        "while t <= 10:\n",
        "  print(t)\n",
        "  t += 1 # operador de incremento como no JAVA\n",
        "print('Done!!!')"
      ],
      "metadata": {
        "id": "UXjHzm6OtZg-"
      },
      "execution_count": null,
      "outputs": []
    },
    {
      "cell_type": "markdown",
      "source": [
        "# Exercícios\n",
        "Elabore um programa que leia um número do teclado e apresente a sua tabuada."
      ],
      "metadata": {
        "id": "JL5NVKAKujJe"
      }
    },
    {
      "cell_type": "code",
      "source": [
        "tabuada = int(input('Digite qual tabuada deseja calcular\\n'))\n",
        "for n in range(1, 11):\n",
        "   # if (tabuada * n) % 2 != 0: #mostra somente numeros impares\n",
        "   if (tabuada * n):\n",
        "        print(tabuada, \"X\", n, \"=\", tabuada * n)"
      ],
      "metadata": {
        "id": "x26Jt-QPt_hk"
      },
      "execution_count": null,
      "outputs": []
    },
    {
      "cell_type": "code",
      "source": [
        "#outra forma \n",
        "cont = 1\n",
        "n = int(input(\"Digite qual tabuada quer: \"))\n",
        "\n",
        "while(cont <=10):\n",
        "    print(cont,\"* \",n,\" =\", (cont * n))\n",
        "    cont = cont + 1\n",
        "else:\n",
        "    print(\"\\nTabuada calculada com sucesso!\")"
      ],
      "metadata": {
        "id": "Tfl2PUrzuwmb"
      },
      "execution_count": null,
      "outputs": []
    },
    {
      "cell_type": "markdown",
      "source": [
        "# Estrutura de Dados: ``list``\n",
        "\n",
        "Lista ou ``list`` é uma estrutura de dados que possui: __nenhum__, __um__ ou __mais__ itens que são ordenado internamente através de um índice. Este índice __sempre__ inicia em zero (0).\n",
        "\n",
        "Éuma estrutura flexível, oum seja, podemos adicionar, remover e alterar os valores contidos nela em __tempo de execução__.\n",
        "\n",
        "Em Python uma lista é representada por uma sequência de itens, separados por vírgula e dentro de __[]__ colchetes.\n",
        "\n",
        "Os tipos de dados aceitos são __dinâmicos__. Assim, podem aceitar múltiplos tipos dentro de uma mesma lista."
      ],
      "metadata": {
        "id": "eA7x923ExLrG"
      }
    },
    {
      "cell_type": "code",
      "source": [
        "#Exemplos\n",
        "lista = []\n",
        "lista"
      ],
      "metadata": {
        "id": "-c2rdUW3w5U4"
      },
      "execution_count": null,
      "outputs": []
    },
    {
      "cell_type": "code",
      "source": [
        "nomes = ['Giovana', 'Francisco', 'Enrique', 'Edson', 'Jonas', 'Yuri']\n",
        "nomes"
      ],
      "metadata": {
        "id": "zdwWu_XryvRu"
      },
      "execution_count": null,
      "outputs": []
    },
    {
      "cell_type": "code",
      "source": [
        "lista_mista = ['Uninove', 3, 34.2, None, True]\n",
        "lista_mista"
      ],
      "metadata": {
        "id": "sLZO6mgEz5Cb"
      },
      "execution_count": null,
      "outputs": []
    },
    {
      "cell_type": "code",
      "source": [
        "# Acessando elementos de uma lista \n",
        "#lista[<indice>] - em Python o indice inicia em zero (0)\n",
        "nomes = ['Giovana', 'Francisco', 'Enrique', 'Edson', 'Jonas', 'Yuri']\n",
        "print(nomes[0]) # primeiro elemento\n",
        "print(nomes[3]) # quarto elemento"
      ],
      "metadata": {
        "id": "dNpnuuA70GbF"
      },
      "execution_count": null,
      "outputs": []
    },
    {
      "cell_type": "code",
      "source": [
        "#como mostrar todo o conteudo da lista um a um? \n",
        "for nome in nomes: #cada nome é colocado em uma variavel nomes por isso vai separado\n",
        "  print(nome)"
      ],
      "metadata": {
        "id": "k0G3s_yq0bh9"
      },
      "execution_count": null,
      "outputs": []
    },
    {
      "cell_type": "code",
      "source": [
        "# percorrendo a lista e mostrando a posição do 'elemento'\n",
        "for nome in nomes: # para cada nome em nomes quero que mestre onde nome esta contido e mostre nome\n",
        "  print('O indice ', nomes.index(nome),' é ', nome)"
      ],
      "metadata": {
        "id": "tb-iWQd506DM"
      },
      "execution_count": null,
      "outputs": []
    },
    {
      "cell_type": "code",
      "source": [
        "# Pertencimento: operadores\n",
        "#          0 1 2 3 4 o indice sempre começa do 0 e não do 1\n",
        "numeros = [1,2,3,4,5]\n",
        "print(3 in numeros)\n",
        "print(6 in numeros)\n",
        "print(7 not in numeros)"
      ],
      "metadata": {
        "id": "vV76wTcw1e4u"
      },
      "execution_count": null,
      "outputs": []
    },
    {
      "cell_type": "markdown",
      "source": [
        "#Operaçoes com Listas\n"
      ],
      "metadata": {
        "id": "amB2X8l430SZ"
      }
    },
    {
      "cell_type": "markdown",
      "source": [
        "#Adição de elementos "
      ],
      "metadata": {
        "id": "hDwrFahl4d7C"
      }
    },
    {
      "cell_type": "code",
      "source": [
        "# Adição/ inclusão de elementos (itens)\n",
        "cores = []\n",
        "cores.append('Azul')\n",
        "print(cores)"
      ],
      "metadata": {
        "id": "xrgjRWKD3JEo"
      },
      "execution_count": null,
      "outputs": []
    },
    {
      "cell_type": "code",
      "source": [
        "cores.append('Vermelha')\n",
        "cores.append('Branca')\n",
        "cores.append('Branca')\n",
        "cores.append('Azul')\n",
        "cores"
      ],
      "metadata": {
        "id": "RePKB0qO38yF"
      },
      "execution_count": null,
      "outputs": []
    },
    {
      "cell_type": "markdown",
      "source": [
        "#Remoção de elementos"
      ],
      "metadata": {
        "id": "Jf0pT6lJ4heK"
      }
    },
    {
      "cell_type": "code",
      "source": [
        "#remoção de itens\n",
        "cores.remove('Vermelha')\n",
        "cores"
      ],
      "metadata": {
        "id": "toVEEEp74Sow"
      },
      "execution_count": null,
      "outputs": []
    },
    {
      "cell_type": "markdown",
      "source": [
        "#contando itens de uma lista\n"
      ],
      "metadata": {
        "id": "0n-h9UUz5b9_"
      }
    },
    {
      "cell_type": "code",
      "source": [
        "#contando um item especifico\n",
        "cores.count('Azul')"
      ],
      "metadata": {
        "id": "BFcGsmDj4qR8"
      },
      "execution_count": null,
      "outputs": []
    },
    {
      "cell_type": "code",
      "source": [
        "# descobrir o \"comprimento\" ou total de elementos/itens de uma lista\n",
        "len(cores)"
      ],
      "metadata": {
        "id": "U2NAWjI854LX"
      },
      "execution_count": null,
      "outputs": []
    },
    {
      "cell_type": "code",
      "source": [
        ""
      ],
      "metadata": {
        "id": "xyU5tjNM6Qha"
      },
      "execution_count": null,
      "outputs": []
    },
    {
      "cell_type": "markdown",
      "source": [
        "# aula 3\n",
        "# estrutura de dados \n",
        "## Listas (_``list``_)\n"
      ],
      "metadata": {
        "id": "G2lvBBedhXmu"
      }
    },
    {
      "cell_type": "code",
      "source": [
        "# Relembrando\n",
        "x = 10\n",
        "\n",
        "# Como saber o tipo do dado armazenado na variável x?\n",
        "print(type(x))"
      ],
      "metadata": {
        "id": "oYJb-pxchqVN"
      },
      "execution_count": null,
      "outputs": []
    },
    {
      "cell_type": "markdown",
      "source": [
        "#Lista com tipos de dados diferentes"
      ],
      "metadata": {
        "id": "MPeDI0ftlhOk"
      }
    },
    {
      "cell_type": "code",
      "source": [
        "# Declaração de uma variável do tipo lista\n",
        "lista = []"
      ],
      "metadata": {
        "id": "Avn215ZckGee"
      },
      "execution_count": null,
      "outputs": []
    },
    {
      "cell_type": "code",
      "source": [
        "lista"
      ],
      "metadata": {
        "id": "NxcnF3pxkJF-"
      },
      "execution_count": null,
      "outputs": []
    },
    {
      "cell_type": "code",
      "source": [
        "print(type(lista))"
      ],
      "metadata": {
        "id": "heeaumSdkLEe"
      },
      "execution_count": null,
      "outputs": []
    },
    {
      "cell_type": "markdown",
      "source": [
        "# String"
      ],
      "metadata": {
        "id": "tU3RKdTilouW"
      }
    },
    {
      "cell_type": "code",
      "source": [
        "# Ex. 1 - lista com dados tipo String\n",
        "nomes = ['Edson','Tio Patinhas','Ze carioca','Pica pau']\n",
        "print(nomes)"
      ],
      "metadata": {
        "id": "sikiz-zvkM2U"
      },
      "execution_count": null,
      "outputs": []
    },
    {
      "cell_type": "code",
      "source": [
        "# Qual o tipo de dado que será mostrado com o type(nomes)?\n",
        "print(type(nomes))"
      ],
      "metadata": {
        "id": "4N2awH0tkrU_"
      },
      "execution_count": null,
      "outputs": []
    },
    {
      "cell_type": "markdown",
      "source": [
        "# variado = int , string, float etc..."
      ],
      "metadata": {
        "id": "onMhwZgvlrMo"
      }
    },
    {
      "cell_type": "code",
      "source": [
        "# Ex. 2 -= Lista variada\n",
        "aluno = [123, 'Edson',109.2,None,True]\n",
        "aluno"
      ],
      "metadata": {
        "id": "B1wWSizpk7Ld"
      },
      "execution_count": null,
      "outputs": []
    },
    {
      "cell_type": "code",
      "source": [
        "print(type(aluno))"
      ],
      "metadata": {
        "id": "7abqmb3IlN9X"
      },
      "execution_count": null,
      "outputs": []
    },
    {
      "cell_type": "code",
      "source": [
        "# Acessar elementos de uma lista\n",
        "# basta usar o indice da lista (sempre inicia-se em zero)\n",
        "#         0       1     2    3     4\n",
        "aluno = [123, 'Edson',109.2,None,True]\n",
        "\n",
        "print(aluno[1]) #Edson\n",
        "print(aluno[3]) #None"
      ],
      "metadata": {
        "id": "OPtTrSMplQ2u"
      },
      "execution_count": null,
      "outputs": []
    },
    {
      "cell_type": "code",
      "source": [
        "# Se sabemos acessar um item pelo indice, então como percorrer uma lista ?\n",
        "for var in aluno:\n",
        "  print(var)"
      ],
      "metadata": {
        "id": "WlTAbH9_mKgg"
      },
      "execution_count": null,
      "outputs": []
    },
    {
      "cell_type": "markdown",
      "source": [
        "## Mostrar qual o tipo de dados de cada um dos itens da lista"
      ],
      "metadata": {
        "id": "Laxo6cgHnxi-"
      }
    },
    {
      "cell_type": "code",
      "source": [
        "# atividade para treino\n",
        "# mostrar qual tipo de dados de cada um dos itens da lista \n",
        "\n",
        "for x in aluno:\n",
        "  print(type(x))"
      ],
      "metadata": {
        "id": "7kE4h2Vgm7nz"
      },
      "execution_count": null,
      "outputs": []
    },
    {
      "cell_type": "markdown",
      "source": [
        "## Mostrar o indice e o valor de cada entrada da lista aluno "
      ],
      "metadata": {
        "id": "c7D8T0YloM9P"
      }
    },
    {
      "cell_type": "code",
      "source": [
        "# Mostrar o indice e o valor de cada entrada da lista aluno \n",
        "for var in aluno:\n",
        "  print('Índice:', aluno.index(var), var)"
      ],
      "metadata": {
        "id": "J71x-H3JnVJH"
      },
      "execution_count": null,
      "outputs": []
    },
    {
      "cell_type": "code",
      "source": [
        "# Forma alternativa seria com um contador"
      ],
      "metadata": {
        "id": "km1FZt5joCUF"
      },
      "execution_count": null,
      "outputs": []
    },
    {
      "cell_type": "markdown",
      "source": [
        "# Operações com listas"
      ],
      "metadata": {
        "id": "uu1J2sCLpuuW"
      }
    },
    {
      "cell_type": "code",
      "source": [
        "lista = []"
      ],
      "metadata": {
        "id": "8KVZLL-YpawU"
      },
      "execution_count": null,
      "outputs": []
    },
    {
      "cell_type": "code",
      "source": [
        "# Adicionar via .append(value)\n",
        "# add = append\n",
        "lista.append('banana')\n",
        "lista.append('abacaxi')\n",
        "lista"
      ],
      "metadata": {
        "id": "0SulzjuPp5KT"
      },
      "execution_count": null,
      "outputs": []
    },
    {
      "cell_type": "markdown",
      "source": [
        "#inserir em posição especifica (no indice que quiser) ``.insert()``"
      ],
      "metadata": {
        "id": "sdVOKQdoqj5B"
      }
    },
    {
      "cell_type": "code",
      "source": [
        "# Adicionar via insert(index, value) - insere em uma posição especifica\n",
        "#colocar maça entre banana e abacaxi\n",
        "lista.insert(1, 'maça')\n",
        "lista"
      ],
      "metadata": {
        "id": "HXHwT9L5qU6k"
      },
      "execution_count": null,
      "outputs": []
    },
    {
      "cell_type": "markdown",
      "source": [
        "#remover item especifico ``.remove()``"
      ],
      "metadata": {
        "id": "SNYg4WKKrHWl"
      }
    },
    {
      "cell_type": "code",
      "source": [
        "# Remover um item especifico\n",
        "lista.remove('banana')\n",
        "lista"
      ],
      "metadata": {
        "id": "51fPbMaWqyHj"
      },
      "execution_count": null,
      "outputs": []
    },
    {
      "cell_type": "code",
      "source": [
        "lista.append('caqui')\n",
        "lista.append('cebola')\n",
        "lista.append('espinafre')\n",
        "lista"
      ],
      "metadata": {
        "id": "1Dxd5cnQrFTd"
      },
      "execution_count": null,
      "outputs": []
    },
    {
      "cell_type": "markdown",
      "source": [
        "#remoção do ultimo item da lista ``.pop()``"
      ],
      "metadata": {
        "id": "UFFAboSIsUDz"
      }
    },
    {
      "cell_type": "code",
      "source": [
        "# remoção do último indice (item) - pop()\n",
        "print(lista)\n",
        "lista.pop()\n",
        "print(lista)"
      ],
      "metadata": {
        "id": "S-B3i5EKsChq"
      },
      "execution_count": null,
      "outputs": []
    },
    {
      "cell_type": "code",
      "source": [
        "# remover com pop(index) \n",
        "lista.pop(1) #remove o indice 1\n",
        "lista"
      ],
      "metadata": {
        "id": "OuNfPNZksQvR"
      },
      "execution_count": null,
      "outputs": []
    },
    {
      "cell_type": "code",
      "source": [
        "alunos = ['joel','juan','gabriel','wellington','felipe','yuri']\n",
        "alunos"
      ],
      "metadata": {
        "id": "U0SeLY9wtYKZ"
      },
      "execution_count": null,
      "outputs": []
    },
    {
      "cell_type": "markdown",
      "source": [
        "## ordenação de lista ``.sort()``"
      ],
      "metadata": {
        "id": "6qHkWBOAu15_"
      }
    },
    {
      "cell_type": "code",
      "source": [
        "#ordenação de lista .sort()\n",
        "#             0       1      2            3           4      5\n",
        "# alunos = ['joel','juan','gabriel','wellington','felipe','yuri']\n",
        "alunos.sort()\n",
        "alunos\n",
        "#              0          1         2       3          4          5\n",
        "#          ['felipe', 'gabriel', 'joel', 'juan', 'wellington', 'yuri']"
      ],
      "metadata": {
        "id": "bR7pbrJLuCz3"
      },
      "execution_count": null,
      "outputs": []
    },
    {
      "cell_type": "code",
      "source": [
        "alunos.pop(1)\n",
        "alunos"
      ],
      "metadata": {
        "id": "oaXrS3zLuZkk"
      },
      "execution_count": null,
      "outputs": []
    },
    {
      "cell_type": "markdown",
      "source": [
        "#``.sort()`` só trabalha com ``string``"
      ],
      "metadata": {
        "id": "TjhjMfwWvIg-"
      }
    },
    {
      "cell_type": "code",
      "source": [
        "mix = ['123','edson','maria','true','zezinho','512','1.78']\n",
        "mix.sort()\n",
        "mix"
      ],
      "metadata": {
        "id": "Xg_7CyS6uxHf"
      },
      "execution_count": null,
      "outputs": []
    },
    {
      "cell_type": "code",
      "source": [
        "inteiro = [1,56,-19]\n",
        "inteiro.sort()\n",
        "inteiro"
      ],
      "metadata": {
        "id": "WPrH6nJFviNL"
      },
      "execution_count": null,
      "outputs": []
    },
    {
      "cell_type": "code",
      "source": [
        "x = [True,False,False,not True]\n",
        "x.sort()\n",
        "x"
      ],
      "metadata": {
        "id": "zyeKKXKZvsxB"
      },
      "execution_count": null,
      "outputs": []
    },
    {
      "cell_type": "markdown",
      "source": [
        "# Ordem reversa - ``.reverse()``"
      ],
      "metadata": {
        "id": "Lbimhw6KwNWQ"
      }
    },
    {
      "cell_type": "code",
      "source": [
        "# Ordem reversa - reverse\n",
        "alunos = ['joel','juan','gabriel','wellington','felipe','yuri']\n",
        "print(alunos)"
      ],
      "metadata": {
        "id": "mQVZ0mj0v2mC"
      },
      "execution_count": null,
      "outputs": []
    },
    {
      "cell_type": "code",
      "source": [
        "alunos.reverse()\n",
        "print(alunos)"
      ],
      "metadata": {
        "id": "mTRljErNwYNq"
      },
      "execution_count": null,
      "outputs": []
    },
    {
      "cell_type": "code",
      "source": [
        "#vendo indice e valor\n",
        "for var in alunos:\n",
        "  print('Índice:', alunos.index(var), var)"
      ],
      "metadata": {
        "id": "2dVEUkNywdUZ"
      },
      "execution_count": null,
      "outputs": []
    },
    {
      "cell_type": "markdown",
      "source": [
        "#mesclagem de listas"
      ],
      "metadata": {
        "id": "qoF6bWTVxH46"
      }
    },
    {
      "cell_type": "code",
      "source": [
        "lista1 = ['memorial','vergueiro','vilamaria']\n",
        "lista2 = ['santo amaro','bairi','vila prudente']"
      ],
      "metadata": {
        "id": "Ht-0wYH4w3DP"
      },
      "execution_count": null,
      "outputs": []
    },
    {
      "cell_type": "code",
      "source": [
        "# Ex. 1: junta as duas listas, mas não altera os conteudos \n",
        "print(lista1 + lista2)"
      ],
      "metadata": {
        "id": "EBZacddxxetD"
      },
      "execution_count": null,
      "outputs": []
    },
    {
      "cell_type": "code",
      "source": [
        "#junta as listas e altera o valor \n",
        "# Ex. 2: junta a lista 2 na lista 1\n",
        "lista1.extend(lista2)\n",
        "print(lista1)\n",
        "print(lista2)"
      ],
      "metadata": {
        "id": "EFIHBxUxxpkf"
      },
      "execution_count": null,
      "outputs": []
    },
    {
      "cell_type": "code",
      "source": [
        "print(lista1)"
      ],
      "metadata": {
        "id": "8sfClNODxzJj"
      },
      "execution_count": null,
      "outputs": []
    },
    {
      "cell_type": "markdown",
      "source": [
        "#Leia via teclado 10 entradas numéricas (inteiros) \"não repetidos\""
      ],
      "metadata": {
        "id": "XmY1kTvP1MxR"
      }
    },
    {
      "cell_type": "code",
      "source": [
        "# Atividade para esquentar\n",
        "# Leia via teclado 10 entradas numéricas (inteiros) \"não repetidos\"\n",
        "# Ao final mostrar os números lidos\n",
        "# Tempo: 10 minutos\n",
        "\n",
        "lista = []\n",
        "\n",
        "while len(lista)< 11: # lista menor que 11(não deixa passar de 10 indices)\n",
        " val = int(input('Digite o valor: '))\n",
        " if (val) not in lista: #se não estiver na lista\n",
        "  lista.append(val) #inserimos o número na lista\n",
        "  print(val, 'inserido na lista')\n",
        " else:\n",
        "   print(val, 'já foi inserido na lista anteriormente')\n",
        "  \n",
        "print(lista)"
      ],
      "metadata": {
        "id": "lvZS7fP2x5xM"
      },
      "execution_count": null,
      "outputs": []
    },
    {
      "cell_type": "markdown",
      "source": [
        "# Fatiamento de listas ou ``slice``"
      ],
      "metadata": {
        "id": "bIIJgzMz1fjC"
      }
    },
    {
      "cell_type": "code",
      "source": [
        "# o último indice é o tamanho da lista menos um -> len()-1\n",
        "lista = ['edson','ana','luiz','pedro','carol','tio patinhas','pica pau']\n",
        "len(lista)"
      ],
      "metadata": {
        "id": "j6Jue0S0z1qD"
      },
      "execution_count": null,
      "outputs": []
    },
    {
      "cell_type": "code",
      "source": [
        "#lista[inicio, fim, passo (numero de contagem)]\n",
        "#lista[start, stop, step]\n",
        "\n",
        "#forma 1\n",
        "print(lista[0:2])#começa no '0'edson para em '2'luiz\n",
        "# luiz não aparece pois termina nele \n",
        "print(lista[2:5])\n",
        "\n",
        "print(lista[3:]) #começa mo 3 e vai até o final\n",
        "print(lista[:3]) # começa no começoe vai até o 3\n",
        "\n",
        "print(lista[0::2])# pulando de 2 em 2 [onde começa:onde termina:quantos pula]"
      ],
      "metadata": {
        "id": "NEUolqtN1zHX"
      },
      "execution_count": null,
      "outputs": []
    },
    {
      "cell_type": "code",
      "source": [
        "#forma 2\n",
        "v1 = slice(3)\n",
        "print(v1)\n",
        "print(lista[v1])"
      ],
      "metadata": {
        "id": "eUEwz7nb2vOz"
      },
      "execution_count": null,
      "outputs": []
    },
    {
      "cell_type": "markdown",
      "source": [
        "#Operaçoes numericas em listas\n"
      ],
      "metadata": {
        "id": "Zkh4bC-y5dSH"
      }
    },
    {
      "cell_type": "markdown",
      "source": [
        "#maximo minimo e soma em uma lista"
      ],
      "metadata": {
        "id": "XJA9Pf8e6Bc5"
      }
    },
    {
      "cell_type": "code",
      "source": [
        "lista = [1,2,3,4,5,6,7,8,9,10]\n",
        "\n",
        "print('max:', max(lista))\n",
        "print('min:', min(lista))\n",
        "print('sum:', sum(lista))"
      ],
      "metadata": {
        "id": "nOx7JrEk4ks9"
      },
      "execution_count": null,
      "outputs": []
    },
    {
      "cell_type": "markdown",
      "source": [
        "# ATIVIDADE (Legalzinha)\n",
        "Elaborar um programa, utilizando todos os recursos aprendidos até o momento, que receba um conjunto de 10 entradas, contendo: nome, idade e peso.\n",
        "\n",
        "A saída deverá conter:\n",
        "*  Maior idade\n",
        "*  Menor idade\n",
        "*  Média das idades\n",
        "*  Média dos pesos"
      ],
      "metadata": {
        "id": "d2ls5jPE6f4j"
      }
    },
    {
      "cell_type": "code",
      "source": [
        "# Entrada\n",
        "\n",
        "# Edson, 49, 109\n",
        "# Maria, 35, 64\n",
        "# Jorge, 19, 95\n",
        "# Ana, 23, 48\n",
        "\n",
        "# Saída\n",
        "\n",
        "# Maior......: \n",
        "# Menor......: \n",
        "# Média idade: \n",
        "# Média peso.: "
      ],
      "metadata": {
        "id": "yqlj7rux755c"
      },
      "execution_count": null,
      "outputs": []
    },
    {
      "cell_type": "code",
      "source": [
        "# Resolução 1\n",
        "pessoas = [\n",
        "    ['Edson', 49, 114, 1.76],\n",
        "    ['Maria', 35, 64, 1.62],\n",
        "    ['Jorge', 18, 95, 1.84],\n",
        "    ['Ana', 23, 48, 1.52]\n",
        "]\n",
        "\n",
        "idades = []\n",
        "pesos = []\n",
        "for pessoa in pessoas:\n",
        "  idades.append(pessoa[1])\n",
        "  pesos.append(pessoa[2])\n",
        "\n",
        "print('Maior......:', max(idades))\n",
        "print('Menor......:', min(idades))\n",
        "print('Média idade:', sum(idades)/len(idades))\n",
        "print('Média pesos:', sum(pesos)/len(pessoas))"
      ],
      "metadata": {
        "id": "CtcRb1kT6dU0"
      },
      "execution_count": null,
      "outputs": []
    },
    {
      "cell_type": "code",
      "source": [
        "# Resolução 2\n",
        "pessoas = [\n",
        "    ['Edson', 49, 114, 1.76],\n",
        "    ['Maria', 35, 64, 1.62],\n",
        "    ['Jorge', 18, 95, 1.84],\n",
        "    ['Ana', 23, 48, 1.52]\n",
        "]\n",
        "\n",
        "quantidade = len(pessoas)\n",
        "valores = []\n",
        "\n",
        "for pessoa in pessoas:\n",
        "  valores.insert(0, pessoa[1])\n",
        "  valores.append(pessoa[2])\n",
        "\n",
        "print('Maior......:', max(valores[:quantidade]))\n",
        "print('Menor......:', min(valores[:quantidade]))\n",
        "print('Média idade:', sum(valores[:quantidade])/quantidade)\n",
        "print('Média pesos:', sum(valores[quantidade:])/quantidade)"
      ],
      "metadata": {
        "id": "Ba7t7_5wBQZm"
      },
      "execution_count": null,
      "outputs": []
    },
    {
      "cell_type": "code",
      "source": [
        ""
      ],
      "metadata": {
        "id": "jk5UuifzBvZX"
      },
      "execution_count": null,
      "outputs": []
    },
    {
      "cell_type": "markdown",
      "source": [
        "#outra aula 14-03-22"
      ],
      "metadata": {
        "id": "BXcj670wmkOx"
      }
    },
    {
      "cell_type": "code",
      "source": [
        ""
      ],
      "metadata": {
        "id": "cHkMlFFAmqBM"
      },
      "execution_count": null,
      "outputs": []
    },
    {
      "cell_type": "markdown",
      "source": [
        "# Dicionários (***dict***)\n",
        "* O dicionário é uma estrutura de dados similar as listas ou ao JSON (Javascript Object Notation), mas não ordenado. Sua estrutra é composta por <code>chave:valor</code>\n",
        "* Apesar de não ser ordenado, é indexado pela sua chave\n",
        "* Enquanto nas listas o delimitador são pares de colchetes, no dict são as chaves\n",
        "\n",
        "```\n",
        "dict = {\n",
        "  'chave1': 'valor1',\n",
        "  'chave2': 'valor2'\n",
        "}\n",
        "```"
      ],
      "metadata": {
        "id": "hSplGMGlmz5r"
      }
    },
    {
      "cell_type": "markdown",
      "source": [
        "#em um DICIONARIO são tudo chaves e não variaveis "
      ],
      "metadata": {
        "id": "Y0_EACKnrIdM"
      }
    },
    {
      "cell_type": "code",
      "source": [
        "#EX #em um DICIONARIO são tudo chaves e não variaveis \n",
        "dic = {\n",
        "    'ra': 123, #int\n",
        "    'nome': 'edson melo', #string\n",
        "    'idade': 51, #int\n",
        "    'curso': 'ciencias da computação', #string\n",
        "    'altura': 1.76 # float\n",
        "}"
      ],
      "metadata": {
        "id": "X4rBpmTGnFjK"
      },
      "execution_count": null,
      "outputs": []
    },
    {
      "cell_type": "code",
      "source": [
        "print(dic)"
      ],
      "metadata": {
        "id": "XiXs3tVooJ_p"
      },
      "execution_count": null,
      "outputs": []
    },
    {
      "cell_type": "code",
      "source": [
        "dic"
      ],
      "metadata": {
        "id": "Alrn4sVpoLxu"
      },
      "execution_count": null,
      "outputs": []
    },
    {
      "cell_type": "markdown",
      "source": [
        "# Operaçoes  com dicionarios"
      ],
      "metadata": {
        "id": "zgN-Wqoao15v"
      }
    },
    {
      "cell_type": "code",
      "source": [
        "# acessar valores\n",
        "# isto ocorre atravez das chaves \n",
        "print(dic['ra'])\n",
        "print(dic['nome'])"
      ],
      "metadata": {
        "id": "g5VkWCqconEI"
      },
      "execution_count": null,
      "outputs": []
    },
    {
      "cell_type": "markdown",
      "source": [
        "#.get('key')\n"
      ],
      "metadata": {
        "id": "WPvQdQTrqjuJ"
      }
    },
    {
      "cell_type": "code",
      "source": [
        "# Podemos tambem acessar um valor pelo metodo .get('key')\n",
        "print(dic.get('curso'))\n",
        "print(dic.get('idade'))"
      ],
      "metadata": {
        "id": "sw-GAuItpHQn"
      },
      "execution_count": null,
      "outputs": []
    },
    {
      "cell_type": "markdown",
      "source": [
        "#.items()"
      ],
      "metadata": {
        "id": "_KIMiNR0q4W7"
      }
    },
    {
      "cell_type": "code",
      "source": [
        "# Percorrer as chaves do dicionario para verificar os valores delas\n",
        "#Laço de repetição\n",
        "#Exixte um método dos dicionarios chamado .items() que permite acessar todos os itens de um dicionario\n",
        "for key, value in dic.items(): #retorna um par chave:valor\n",
        "  print(key, value)"
      ],
      "metadata": {
        "id": "bBUbrIoNpfES"
      },
      "execution_count": null,
      "outputs": []
    },
    {
      "cell_type": "markdown",
      "source": [
        "#.keys()"
      ],
      "metadata": {
        "id": "ipGYtzHFtE9U"
      }
    },
    {
      "cell_type": "code",
      "source": [
        "#outro metodo para acesso aos valores é o .keys()\n",
        "chaves = dic.keys()\n",
        "chaves\n",
        "#pega apenas a chave o valor não vem junto"
      ],
      "metadata": {
        "id": "EJmacgdQq2kP"
      },
      "execution_count": null,
      "outputs": []
    },
    {
      "cell_type": "markdown",
      "source": [
        "#as chaves sem o valor"
      ],
      "metadata": {
        "id": "OB2syOhPtsGk"
      }
    },
    {
      "cell_type": "code",
      "source": [
        "for key in chaves:\n",
        "  print(key)               #sem valor \n",
        "# print(key, dic.get(key)) #com valor"
      ],
      "metadata": {
        "id": "HwVmmVYos_Xb"
      },
      "execution_count": null,
      "outputs": []
    },
    {
      "cell_type": "markdown",
      "source": [
        "# as chaves com o valor"
      ],
      "metadata": {
        "id": "PuTEG5KQtvlk"
      }
    },
    {
      "cell_type": "code",
      "source": [
        "for key in chaves:\n",
        "  print(key, dic.get(key))"
      ],
      "metadata": {
        "id": "hlr8UA1StPPG"
      },
      "execution_count": null,
      "outputs": []
    },
    {
      "cell_type": "markdown",
      "source": [
        "#ou"
      ],
      "metadata": {
        "id": "G3-QnJlGukPg"
      }
    },
    {
      "cell_type": "code",
      "source": [
        "for key in chaves:\n",
        "  print(key, dic[key]) #apenas  dic[key] e não dic.get(key)"
      ],
      "metadata": {
        "id": "qMkQk-FftqbS"
      },
      "execution_count": null,
      "outputs": []
    },
    {
      "cell_type": "markdown",
      "source": [
        "#operaçoes em dicionarios "
      ],
      "metadata": {
        "id": "CbJ7GZR5v2vj"
      }
    },
    {
      "cell_type": "code",
      "source": [
        "#adicionar chaves:valores de duas formas diferentes\n",
        "#1. Usando a chave\n",
        "dic['av1'] = 8\n",
        "print(dic)"
      ],
      "metadata": {
        "id": "hyp6wRa4uoI3"
      },
      "execution_count": null,
      "outputs": []
    },
    {
      "cell_type": "markdown",
      "source": [
        "#.update()"
      ],
      "metadata": {
        "id": "74ZefT1Jw12s"
      }
    },
    {
      "cell_type": "code",
      "source": [
        "# 2. Usando o .update()\n",
        "# Neste caso, se achave não existir será criada, se não, será atualizada\n",
        "dic.update({'av2': 10})\n",
        "print(dic)"
      ],
      "metadata": {
        "id": "oycUCTZUwFu8"
      },
      "execution_count": null,
      "outputs": []
    },
    {
      "cell_type": "code",
      "source": [
        "# vamos atualizar um valor \n",
        "dic.update({'av1': 9.5})\n",
        "print(dic)"
      ],
      "metadata": {
        "id": "Gap-sbCYxAmp"
      },
      "execution_count": null,
      "outputs": []
    },
    {
      "cell_type": "code",
      "source": [
        "# podemos alterar/incluir varios valores de uma só vez \n",
        "dic.update({'av1': 6, 'av2':4,'av3':9})\n",
        "print(dic)"
      ],
      "metadata": {
        "id": "jVWd6iwWxQC7"
      },
      "execution_count": null,
      "outputs": []
    },
    {
      "cell_type": "code",
      "source": [
        "#removendo chaves/valores \n",
        "##ele remove a chave inteira e não só o valor\n",
        "del dic['av1']\n",
        "print(dic)"
      ],
      "metadata": {
        "id": "IlLFCznJxkiZ"
      },
      "execution_count": null,
      "outputs": []
    },
    {
      "cell_type": "code",
      "source": [
        "dic.values() #mostra valores"
      ],
      "metadata": {
        "id": "KY2Q-WVBxtPd"
      },
      "execution_count": null,
      "outputs": []
    },
    {
      "cell_type": "code",
      "source": [
        "dic.keys() # mostra chaves"
      ],
      "metadata": {
        "id": "ZNQtrpsTywVc"
      },
      "execution_count": null,
      "outputs": []
    },
    {
      "cell_type": "code",
      "source": [
        "# Como saber se uma chave existe ou não em um dicionario\n",
        "#in e not in\n",
        "print('av1' in dic) #av1 consta no dic #false\n",
        "print('nota' in dic) #nota consta ? #false\n",
        "print('salada' not in dic) #salada não consta ? #true "
      ],
      "metadata": {
        "id": "B4z0WMgHy2-W"
      },
      "execution_count": null,
      "outputs": []
    },
    {
      "cell_type": "markdown",
      "source": [
        "#dificultando com dicionario complexo"
      ],
      "metadata": {
        "id": "Up1jCYKH0By4"
      }
    },
    {
      "cell_type": "code",
      "source": [
        "# dicionario complexo\n",
        "#colocando mais de um aluno na lista\n",
        "alunos = [\n",
        "  {'ra': 123,'nome':'abc','curso':'si'},\n",
        "  {'ra': 345,'nome':'dfg','curso':'si'},\n",
        "  {'ra': 450,'nome':'fgh','curso':'tads'},\n",
        "]\n",
        "alunos\n",
        "#aluno ={\n",
        "#    'ra' : 123,\n",
        "#    'nome': 'abc',\n",
        "#    'curso': 'si'\n",
        "#}"
      ],
      "metadata": {
        "id": "rzM5jOSVzuwc"
      },
      "execution_count": null,
      "outputs": []
    },
    {
      "cell_type": "code",
      "source": [
        "# percorrendo os dados\n",
        "for dados in alunos:\n",
        "  print(dados) #busca todos os dados de alunos\n",
        "  #print(dados.get('ra')) #busca apenas por RA"
      ],
      "metadata": {
        "id": "m7fcsay_1X1R"
      },
      "execution_count": null,
      "outputs": []
    },
    {
      "cell_type": "code",
      "source": [
        "for dados in alunos:\n",
        "  for aluno in dados.keys():\n",
        "    print(aluno, dados[aluno])\n",
        "  print()                "
      ],
      "metadata": {
        "id": "UazlXbt01ofg"
      },
      "execution_count": null,
      "outputs": []
    },
    {
      "cell_type": "markdown",
      "source": [
        "#Tabela no dicionario"
      ],
      "metadata": {
        "id": "FdWF-FYI3i_2"
      }
    },
    {
      "cell_type": "code",
      "source": [
        "import pandas as pd\n",
        "pd.DataFrame(alunos)"
      ],
      "metadata": {
        "id": "PxeKPLo03QMc"
      },
      "execution_count": null,
      "outputs": []
    },
    {
      "cell_type": "markdown",
      "source": [
        "_____\n",
        "# Exercicios para fixação \n"
      ],
      "metadata": {
        "id": "QAkgbrkh3pD8"
      }
    },
    {
      "cell_type": "markdown",
      "source": [
        "1. Utilizando teclado, criar um dicionário que receba chave/valor digitado pelo usuário. Deverão ser lidas cinco entradas."
      ],
      "metadata": {
        "id": "vuYZ1EzH_bNW"
      }
    },
    {
      "cell_type": "code",
      "source": [
        "#resposta 1\n",
        "dic = {}\n",
        "\n",
        "while len(dic) < 5:\n",
        "  key = input('Key: ')\n",
        "  value = input('Value: ')\n",
        "  dic.update({key: value})\n",
        "print('CHAVE   | VALOR')\n",
        "print('-----------------')\n",
        "for key in dic:\n",
        "  value = dic[key]\n",
        "  print(key+' | '+value)\n"
      ],
      "metadata": {
        "id": "BdsWwzdC_d_-"
      },
      "execution_count": null,
      "outputs": []
    },
    {
      "cell_type": "markdown",
      "source": [
        "2. Utilizando os coneitos vistos até a aula de hoje, utilize os dados apresentados abaixo e mostre:\n",
        "*   Maior nota\n",
        "*   Menor nota\n",
        "*   Média das notas"
      ],
      "metadata": {
        "id": "QwVHfkUu_0Ef"
      }
    },
    {
      "cell_type": "code",
      "source": [
        "alunos = []\n",
        "alunos.append({'nome': 'Aluno 01', 'curso': 'Ciências da Computação', 'AV1':8 })\n",
        "alunos.append({'nome': 'Aluno 02', 'curso': 'Sistemas de Informação', 'AV1':7 })\n",
        "alunos.append({'nome': 'Aluno 03', 'curso': 'Sistemas de Informação', 'AV1':6 })\n",
        "alunos.append({'nome': 'Aluno 04', 'curso': 'Sistemas de Informação', 'AV1':6 })\n",
        "alunos.append({'nome': 'Aluno 05', 'curso': 'Sistemas de Informação', 'AV1':6 })\n",
        "alunos.append({'nome': 'Aluno 06', 'curso': 'Análise e Desenvolvimento de Sistemas', 'AV1':7 })\n",
        "alunos.append({'nome': 'Aluno 07', 'curso': 'Análise e Desenvolvimento de Sistemas', 'AV1':9 })\n",
        "alunos.append({'nome': 'Aluno 08', 'curso': 'Ciências da Computação', 'AV1':10 })\n",
        "alunos.append({'nome': 'Aluno 09', 'curso': 'Ciências da Computação', 'AV1':10 })\n",
        "alunos.append({'nome': 'Aluno 10', 'curso': 'Ciências da Computação', 'AV1':4 })\n",
        "alunos.append({'nome': 'Aluno 11', 'curso': 'Análise e Desenvolvimento de Sistemas', 'AV1':5 })\n",
        "alunos.append({'nome': 'Aluno 11', 'curso': 'Análise e Desenvolvimento de Sistemas', 'AV1':5 })\n",
        "alunos.append({'nome': 'Aluno 12', 'curso': 'Análise e Desenvolvimento de Sistemas', 'AV1':9 })\n",
        "alunos.append({'nome': 'Aluno 13', 'curso': 'Análise e Desenvolvimento de Sistemas', 'AV1':9 })\n",
        "alunos.append({'nome': 'Aluno 14', 'curso': 'Ciências da Computação', 'AV1': 7})\n",
        "alunos.append({'nome': 'Aluno 15', 'curso': 'Análise e Desenvolvimento de Sistemas', 'AV1':7})\n",
        "alunos.append({'nome': 'Aluno 16', 'curso': 'Ciências da Computação', 'AV1': 6})\n",
        "alunos.append({'nome': 'Aluno 17', 'curso': 'Análise e Desenvolvimento de Sistemas', 'AV1':8 })\n",
        "alunos.append({'nome': 'Aluno 18', 'curso': 'Ciências da Computação', 'AV1':4 })\n",
        "alunos.append({'nome': 'Aluno 19', 'curso': 'Sistemas de Informação', 'AV1':2 })\n",
        "alunos.append({'nome': 'Aluno 20', 'curso': 'Análise e Desenvolvimento de Sistemas', 'AV1':9 })"
      ],
      "metadata": {
        "id": "uTmBfYJj3hOO"
      },
      "execution_count": null,
      "outputs": []
    },
    {
      "cell_type": "code",
      "source": [
        "#resposta 2\n",
        "notas = [] #criou a lista notas\n",
        "\n",
        "for aluno in alunos: # vai pegar aluno em alunos\n",
        "  notas.append(aluno['AV1']) #pegar notas de aluno av1\n",
        "\n",
        "print('Maior nota: %d' % max(notas)) #maior nota \n",
        "print('Menor nota: %d' % min(notas)) #menor nota\n",
        "print('Média: %.2f' % (sum(notas)/len(notas))) #media das notas"
      ],
      "metadata": {
        "id": "2uKBSi5E4ix7"
      },
      "execution_count": null,
      "outputs": []
    },
    {
      "cell_type": "markdown",
      "source": [
        "# Outras opçoes de dicionario\n",
        "\n",
        "*lista dentro de dicionario\n",
        "\n",
        "\n",
        "\n"
      ],
      "metadata": {
        "id": "OQ4kJKEHBlFP"
      }
    },
    {
      "cell_type": "code",
      "source": [
        "estudantes = [\n",
        " {\n",
        "     'ra': 123,\n",
        "  'nome': 'edson',\n",
        "  'disciplinas': {\n",
        "      'numero': 123,\n",
        "      'professor': 'manoel'\n",
        "  }\n",
        " }   \n",
        "]\n",
        "print(estudantes) "
      ],
      "metadata": {
        "id": "h6QQQrrw8fLQ"
      },
      "execution_count": null,
      "outputs": []
    },
    {
      "cell_type": "markdown",
      "source": [
        "# Desafio para próxima aula\n",
        "Desenvolva um algoritmo que permita mostrar de uma só vez os resultados para os respectivos cursos"
      ],
      "metadata": {
        "id": "NxHMUodNEG1g"
      }
    },
    {
      "cell_type": "code",
      "source": [
        "sorted(list(set(cursos['curso'] for cursos in alunos)))"
      ],
      "metadata": {
        "id": "9eVhf6tMCNl5"
      },
      "execution_count": null,
      "outputs": []
    },
    {
      "cell_type": "markdown",
      "source": [
        "# Outra aula 21/03/22\n",
        "#aula sobre PANDAS\n",
        "#começando a trabalhar com dados"
      ],
      "metadata": {
        "id": "AjPqqOVyoQqW"
      }
    },
    {
      "cell_type": "markdown",
      "source": [
        "Pandas - Biblioteca para manipulação de dados"
      ],
      "metadata": {
        "id": "9j_NPEtwxtXQ"
      }
    },
    {
      "cell_type": "code",
      "source": [
        "# importar a biblioteca do Pandas\n",
        "import pandas as pd # pd é um apelido para a biblioteca\"pode colocar o apelido que \n",
        "#quiser mais por boas praticas fica pd\""
      ],
      "metadata": {
        "id": "d5OWG1M7EJci"
      },
      "execution_count": null,
      "outputs": []
    },
    {
      "cell_type": "code",
      "source": [
        "# importando dados (dataset) com o Pandas\n",
        "# df é uma referencia para \"DataFrame\"\n",
        "df_covid = pd.read_csv('/content/covid_19_data.csv') # _csv pois o arquivo é .csv\n",
        "\n",
        "#Carregar dados remotamente\n",
        "df_online = pd.read_csv('http://emsapi.esy.es/datasets/notas_alunos.csv')"
      ],
      "metadata": {
        "id": "ULXWHQ270q1o"
      },
      "execution_count": null,
      "outputs": []
    },
    {
      "cell_type": "code",
      "source": [
        "#verificando se o carregamento foi realizado com sucesso\n",
        "type(df_covid), type(df_online)"
      ],
      "metadata": {
        "id": "9ek3hT7J1iVi"
      },
      "execution_count": null,
      "outputs": []
    },
    {
      "cell_type": "markdown",
      "source": [
        "# Inspecionando o DataFrame\n",
        "Esta etapa é de fundamental importanciapara conhecermos os dados que temos em mãos. ou seja, \"com o que\" estamos lidando."
      ],
      "metadata": {
        "id": "BdU71kGM2gJ5"
      }
    },
    {
      "cell_type": "code",
      "source": [
        "# Descobrindo informaçoes sobre: colunas, tipos de dados, numero de linhas\n",
        "df_covid.info()"
      ],
      "metadata": {
        "id": "qsfv06NB1o69"
      },
      "execution_count": null,
      "outputs": []
    },
    {
      "cell_type": "code",
      "source": [
        "# Analisar os dados da variavel df_online\n",
        "# Tem algo de errado com os dados?\n",
        "df_online.info()"
      ],
      "metadata": {
        "id": "1iGpgdKU3Am_"
      },
      "execution_count": null,
      "outputs": []
    },
    {
      "cell_type": "code",
      "source": [
        "# Analisando quantidade de linhas e colunas \n",
        "df_covid.shape"
      ],
      "metadata": {
        "id": "l3M9UWw24Zkb"
      },
      "execution_count": null,
      "outputs": []
    },
    {
      "cell_type": "code",
      "source": [
        "print('Linhas: ', df_covid.shape[0])\n",
        "print('Colunas: ', df_covid.shape[1])"
      ],
      "metadata": {
        "id": "Nr3ZVKXR522-"
      },
      "execution_count": null,
      "outputs": []
    },
    {
      "cell_type": "code",
      "source": [
        "# Qual o nome das colunas ?\n",
        "df_covid.columns"
      ],
      "metadata": {
        "id": "PopkauN66FsX"
      },
      "execution_count": null,
      "outputs": []
    },
    {
      "cell_type": "code",
      "source": [
        "# Nome das colunas Usando as chaves (keys)\n",
        "df_covid.keys()"
      ],
      "metadata": {
        "id": "e1MZPMv06QT3"
      },
      "execution_count": null,
      "outputs": []
    },
    {
      "cell_type": "code",
      "source": [
        "#Mostrando as colunas empilhadas\n",
        "for keys in df_covid.columns:\n",
        "  print(keys)"
      ],
      "metadata": {
        "id": "MOp9Zem46dVJ"
      },
      "execution_count": null,
      "outputs": []
    },
    {
      "cell_type": "code",
      "source": [
        "for keys, v in df_covid.items():\n",
        "  print(keys)"
      ],
      "metadata": {
        "id": "_k6I6b0Y64Ap"
      },
      "execution_count": null,
      "outputs": []
    },
    {
      "cell_type": "code",
      "source": [
        "# Vamos olhar os dados de fato (uma fotografia)\n",
        "# .head() mostra as primeiras cinco ocorrencias dos dados\n",
        "df_covid.head()"
      ],
      "metadata": {
        "id": "wdlLre9T7HTe"
      },
      "execution_count": null,
      "outputs": []
    },
    {
      "cell_type": "code",
      "source": [
        "# . head(n) com uma variação de \"n\", mostra \"n\" observaçoes (linhas)\n",
        "df_covid.head(10)"
      ],
      "metadata": {
        "id": "XhSZnkZ_7ykt"
      },
      "execution_count": null,
      "outputs": []
    },
    {
      "cell_type": "code",
      "source": [
        "# Inverso ao .head(), .tail(n) mostra os dados do final\n",
        "df_covid.tail(3)"
      ],
      "metadata": {
        "id": "-dQjx2xU8LrC"
      },
      "execution_count": null,
      "outputs": []
    },
    {
      "cell_type": "code",
      "source": [
        "#Mostrando dados de forma aleatória \n",
        "df_covid.sample(3)"
      ],
      "metadata": {
        "id": "X7B70-eR8f6G"
      },
      "execution_count": null,
      "outputs": []
    },
    {
      "cell_type": "code",
      "source": [
        "# Resumindo\n",
        "# .info() e .head() mostra de forma geral um DataFrame"
      ],
      "metadata": {
        "id": "GzhUIEhR8yoq"
      },
      "execution_count": null,
      "outputs": []
    },
    {
      "cell_type": "markdown",
      "source": [
        "# Iniciando o tratamento dos dados \n",
        "## Remoção de dados (não interessantes)\n",
        "```\n",
        ".drop([columns], axis=, inplace=)\n",
        "```\n",
        "\n",
        "onde:\n",
        "\n",
        "* ``axis``:``0`` para linhas e ``1`` paracolunas\n",
        "*``inplace``:``True``, altera o DataFrame"
      ],
      "metadata": {
        "id": "ICCaFA_w9Toc"
      }
    },
    {
      "cell_type": "code",
      "source": [
        "df_covid.sample(5)"
      ],
      "metadata": {
        "id": "1fRpl98R9QTI"
      },
      "execution_count": null,
      "outputs": []
    },
    {
      "cell_type": "code",
      "source": [
        "#eliminado dados não importantes ##axis=1 vai apagar coluna no caso a coluna province/state\n",
        "df_covid.drop(['Province/State'], axis=1, inplace=True)\n",
        "df_covid # Mostra 5 primeiros e cinco ultimos registros"
      ],
      "metadata": {
        "id": "pIhL-xlf-iFB"
      },
      "execution_count": null,
      "outputs": []
    },
    {
      "cell_type": "code",
      "source": [
        "# Salvando dados processados por etapas\n",
        "df_covid.to_csv('covid_limpo.csv') # o arquivo vai para pasta ao lado do colab <----"
      ],
      "metadata": {
        "id": "dlI7Upnp-moo"
      },
      "execution_count": null,
      "outputs": []
    },
    {
      "cell_type": "code",
      "source": [
        "\n",
        "df_covid_limpo = pd.read_csv('/content/covid_limpo.csv')# ler a pasta covid_limpo\n",
        "df_covid_limpo #mostrar as 5 primeiras e 5 ultimas da tabela covid_limpo"
      ],
      "metadata": {
        "id": "95AXzo5-AhQE"
      },
      "execution_count": null,
      "outputs": []
    },
    {
      "cell_type": "code",
      "source": [
        "# Para treinar\n",
        "# 1. Ler o arquivo http://emsapi.esy.es/datasets/indice_alunos.xlsx\n",
        "# 2. Excluir uma coluna qualquer\n",
        "# 3. Salvar e carregar o novo arquivo"
      ],
      "metadata": {
        "id": "nIs_5I3WBS3y"
      },
      "execution_count": null,
      "outputs": []
    },
    {
      "cell_type": "code",
      "source": [
        "df_alunos = pd.read_excel('http://emsapi.esy.es/datasets/indice_alunos.xlsx')\n",
        "type(df_alunos)"
      ],
      "metadata": {
        "id": "049h9MG4Eg4X"
      },
      "execution_count": null,
      "outputs": []
    },
    {
      "cell_type": "code",
      "source": [
        "df_alunos.head(5) # "
      ],
      "metadata": {
        "id": "Rqhu2mznFdAj"
      },
      "execution_count": null,
      "outputs": []
    },
    {
      "cell_type": "code",
      "source": [
        "df_alunos.drop(['Indice5'], axis=1, inplace=True) #eliminou o indice 5"
      ],
      "metadata": {
        "id": "_6UXXPDqGX0a"
      },
      "execution_count": null,
      "outputs": []
    },
    {
      "cell_type": "code",
      "source": [
        "df_alunos.tail(3) #mostra os indices menos o 5 pois foi apagado"
      ],
      "metadata": {
        "id": "B_cG3PLSG7e9"
      },
      "execution_count": null,
      "outputs": []
    },
    {
      "cell_type": "code",
      "source": [
        "df_alunos.to_excel('alunos_limpo.xlsx') #salva a alteração "
      ],
      "metadata": {
        "id": "h1xOqH3HHM_l"
      },
      "execution_count": null,
      "outputs": []
    },
    {
      "cell_type": "markdown",
      "source": [
        "# Filtragem de Dados\n",
        "\n",
        "* `DataFrame['Coluna']` = retorna uma *Series*\n",
        "* `DataFrame[['Coluna']]` = retorna um *DataFrame*\n",
        "* `DataFrame[['Coluna_1, 'Coluna_2']]` = multíplas Colunas\n",
        "* `DataFrame.query()`"
      ],
      "metadata": {
        "id": "ZIYcbUEyDUPn"
      }
    },
    {
      "cell_type": "code",
      "source": [
        "# Selecionar uma coluna (Series)\n",
        "df_covid['Country/Region']"
      ],
      "metadata": {
        "id": "gHEYHtDbBwSU"
      },
      "execution_count": null,
      "outputs": []
    },
    {
      "cell_type": "code",
      "source": [
        "# Selecionar uma coluna (DataFrame) #unic diferença é a quatidade de \"[]\"\n",
        "df_covid[['Country/Region']].head() # sem o .head mostra bem mais"
      ],
      "metadata": {
        "id": "g1vLP6PVBzaP"
      },
      "execution_count": null,
      "outputs": []
    },
    {
      "cell_type": "code",
      "source": [
        "# e com mais colunas ?\n",
        "df_covid[['Country/Region', 'Confirmed', 'Deaths']].head()"
      ],
      "metadata": {
        "id": "NYW_zS_YD3GU"
      },
      "execution_count": null,
      "outputs": []
    },
    {
      "cell_type": "markdown",
      "source": [
        "# Exercício para fixação\n",
        "Refaça todos os passos anteriores, aplicando colunas e filtros diferentes.\n",
        "\n",
        "Sugestões de dados para treinar:\n",
        "\n",
        "*  df_1 = pd.read_csv('http://emsapi.esy.es/datasets/notas_alunos.csv')\n",
        "\n",
        "*  df_2 = pd.read_excel('http://emsapi.esy.es/datasets/indice_alunos.xlsx')"
      ],
      "metadata": {
        "id": "_z-6YPZuIfzp"
      }
    },
    {
      "cell_type": "code",
      "source": [
        "# .items() retorna um conjunto de chave (k), valor (v)\n",
        "\n",
        "for chave, valor in df_online.items():\n",
        "  print(chave, valor)"
      ],
      "metadata": {
        "id": "GC0RVMmkEZVR"
      },
      "execution_count": null,
      "outputs": []
    },
    {
      "cell_type": "markdown",
      "source": [
        "#Pandas Continuação"
      ],
      "metadata": {
        "id": "joWwSkU0rHi0"
      }
    },
    {
      "cell_type": "code",
      "source": [
        "# carregamento da biblioteca\n",
        "import pandas as pd"
      ],
      "metadata": {
        "id": "KRNQFqfirJt4"
      },
      "execution_count": null,
      "outputs": []
    },
    {
      "cell_type": "code",
      "source": [
        "#carregar os dados \n",
        "df = pd.read_csv('http://emsapi.esy.es/datasets/covid_19_data.csv')\n",
        "df.head()"
      ],
      "metadata": {
        "id": "r4Ow3UI-rwqL"
      },
      "execution_count": null,
      "outputs": []
    },
    {
      "cell_type": "markdown",
      "source": [
        "#index_col=0"
      ],
      "metadata": {
        "id": "JhjSG7Hdt_7E"
      }
    },
    {
      "cell_type": "code",
      "source": [
        "# carregando dados com um indice definido\n",
        "# index_col: define qual coluna será a coluno utilizada como índice\n",
        "df = pd.read_csv('http://emsapi.esy.es/datasets/covid_19_data.csv', index_col=0)\n",
        "df.head()"
      ],
      "metadata": {
        "id": "T906Tz8lsKaw"
      },
      "execution_count": null,
      "outputs": []
    },
    {
      "cell_type": "code",
      "source": [
        "#realizar a inspeção do DataFrame\n",
        "df.info()"
      ],
      "metadata": {
        "id": "RxzTI-q9tQE-"
      },
      "execution_count": null,
      "outputs": []
    },
    {
      "cell_type": "code",
      "source": [
        "# E SE QUISERMOS MOSTRAR APENAS A QUANTIDADE DE LINHAS E DE COLUNOA ?\n",
        "df.shape"
      ],
      "metadata": {
        "id": "V7Z3X-zJuNpb"
      },
      "execution_count": null,
      "outputs": []
    },
    {
      "cell_type": "code",
      "source": [
        "# e se quisermos mostrar 5 linhas aleatórias \n",
        "df.sample(5)"
      ],
      "metadata": {
        "id": "LZ32QXdQu0Op"
      },
      "execution_count": null,
      "outputs": []
    },
    {
      "cell_type": "code",
      "source": [
        "# e se precissar mostrar as cinco primeiras e as cinco ultimas \n",
        "df"
      ],
      "metadata": {
        "id": "NuQnwi71u9yv"
      },
      "execution_count": null,
      "outputs": []
    },
    {
      "cell_type": "markdown",
      "source": [
        "#.drop()\n",
        " vamos excluir a coluna Province/State, pois a ausencia de dados pode atrapalhar \n",
        " Para isso utilizamos o .drop()\n",
        "#inplace=False ou inplace=true\n",
        "inplace altera os dados originais do DataFrame (sem CTRL+Z)\n",
        "#axis=0 define que será excluida a linha, quando 1, a coluna"
      ],
      "metadata": {
        "id": "hLK8n0MmzQNU"
      }
    },
    {
      "cell_type": "code",
      "source": [
        "# Vamos excluir a coluna Province/State, pois a ausência de dados pode atrapalhar\n",
        "# Para isso, vamos usar o .drop()\n",
        "# inplace altera os dados originais do DataFrame (sem CTRL+Z)\n",
        "# axis=0 edfine que será excluída a linha, quando 1, a coluna\n",
        "\n",
        "df.drop(['Province/State'], axis=1, inplace=True)\n",
        "df.head(0) # quando n=0, mostra apenas o nome das colunas (horizontalmente)"
      ],
      "metadata": {
        "id": "bO6xXwBXvLPt"
      },
      "execution_count": null,
      "outputs": []
    },
    {
      "cell_type": "markdown",
      "source": [
        "# salvando conteudo para exel"
      ],
      "metadata": {
        "id": "1pO8cD024Fka"
      }
    },
    {
      "cell_type": "code",
      "source": [
        "# Salvando a etapa (fotografia) antes de continuar com as alteraçoes\n",
        "df.to_excel('/content/corona_sem_state.xlsx')\n",
        "## o index será apagado graças ao index=None"
      ],
      "metadata": {
        "id": "hszd39CgwuT2"
      },
      "execution_count": null,
      "outputs": []
    },
    {
      "cell_type": "code",
      "source": [
        "#fiz besteira // apagou a coisa errada (casos confirmados)\n",
        "df.drop(['Confirmed'], axis=1, inplace=True)\n",
        "df.head()"
      ],
      "metadata": {
        "id": "eKOHiLzM2Qke"
      },
      "execution_count": null,
      "outputs": []
    },
    {
      "cell_type": "code",
      "source": [
        "# Vamos carregar novamente pois na etapa anteriri errou !!! (recuperar casos confirmados)\n",
        "df = pd.read_excel('/content/corona_sem_state.xlsx', index_col=0)"
      ],
      "metadata": {
        "id": "2gzCv0H-3eUw"
      },
      "execution_count": null,
      "outputs": []
    },
    {
      "cell_type": "code",
      "source": [
        "df.head()"
      ],
      "metadata": {
        "id": "ftVy06F05hgT"
      },
      "execution_count": null,
      "outputs": []
    },
    {
      "cell_type": "code",
      "source": [
        "# Vamos agora apagar apenas uma linha do DataFrame\n",
        "df.drop(index=1, axis=0, inplace=True)\n",
        "df.head()"
      ],
      "metadata": {
        "id": "Un4z1BTo3ng9"
      },
      "execution_count": null,
      "outputs": []
    },
    {
      "cell_type": "markdown",
      "source": [
        "# Criação de _subsets_"
      ],
      "metadata": {
        "id": "sJV-ZnGH67sp"
      }
    },
    {
      "cell_type": "code",
      "source": [
        "# podemos criar uma lista de colunas e fornecer como parâmetro do DataFrame\n",
        "colunas = ['Country/Region', 'Confirmed', 'Deaths']\n",
        "df[colunas].head()"
      ],
      "metadata": {
        "id": "Dvcrfamm5OYJ"
      },
      "execution_count": null,
      "outputs": []
    },
    {
      "cell_type": "code",
      "source": [
        "# Vamos trinar um pouco\n",
        "#Crie tres subsets diferentes e salve-os em arquivos .CSV \n",
        "#df = pd.read.CSV('/content/corona_sem_state.xlsx')\n",
        "colunas = ['ObservationDate','Confirmed', 'Deaths']\n",
        "df[colunas].head()\n",
        "#só não salvei pois não sei"
      ],
      "metadata": {
        "id": "IzIyi4AM6956"
      },
      "execution_count": null,
      "outputs": []
    },
    {
      "cell_type": "code",
      "source": [
        "df.head(2)"
      ],
      "metadata": {
        "id": "-SLcfKDW8wAN"
      },
      "execution_count": null,
      "outputs": []
    },
    {
      "cell_type": "markdown",
      "source": [
        "#Criar uma nova coluna com um resultado calculado"
      ],
      "metadata": {
        "id": "AnhPTLhY9Tdx"
      }
    },
    {
      "cell_type": "code",
      "source": [
        "#Agregar dados no DataFrame com base em dados existentes\n",
        "#Criar uma nova coluna com um resultado calculado\n",
        "df['Confirmed + Deaths'] = df['Confirmed'] + df['Deaths']\n",
        "df.head()"
      ],
      "metadata": {
        "id": "wlYhWXLs8yJX"
      },
      "execution_count": null,
      "outputs": []
    },
    {
      "cell_type": "code",
      "source": [
        "# Crie uma nova coluna mostrando a relação entre mortes e casos confirmados\n",
        "df['Death by Cases'] = df['Deaths'] / df['Confirmed']\n",
        "df.sample(5)"
      ],
      "metadata": {
        "id": "GltRnEbO9NcS"
      },
      "execution_count": null,
      "outputs": []
    },
    {
      "cell_type": "code",
      "source": [
        "# como ocorreu uma divisão por zero (NaN) precisamos substituir o valor por zero\n",
        "#fillna - prenche um valor onde vc especificaar\n",
        "df.fillna(0, axis=1, inplace=True)\n",
        "df"
      ],
      "metadata": {
        "id": "Hyva1WOR-yGG"
      },
      "execution_count": null,
      "outputs": []
    },
    {
      "cell_type": "markdown",
      "source": [
        "#salvar a todo momento para boas praticas"
      ],
      "metadata": {
        "id": "cJNIci1BB5jQ"
      }
    },
    {
      "cell_type": "code",
      "source": [
        "#salvando as alteraçoes até agora\n",
        "df.to_excel('/content/Tabela_corona_completinha.xlsx')"
      ],
      "metadata": {
        "id": "92fqEBuvAXEi"
      },
      "execution_count": null,
      "outputs": []
    },
    {
      "cell_type": "markdown",
      "source": [
        "# Conversão de valores\n",
        "* `.to_numeric()`\n",
        "* `.to_datetime()`\n",
        "* `.astype()`\n",
        "    - `'bool'`\n",
        "    - `'int64'`\n",
        "    - `'float64'`\n",
        "    - `'str'`\n",
        "    - `'category'`\n",
        "* `.replace()`"
      ],
      "metadata": {
        "id": "EzL1MhczDd8G"
      }
    },
    {
      "cell_type": "code",
      "source": [
        "df.info()\n",
        "#com isso se percebe que tem 2 coisas erradas pois ObservationDate e Last Update estão  \n",
        "#ObservationDate e Last Update estão como object e deveria estar Date "
      ],
      "metadata": {
        "id": "h7HEp1SoBnO8"
      },
      "execution_count": null,
      "outputs": []
    },
    {
      "cell_type": "code",
      "source": [
        "# Alterando o tipo de dados das colunas 0 e 2\n",
        "df['ObservationDate'] = pd.to_datetime(df['ObservationDate'])\n",
        "df['Last Update'] = pd.to_datetime(df['Last Update'])\n",
        "df.info()"
      ],
      "metadata": {
        "id": "wRA_roK6DA2r"
      },
      "execution_count": null,
      "outputs": []
    },
    {
      "cell_type": "code",
      "source": [
        "df.head()\n",
        "#graças a alteração passada a visualização fica levemente diferente "
      ],
      "metadata": {
        "id": "BNqdw_71D2XW"
      },
      "execution_count": null,
      "outputs": []
    },
    {
      "cell_type": "markdown",
      "source": [
        "#alterando valores"
      ],
      "metadata": {
        "id": "bquS0FhNE-1f"
      }
    },
    {
      "cell_type": "code",
      "source": [
        "# Alterando valores no DataFrame (trocando mainland china para china)\n",
        "df['Country/Region'].replace('Mainland China', 'China', inplace=True)"
      ],
      "metadata": {
        "id": "tUH9hIRrD_bP"
      },
      "execution_count": null,
      "outputs": []
    },
    {
      "cell_type": "code",
      "source": [
        "df.head(1)"
      ],
      "metadata": {
        "id": "olqDCpGGG4HN"
      },
      "execution_count": null,
      "outputs": []
    },
    {
      "cell_type": "code",
      "source": [
        "# Substitur US por United States\n",
        "df['Country/Region'].replace('US', 'United State', inplace=True)\n",
        "df.sample(5)"
      ],
      "metadata": {
        "id": "I17CzQ2gG7cc"
      },
      "execution_count": null,
      "outputs": []
    },
    {
      "cell_type": "code",
      "source": [
        "#salvando as alteraçoes até agora\n",
        "df.to_excel('/content/Tabela_corona_nome_certo.xlsx')"
      ],
      "metadata": {
        "id": "kbBjkHwkHdlq"
      },
      "execution_count": null,
      "outputs": []
    },
    {
      "cell_type": "markdown",
      "source": [
        "# Filtragem de Dados"
      ],
      "metadata": {
        "id": "xA87M8vJHXLW"
      }
    },
    {
      "cell_type": "code",
      "source": [
        "df_brazil = df[df['Country/Region'] == 'Brazil'] # cria um DataFrame virtual (sem inplace)\n",
        "df_brazil"
      ],
      "metadata": {
        "id": "3GcXHl2_HEqp"
      },
      "execution_count": null,
      "outputs": []
    },
    {
      "cell_type": "code",
      "source": [
        "df[df['Country/Region'] == 'Mexico']"
      ],
      "metadata": {
        "id": "d-TWMDukHxUj"
      },
      "execution_count": null,
      "outputs": []
    },
    {
      "cell_type": "markdown",
      "source": [
        "# Alterando Nome de Colunas"
      ],
      "metadata": {
        "id": "Olyvzi26IQ1B"
      }
    },
    {
      "cell_type": "code",
      "source": [
        "#altera de Country/Region por Country\n",
        "df.rename(\n",
        "    columns = \n",
        "      {\n",
        "        'Country/Region': 'Country'\n",
        "      },\n",
        "    inplace=True\n",
        ")\n",
        "df.head(1)"
      ],
      "metadata": {
        "id": "F4r9wN_7HxvQ"
      },
      "execution_count": null,
      "outputs": []
    },
    {
      "cell_type": "markdown",
      "source": [
        "# Manipulação de dados: \n",
        "* `.unique()`: retorna valores únicos\n",
        "* `.duplicated()`: retorna `bool` para linhas duplicadas\n",
        "* `drop_duplicates()`: retorna *DataFrame* com linhas duplicadas removidas"
      ],
      "metadata": {
        "id": "Y5idbwvZJRf_"
      }
    },
    {
      "cell_type": "code",
      "source": [
        "# Quantos países existem no DataFrame\n",
        "len(df['Country'].unique())"
      ],
      "metadata": {
        "id": "NqY44fIKIE8s"
      },
      "execution_count": null,
      "outputs": []
    },
    {
      "cell_type": "code",
      "source": [
        "# Quantos países estão repetidos?\n",
        "sum(df.duplicated(subset=['Country']))"
      ],
      "metadata": {
        "id": "I44Psrl0JT3F"
      },
      "execution_count": null,
      "outputs": []
    },
    {
      "cell_type": "markdown",
      "source": [
        "#aula 04/04/22"
      ],
      "metadata": {
        "id": "GMY8-_k0uuI8"
      }
    },
    {
      "cell_type": "markdown",
      "source": [
        "#Estatisticas com Pandas\n",
        "- média\n",
        "- Mediana\n",
        "- Moda\n",
        "- Desvio Padrão (Std)"
      ],
      "metadata": {
        "id": "EV3TYiFExMK3"
      }
    },
    {
      "cell_type": "code",
      "source": [
        "import pandas as pd"
      ],
      "metadata": {
        "id": "WJbyuZXFu0XW"
      },
      "execution_count": null,
      "outputs": []
    },
    {
      "cell_type": "code",
      "source": [
        "corona = pd.read_csv('http://emsapi.esy.es/datasets/covid_19_data.csv', index_col=0)"
      ],
      "metadata": {
        "id": "r_mbbuZkx_s5"
      },
      "execution_count": null,
      "outputs": []
    },
    {
      "cell_type": "code",
      "source": [
        "corona.head()"
      ],
      "metadata": {
        "id": "qfOleEh6yPhH"
      },
      "execution_count": null,
      "outputs": []
    },
    {
      "cell_type": "code",
      "source": [
        "corona.info()"
      ],
      "metadata": {
        "id": "uJS3WcxWyR5D"
      },
      "execution_count": null,
      "outputs": []
    },
    {
      "cell_type": "code",
      "source": [
        "corona.shape"
      ],
      "metadata": {
        "id": "BTEdCwFJyUxi"
      },
      "execution_count": null,
      "outputs": []
    },
    {
      "cell_type": "markdown",
      "source": [
        "#.describe()\n",
        "traz estatisticas basicas sobre o dataframe"
      ],
      "metadata": {
        "id": "DSUCdEObyxcY"
      }
    },
    {
      "cell_type": "code",
      "source": [
        "# Estatistica Básica com Pandas\n",
        "# .describe() - mostra quais indicadores está trazendo\n",
        "corona.describe() # traz estatisticas basicas sobre o dataframe\n",
        "#mean - media / std - desvio padrão / min - minimo / max - maximo"
      ],
      "metadata": {
        "id": "LkCQLWqzyf0F"
      },
      "execution_count": null,
      "outputs": []
    },
    {
      "cell_type": "code",
      "source": [
        "#outro exemplo\n",
        "notas = pd.read_csv('http://emsapi.esy.es/datasets/notas_alunos.csv', index_col=0)\n",
        "notas.describe()"
      ],
      "metadata": {
        "id": "5svuNCMeyvkw"
      },
      "execution_count": null,
      "outputs": []
    },
    {
      "cell_type": "markdown",
      "source": [
        "# Métodos Estatísticos do Pandas\n",
        "*   ``.mean()``: média\n",
        "*   ``.sum()``: soma\n",
        "*   ``.median()``: mediana\n",
        "*   ``.std()``: Desvio Padrão (Desv.Pad) ou Standard Deviation (Std)\n",
        "*   ``.min()``: mínimo\n",
        "*   ``.max()``: máximo()"
      ],
      "metadata": {
        "id": "YedCB6sx1F0B"
      }
    },
    {
      "cell_type": "code",
      "source": [
        "print('Média: ', round(corona['Confirmed'].mean(), 2))\n",
        "print('Mediana: ', corona['Confirmed'].median())\n",
        "print('Desvio Padrão: ', corona['Confirmed'].std())\n",
        "print('Mínimo: ', corona['Confirmed'].min())\n",
        "print('Máximo: ', corona['Confirmed'].max())\n",
        "print('Soma: ', corona['Confirmed'].sum())"
      ],
      "metadata": {
        "id": "LLtdH_g8z1lH"
      },
      "execution_count": null,
      "outputs": []
    },
    {
      "cell_type": "code",
      "source": [
        "# Agregar as colunas Confirmed e Deaths em uma nova coluna chamada 'Confirmed + Deaths'\n",
        "corona['Confirmed + Deaths'] = corona['Confirmed'] + corona['Deaths']\n",
        "corona.head()"
      ],
      "metadata": {
        "id": "-L-HfKCRHuWG"
      },
      "execution_count": null,
      "outputs": []
    },
    {
      "cell_type": "code",
      "source": [
        "# Elaborar um algoritmo que mostre as estatísticas das colunas de um DataFrame,\n",
        "# utilizando os métodos de forma individual\n",
        "# 1 - O que deve-se analisar?\n",
        "# R: Deve-se analisar quais são numéricas, pois estatísticas são somente sobre \n",
        "# esse tipo de dado\n",
        "corona.info()"
      ],
      "metadata": {
        "id": "oWOQZHTaHw1Y"
      },
      "execution_count": null,
      "outputs": []
    },
    {
      "cell_type": "code",
      "source": [
        "# 2 - Qual o melhor método para implementar essa resolução?\n",
        "# R: Utilizar um laço de repetição"
      ],
      "metadata": {
        "id": "P-GOZq_3Hyqp"
      },
      "execution_count": null,
      "outputs": []
    },
    {
      "cell_type": "code",
      "source": [
        "# 3 - Montar o algoritmo\n",
        "# Vamos resolver com um subset\n",
        "\n",
        "colunas = ['Confirmed', 'Deaths', 'Recovered', 'Confirmed + Deaths']\n",
        "for coluna in colunas:\n",
        "  print('coluna:', coluna)\n",
        "  print('\\tMédia: ', round(corona[coluna].mean(), 2))\n",
        "  print()"
      ],
      "metadata": {
        "id": "0YPrq7YHH0Xb"
      },
      "execution_count": null,
      "outputs": []
    },
    {
      "cell_type": "code",
      "source": [
        "# Usando o mesmo algoritmo acima, implementar uma alteração que \"não necessite\"\n",
        "# informar quais são as colunas numéricas, ou seja, \n",
        "# identificar automaticamente as colunas.\n",
        "\n",
        "#colunas = (corona.select_dtypes(include=['float64']))\n",
        "for coluna in (corona.select_dtypes(include=['float64'])):\n",
        "  print('coluna:', coluna)\n",
        "  print('\\tMédia: ', round(corona[coluna].mean(), 2))\n",
        "  print()"
      ],
      "metadata": {
        "id": "zsGjtOijH4VB"
      },
      "execution_count": null,
      "outputs": []
    },
    {
      "cell_type": "markdown",
      "source": [
        "[texto do link](https://)# Funções no Python\n",
        "\n",
        "```\n",
        "def nome_da_funcao(parametros):\n",
        "  <corpo da função>\n",
        "```"
      ],
      "metadata": {
        "id": "W8dq3ygYH8Kd"
      }
    },
    {
      "cell_type": "code",
      "source": [
        "# Função somar()\n",
        "# Sem retorno\n",
        "def somar_sem_retorno(num1, num2):\n",
        "  print(num1+num2)"
      ],
      "metadata": {
        "id": "S-NSgho9H3aK"
      },
      "execution_count": null,
      "outputs": []
    },
    {
      "cell_type": "code",
      "source": [
        "somar_sem_retorno(10, 20)"
      ],
      "metadata": {
        "id": "ArXaVSRKIBe8"
      },
      "execution_count": null,
      "outputs": []
    },
    {
      "cell_type": "code",
      "source": [
        "# Função somar()\n",
        "# Com retorno\n",
        "def somar_com_retorno(num1, num2):\n",
        "  return (num1+num2)"
      ],
      "metadata": {
        "id": "_ePMEmALIDFp"
      },
      "execution_count": null,
      "outputs": []
    },
    {
      "cell_type": "code",
      "source": [
        "resultado = somar_com_retorno(10, 20)"
      ],
      "metadata": {
        "id": "e6Z7Dhm8IEIx"
      },
      "execution_count": null,
      "outputs": []
    },
    {
      "cell_type": "code",
      "source": [
        "resultado"
      ],
      "metadata": {
        "id": "ip65-yhIIV7K"
      },
      "execution_count": null,
      "outputs": []
    },
    {
      "cell_type": "code",
      "source": [
        "# Função com retorno composto\n",
        "# Permite retornar mais de um valor separado por vírgula\n",
        "# Isso é muito bom quando precisamos realizar processos independentes com valores\n",
        "def soma_multiplica(x, y):\n",
        "  return (x+y), (x*y)"
      ],
      "metadata": {
        "id": "GppQS1haIXi6"
      },
      "execution_count": null,
      "outputs": []
    },
    {
      "cell_type": "code",
      "source": [
        "soma_multiplica(10, 20)"
      ],
      "metadata": {
        "id": "LmyUI212IZcj"
      },
      "execution_count": null,
      "outputs": []
    },
    {
      "cell_type": "code",
      "source": [
        "# O Python permite uma declaração com múltiplas variáveis\n",
        "soma, multiplicacao = soma_multiplica(2, 3)"
      ],
      "metadata": {
        "id": "og1a6asBIcX5"
      },
      "execution_count": null,
      "outputs": []
    },
    {
      "cell_type": "code",
      "source": [
        "print('Soma:', soma)\n",
        "print('Multiplicação: ', multiplicacao)"
      ],
      "metadata": {
        "id": "MHNQJWrDIdm0"
      },
      "execution_count": null,
      "outputs": []
    },
    {
      "cell_type": "code",
      "source": [
        "# Função com múltiplos valores de entrada\n",
        "def somar_varios(valores): # o parâmetro é uma lista\n",
        "  return sum(valores), len(valores)"
      ],
      "metadata": {
        "id": "TqcKUANVIe4m"
      },
      "execution_count": null,
      "outputs": []
    },
    {
      "cell_type": "code",
      "source": [
        "somar_varios([1,2,3,4,5])"
      ],
      "metadata": {
        "id": "lD2YgPivIgH6"
      },
      "execution_count": null,
      "outputs": []
    },
    {
      "cell_type": "markdown",
      "source": [
        "#Aula 11/04/22\n"
      ],
      "metadata": {
        "id": "4ezFuEkR4MfI"
      }
    },
    {
      "cell_type": "markdown",
      "source": [
        "#como era para ter feito o exercicio \n",
        "-Criar uma função para mostrar as informações (inspeções) iniciais\n",
        " \n",
        "-Criar uma função para mostrar dados estatísticos como: média, mediana e desvio padrão\n",
        "\n",
        "-Anexar o notebook na atividade"
      ],
      "metadata": {
        "id": "-6T-BWxQ4VOP"
      }
    },
    {
      "cell_type": "code",
      "source": [
        "import pandas as pd\n",
        "\n",
        "import statistics as st"
      ],
      "metadata": {
        "id": "25vD28oh6i-I"
      },
      "execution_count": null,
      "outputs": []
    },
    {
      "cell_type": "code",
      "source": [
        "nota = pd.read_csv('http://emsapi.esy.es/datasets/notas_alunos.csv', index_col=0)"
      ],
      "metadata": {
        "id": "8UtD0WCh6mFN"
      },
      "execution_count": null,
      "outputs": []
    },
    {
      "cell_type": "code",
      "source": [
        "# Informações iniciais\n",
        "def info(dados):\n",
        "  print(dados.info())\n",
        "  print(dados.head())\n",
        "  print(dados.describe())\n",
        "  print(dados.shape)\n",
        "\n",
        "# Função para estatísticas\n",
        "def estatisticas(dados):\n",
        "  for coluna in (dados.select_dtypes(include=['float64'])):\n",
        "    print('coluna:', coluna)\n",
        "    print('\\tMédia.......: ', round(dados[coluna].mean(), 2))\n",
        "    print('\\tMediana.....: ', round(dados[coluna].median(), 2))\n",
        "    print('\\tDesv. Padrão: ', round(dados[coluna].std(), 2))\n",
        "    print()"
      ],
      "metadata": {
        "id": "7ScYsPhK4Sa-"
      },
      "execution_count": null,
      "outputs": []
    },
    {
      "cell_type": "markdown",
      "source": [
        "#Gráficos em phython\n",
        "-https://matplotlib.org\n",
        "\n",
        "-https://matplotlib.org/stable/users/index \n",
        "\n",
        "como fazer graficos com exemplos "
      ],
      "metadata": {
        "id": "PVGTV0SHA0TJ"
      }
    },
    {
      "cell_type": "code",
      "source": [
        "# Importação das bibliotecas\n",
        "import pandas as pd # para dados\n",
        "import numpy as np # trabalha com arrays numéricos\n",
        "import matplotlib.pyplot as plt # biblioteca grafica padrão, usada pelo pandas\n",
        "import seaborn as sns # outra biblioteca grafica\n",
        "\n",
        "#mostra os graficos, suprimindo mensagens\n",
        "%matplotlib inline"
      ],
      "metadata": {
        "id": "glwKQR-nEyeF"
      },
      "execution_count": null,
      "outputs": []
    },
    {
      "cell_type": "code",
      "source": [
        "# carregamento do Dataset\n",
        "mtcars = pd.read_csv('http://emsapi.esy.es/datasets/mtcars.csv', index_col=0)"
      ],
      "metadata": {
        "id": "6GYNV9TAGi3t"
      },
      "execution_count": null,
      "outputs": []
    },
    {
      "cell_type": "markdown",
      "source": [
        "## Características\n",
        "* `mpg`: Milhas por Galão (consumo)\n",
        "* `cyl`: Número de cilíndros\n",
        "* `disp`: Cilindada (em polegada cúbica)\n",
        "* `hp`: Cavalos de Potência (HP)\n",
        "* `drat`: Relação do eixo traseiro\n",
        "* `wt`:\tPeso em (1,000 libras)\n",
        "* `qsec`: Tempo que atinge 400m (1/4 de milha)\n",
        "* `vs`: Motor (0 = Forma em V, 1 = Reto)\n",
        "* `am`: Transmissão (0 = Automático, 1 = Manual)\n",
        "* `gear`: Número de marchas\n",
        "* `carb`: Número de carburadores"
      ],
      "metadata": {
        "id": "PEia4Pw8GkvW"
      }
    },
    {
      "cell_type": "code",
      "source": [
        "mtcars.info()"
      ],
      "metadata": {
        "id": "ped72Ku4HCGE"
      },
      "execution_count": null,
      "outputs": []
    },
    {
      "cell_type": "code",
      "source": [
        "mtcars.head()"
      ],
      "metadata": {
        "id": "PmH6SXGoDVJY"
      },
      "execution_count": null,
      "outputs": []
    },
    {
      "cell_type": "markdown",
      "source": [
        "# começando com graficos"
      ],
      "metadata": {
        "id": "BvYG_YeTG2bI"
      }
    },
    {
      "cell_type": "code",
      "source": [
        "# configurando o tamanho da figura (em polegadas) as vezes não funciona (depende do grafico)\n",
        "plt.figure(figsize=(10,8))"
      ],
      "metadata": {
        "id": "XlnazdchGy8d"
      },
      "execution_count": null,
      "outputs": []
    },
    {
      "cell_type": "code",
      "source": [
        "plt.figure(figsize=(12,3)) #quando a proporção se encontra aqui ele funciona\n",
        "\n",
        "# Usando o pandas\n",
        "mtcars['mpg'].plot()\n",
        "\n",
        "#mostra o grafico no notebook\n",
        "plt.show()"
      ],
      "metadata": {
        "id": "-efbL_GGHPtl"
      },
      "execution_count": null,
      "outputs": []
    },
    {
      "cell_type": "code",
      "source": [
        "plt.figure(figsize=(12,3)) #quando a proporção se encontra aqui ele funciona\n",
        "\n",
        "# Usando o pandas\n",
        "mtcars['cyl'].plot()\n",
        "\n",
        "#mostra o grafico no notebook\n",
        "plt.show()"
      ],
      "metadata": {
        "id": "lPTuF2Y-HkJu"
      },
      "execution_count": null,
      "outputs": []
    },
    {
      "cell_type": "code",
      "source": [
        "plt.figure(figsize=(12,3)) #quando a proporção se encontra aqui ele funciona\n",
        "\n",
        "# Usando o pandas\n",
        "mtcars['disp'].plot()\n",
        "\n",
        "#mostra o grafico no notebook\n",
        "plt.show()"
      ],
      "metadata": {
        "id": "GsbHuR9IImiH"
      },
      "execution_count": null,
      "outputs": []
    },
    {
      "cell_type": "code",
      "source": [
        "plt.figure(figsize=(12,3)) #quando a proporção se encontra aqui ele funciona\n",
        "\n",
        "# Usando o pandas\n",
        "mtcars['hp'].plot()\n",
        "\n",
        "#mostra o grafico no notebook\n",
        "plt.show()"
      ],
      "metadata": {
        "id": "_EsqwdoRItL-"
      },
      "execution_count": null,
      "outputs": []
    },
    {
      "cell_type": "code",
      "source": [
        "plt.figure(figsize=(12,3)) #quando a proporção se encontra aqui ele funciona\n",
        "\n",
        "# Usando o pandas\n",
        "mtcars['drat'].plot()\n",
        "\n",
        "#mostra o grafico no notebook\n",
        "plt.show()"
      ],
      "metadata": {
        "id": "D3UxRpIgIzkV"
      },
      "execution_count": null,
      "outputs": []
    },
    {
      "cell_type": "code",
      "source": [
        "plt.figure(figsize=(12,3)) #quando a proporção se encontra aqui ele funciona\n",
        "\n",
        "# Usando o pandas\n",
        "mtcars['wt'].plot()\n",
        "\n",
        "#mostra o grafico no notebook\n",
        "plt.show()"
      ],
      "metadata": {
        "id": "XiBgcPJhI5iZ"
      },
      "execution_count": null,
      "outputs": []
    },
    {
      "cell_type": "code",
      "source": [
        "plt.figure(figsize=(12,3)) #quando a proporção se encontra aqui ele funciona\n",
        "\n",
        "# Usando o pandas\n",
        "mtcars['qsec'].plot()\n",
        "\n",
        "#mostra o grafico no notebook\n",
        "plt.show()"
      ],
      "metadata": {
        "id": "AEUvZodTI-En"
      },
      "execution_count": null,
      "outputs": []
    },
    {
      "cell_type": "code",
      "source": [
        "plt.figure(figsize=(12,3)) #quando a proporção se encontra aqui ele funciona\n",
        "\n",
        "# Usando o pandas\n",
        "mtcars['vs'].plot()\n",
        "\n",
        "#mostra o grafico no notebook\n",
        "plt.show()"
      ],
      "metadata": {
        "id": "rx_Z-JmbJDpb"
      },
      "execution_count": null,
      "outputs": []
    },
    {
      "cell_type": "code",
      "source": [
        "plt.figure(figsize=(12,3)) #quando a proporção se encontra aqui ele funciona\n",
        "\n",
        "# Usando o pandas\n",
        "mtcars['am'].plot()\n",
        "\n",
        "#mostra o grafico no notebook\n",
        "plt.show()"
      ],
      "metadata": {
        "id": "l5Xj66YOJIrR"
      },
      "execution_count": null,
      "outputs": []
    },
    {
      "cell_type": "code",
      "source": [
        "plt.figure(figsize=(12,3)) #quando a proporção se encontra aqui ele funciona\n",
        "\n",
        "# Usando o pandas\n",
        "mtcars['gear'].plot()\n",
        "\n",
        "#mostra o grafico no notebook\n",
        "plt.show()"
      ],
      "metadata": {
        "id": "QBhz3z3VJM0S"
      },
      "execution_count": null,
      "outputs": []
    },
    {
      "cell_type": "code",
      "source": [
        "plt.figure(figsize=(12,3)) #quando a proporção se encontra aqui ele funciona\n",
        "\n",
        "# Usando o pandas\n",
        "mtcars['carb'].plot()\n",
        "\n",
        "#mostra o grafico no notebook\n",
        "plt.show()"
      ],
      "metadata": {
        "id": "8oJBPefmJQ_q"
      },
      "execution_count": null,
      "outputs": []
    },
    {
      "cell_type": "code",
      "source": [
        "def grafico(DataFrame, coluna): #configurando atalho para grafico\n",
        "  plt.figure(figsize=(10,3))\n",
        "  DataFrame[coluna].plot()\n",
        "  plt.show()"
      ],
      "metadata": {
        "id": "66pjSr6gJbCS"
      },
      "execution_count": null,
      "outputs": []
    },
    {
      "cell_type": "code",
      "source": [
        "grafico(mtcars, 'gear') # atalho feito"
      ],
      "metadata": {
        "id": "qDEoZrmtKR73"
      },
      "execution_count": null,
      "outputs": []
    },
    {
      "cell_type": "markdown",
      "source": [
        "#Notas alunos"
      ],
      "metadata": {
        "id": "iLLTEskmKkdq"
      }
    },
    {
      "cell_type": "code",
      "source": [
        "notas = pd.read_csv('http://emsapi.esy.es/datasets/notas_alunos.csv', index_col=0)"
      ],
      "metadata": {
        "id": "MNs5IkCpKTby"
      },
      "execution_count": null,
      "outputs": []
    },
    {
      "cell_type": "code",
      "source": [
        "notas.info()"
      ],
      "metadata": {
        "id": "6od_VWA2KmnO"
      },
      "execution_count": null,
      "outputs": []
    },
    {
      "cell_type": "code",
      "source": [
        "grafico(notas, 'Nota1') #pegou o formato do grafico da programação [56] 4 linhas de prog acima"
      ],
      "metadata": {
        "id": "XSjLtsUXKoZt"
      },
      "execution_count": null,
      "outputs": []
    },
    {
      "cell_type": "code",
      "source": [
        "# Salvando a figura\n",
        "plt.figure(figsize=(10, 3))\n",
        "mtcars['cyl'].plot()\n",
        "\n",
        "# salvamento\n",
        "plt.savefig('figura01.png', dpi=300)\n",
        "\n",
        "# mostra o gráfico no notebook\n",
        "plt.show()"
      ],
      "metadata": {
        "id": "GLu49bJ0KqI4"
      },
      "execution_count": null,
      "outputs": []
    },
    {
      "cell_type": "markdown",
      "source": [
        "#detalhando a programação de graficos"
      ],
      "metadata": {
        "id": "bLw3EN1cMOTm"
      }
    },
    {
      "cell_type": "code",
      "source": [
        "#Dados sobre a distribuição\n",
        "plt.figure(figsize=(10, 3)) # muda o tamanho do grafico\n",
        "mtcars['qsec'].plot(kind='bar') #mtcars['qsec'] nome de onde tirou as infos e quala info tirada\n",
        " #.plot(kind='bar') grafico em barra\n",
        " #.plot(kind='hist') Grafico de barra que mostra tempo???\n",
        "plt.title('Tempo que percorre 400m')#acrescenta titulo no grafico\n",
        "plt.show()"
      ],
      "metadata": {
        "id": "MBtLI-_9LNMu"
      },
      "execution_count": null,
      "outputs": []
    },
    {
      "cell_type": "code",
      "source": [
        "#incrementando o grafico do histograma com uma densidade\n",
        "\n",
        "plt.figure(figsize=(10, 3)) \n",
        "mtcars['qsec'].plot(kind='density',lw=3)#mostra a suavisação da curva #linha azul eu acho \n",
        "mtcars['qsec'].plot(kind='hist', density=True) \n",
        " \n",
        "plt.title('Tempo que percorre 400m')\n",
        "plt.show()"
      ],
      "metadata": {
        "id": "zQXnk290Lchz"
      },
      "execution_count": null,
      "outputs": []
    },
    {
      "cell_type": "code",
      "source": [
        "mtcars.describe()"
      ],
      "metadata": {
        "id": "IBEGrD3CNKOu"
      },
      "execution_count": null,
      "outputs": []
    },
    {
      "cell_type": "code",
      "source": [
        "# Graficos de dispersão\n",
        "mtcars.plot(x='hp',y='disp',kind='scatter') #kind='scatter' obriga a usar duas colunas\n",
        "plt.show()"
      ],
      "metadata": {
        "id": "huX_XWKxNybp"
      },
      "execution_count": null,
      "outputs": []
    },
    {
      "cell_type": "code",
      "source": [
        "mtcars.plot(x='cyl',y='disp',kind='scatter')#cilindros por cilindrada\n",
        "plt.show()"
      ],
      "metadata": {
        "id": "CWODlADGPdPL"
      },
      "execution_count": null,
      "outputs": []
    },
    {
      "cell_type": "code",
      "source": [
        "#visualizando uma correlação\n",
        "sns.pairplot(mtcars.loc[:,'cyl':'disp'])\n",
        "plt.show()"
      ],
      "metadata": {
        "id": "vP-ar9TCQ2xj"
      },
      "execution_count": null,
      "outputs": []
    },
    {
      "cell_type": "code",
      "source": [
        "sns.pairplot(mtcars.loc[:,'mpg':'hp'])\n",
        "plt.show()"
      ],
      "metadata": {
        "id": "qP3uEF4uRlow"
      },
      "execution_count": null,
      "outputs": []
    },
    {
      "cell_type": "markdown",
      "source": [
        "#aula 18/04/22"
      ],
      "metadata": {
        "id": "yOoqwMzjztSv"
      }
    },
    {
      "cell_type": "markdown",
      "source": [
        "#Continunação de gráficos ...\n",
        "Relaçoes Lineares, Quadráticas e Cubicas"
      ],
      "metadata": {
        "id": "xF89SKyI00T7"
      }
    },
    {
      "cell_type": "code",
      "source": [
        "x = np.linspace(0, 2, 100) #cria númros entre 0 e 2 com 100 quabras iguais \n",
        "#(100 numeros entre 0 e 2)"
      ],
      "metadata": {
        "id": "Kiqc125Yz0Ur"
      },
      "execution_count": null,
      "outputs": []
    },
    {
      "cell_type": "code",
      "source": [
        "x"
      ],
      "metadata": {
        "id": "TngEWl_T2LsB"
      },
      "execution_count": null,
      "outputs": []
    },
    {
      "cell_type": "markdown",
      "source": [
        "linear"
      ],
      "metadata": {
        "id": "vYKAkcM13Fzr"
      }
    },
    {
      "cell_type": "code",
      "source": [
        "#linear\n",
        "plt.plot(x,x)"
      ],
      "metadata": {
        "id": "v3HEaU2I2O7I"
      },
      "execution_count": null,
      "outputs": []
    },
    {
      "cell_type": "markdown",
      "source": [
        "quadratica"
      ],
      "metadata": {
        "id": "ZPz46fgQ3HDk"
      }
    },
    {
      "cell_type": "code",
      "source": [
        "#quadratica\n",
        "plt.plot(x, x**2)# x elevado(**) ao quadrado"
      ],
      "metadata": {
        "id": "ZP_WEDdc2yfq"
      },
      "execution_count": null,
      "outputs": []
    },
    {
      "cell_type": "code",
      "source": [
        "#só teste, iniciando no intervalo de -x até x\n",
        "x = np.linspace(-2,2,100)\n",
        "plt.plot(x,x**2)"
      ],
      "metadata": {
        "id": "aqkbVhdl3QG6"
      },
      "execution_count": null,
      "outputs": []
    },
    {
      "cell_type": "markdown",
      "source": [
        "cúbica"
      ],
      "metadata": {
        "id": "oTbQnLOW3uHq"
      }
    },
    {
      "cell_type": "code",
      "source": [
        "#cubica\n",
        "x = np.linspace(0, 2, 100)\n",
        "plt.plot(x,x**3)"
      ],
      "metadata": {
        "id": "1lQtEQ9T3oLL"
      },
      "execution_count": null,
      "outputs": []
    },
    {
      "cell_type": "code",
      "source": [
        "x  = np.linspace(-2, 2, 100)\n",
        "plt.plot(x, x**3)"
      ],
      "metadata": {
        "id": "zFDFFWcN382_"
      },
      "execution_count": null,
      "outputs": []
    },
    {
      "cell_type": "code",
      "source": [
        "#elevado a quarta potencia\n",
        "x  = np.linspace(-2, 2, 100)\n",
        "plt.plot(x, x**4)"
      ],
      "metadata": {
        "id": "vc4bSyoe3-5f"
      },
      "execution_count": null,
      "outputs": []
    },
    {
      "cell_type": "markdown",
      "source": [
        "#juntando varios graficos em um"
      ],
      "metadata": {
        "id": "ebXUdGt55BxK"
      }
    },
    {
      "cell_type": "code",
      "source": [
        "# juntando as coisas em um lugar só\n",
        "x = np.linspace(-2,2,100)\n",
        "\n",
        "plt.plot(x,x)\n",
        "plt.plot(x,x**2)\n",
        "plt.plot(x,x**3)\n",
        "\n",
        "plt.show()"
      ],
      "metadata": {
        "id": "hV0gvg9O4Hdw"
      },
      "execution_count": null,
      "outputs": []
    },
    {
      "cell_type": "code",
      "source": [
        "# juntando as coisas em um lugar só e personalizando\n",
        "x = np.linspace(-2,2,100)\n",
        "\n",
        "plt.plot(x,x,label='linear')#label é titulo da legenda\n",
        "plt.plot(x,x**2,label='quadratica')\n",
        "plt.plot(x,x**3,label='cubica')\n",
        "\n",
        "plt.xlabel('Rotulo do eixo x',style='italic')#style muda o estilo da letra\n",
        "plt.ylabel('Rotulo do eixo y')\n",
        "plt.title('exemplo de grafico \\n com personalização', size=15)#titulo principal\n",
        "# \\n quebra linha para não ficar comprido \n",
        "# size= muda o tamanho da fonte \n",
        "\n",
        "plt.legend(fontsize='x-large')# incluindo legenda no grafico \n",
        "plt.grid(True,color='red')# coloca um grid (linhas em chadrez) no grafico\n",
        "plt.show()"
      ],
      "metadata": {
        "id": "iA0mJMpk4_zf"
      },
      "execution_count": null,
      "outputs": []
    },
    {
      "cell_type": "code",
      "source": [
        "# Limites do gráfico\n",
        "start = -2 #(no caso seria a linha de baixo que ira de -2 a 2)\n",
        "end = 2\n",
        "\n",
        "x = np.linspace(start, end, 100)\n",
        "\n",
        "plt.plot(x, x, label='Linear', color='red')\n",
        "plt.plot(x, x**2, label='Quadrática', color='blue')\n",
        "plt.plot(x, x**3, label='Cúbica', color='green')\n",
        "\n",
        "plt.xlabel('Rótulo do eixo X', style='italic', size=14)\n",
        "plt.ylabel('Rótulo do eixo Y')\n",
        "plt.title('Exemplo de Gráfico com Personalização', size=16)\n",
        "\n",
        "plt.xlim( (start, end) ) # limite do gráfico (limites de x)\n",
        "\n",
        "plt.legend(fontsize='x-large') \n",
        "plt.grid(True) \n",
        "plt.show()"
      ],
      "metadata": {
        "id": "F9au7tLs5ihg"
      },
      "execution_count": null,
      "outputs": []
    },
    {
      "cell_type": "code",
      "source": [
        "# Trabalhando com os ticks\n",
        "start = -2\n",
        "end = 2\n",
        "\n",
        "x = np.linspace(start, end, 100)\n",
        "\n",
        "plt.plot(x, x, label='Linear', color='red')\n",
        "plt.plot(x, x**2, label='Quadrática', color='blue')\n",
        "plt.plot(x, x**3, label='Cúbica', color='green')\n",
        "\n",
        "plt.title('Exemplo de Gráfico com Personalização', size=16)\n",
        "plt.xlabel('Rótulo do eixo X', style='italic', size=14)\n",
        "plt.ylabel('Rótulo do eixo Y')\n",
        "plt.xlim( (start, end) ) \n",
        "plt.legend(fontsize='x-large') \n",
        "\n",
        "plt.xticks(ticks=np.linspace(start, end,5),# configura o espaço entre os valores dos rotulos (x) se colocar mais que 5 fica apertado\n",
        "         rotation=45  ) #rotaciona os numeros \n",
        "plt.yticks(ticks=[-8,-5,-2,0,2,5,8],# muda os numeros da linha y da maneira que quiser\n",
        "          labels=['bum','zoo','horse','zero','baba','cuca','zebra'])#inclusive da para zuar\n",
        "          \n",
        "plt.grid(True) \n",
        "plt.show()"
      ],
      "metadata": {
        "id": "bG3GHg7K-EhJ"
      },
      "execution_count": null,
      "outputs": []
    },
    {
      "cell_type": "code",
      "source": [
        "# Mais customizações (personalizando as linhas)\n",
        "start = -2\n",
        "end = 2\n",
        "\n",
        "x = np.linspace(start, end, 100)\n",
        "\n",
        "plt.plot(x, x, 'r-.',label='Linear', color='red',linewidth=4,alpha=0.2)#alpha= muda a transparencia da cor quanto menor mais claro\n",
        "plt.plot(x, x**2,'b:', label='Quadrática', color='blue',linewidth=2)#linewidth= muda largura da linha\n",
        "plt.plot(x, x**3,'g--', label='Cúbica', color='green',linewidth=1)#'r--' faz a linha virar traços \n",
        "#'b-.' faz a linha virar traço ponto\n",
        "#'g:' faz a linha virar pontilhados\n",
        "\n",
        "plt.title('Exemplo de Gráfico com Personalização', size=16)\n",
        "plt.xlabel('Rótulo do eixo X', style='italic', size=14)\n",
        "plt.ylabel('Rótulo do eixo Y', style='italic', size=14)\n",
        "plt.legend(fontsize=12)\n",
        "\n",
        "plt.grid(True)\n",
        "plt.show()"
      ],
      "metadata": {
        "id": "u9a8a6e4-0ui"
      },
      "execution_count": null,
      "outputs": []
    },
    {
      "cell_type": "markdown",
      "source": [
        "anotação em grafico"
      ],
      "metadata": {
        "id": "lad9VZh-DsEc"
      }
    },
    {
      "cell_type": "code",
      "source": [
        "# Fazendo anotações em gráficos\n",
        "start = -2\n",
        "end = 2\n",
        "\n",
        "x = np.linspace(start, end, 100)\n",
        "\n",
        "plt.plot(x, x, 'r--', label='Linear', linewidth=4, alpha=0.8)\n",
        "plt.plot(x, x**2, 'b-.', label='Quadrática', linewidth=2)\n",
        "plt.plot(x, x**3, 'g:', label='Cúbica', linewidth=3)\n",
        "\n",
        "plt.title('Exemplo de Gráfico com Personalização', size=16)\n",
        "plt.xlabel('Rótulo do eixo X', style='italic', size=14)\n",
        "plt.ylabel('Rótulo do eixo Y', style='italic', size=14)\n",
        "plt.legend(fontsize=12)\n",
        "\n",
        "plt.annotate('Aqui', xy=(0.5, 4), color='red') # anotação em vermelho\n",
        "plt.annotate('Acolá', xy=(0.3, 4.5),color='blue',#muda cor do acola\n",
        "                      xytext=(1,6.0),#muda posicionamento do acolá\n",
        "                      arrowprops=dict(arrowstyle='->',connectionstyle='arc3',color='blue')) #coloca seta no acola\n",
        "                      #a seta esta mostrando o (0.3,4.5)\n",
        "                   \n",
        "plt.grid(True)\n",
        "plt.show()"
      ],
      "metadata": {
        "id": "Ps9m2GKPBFsO"
      },
      "execution_count": null,
      "outputs": []
    },
    {
      "cell_type": "markdown",
      "source": [
        "# Múltiplos Plots\n",
        "\n",
        "[Documentação](https://matplotlib.org/api/_as_gen/matplotlib.pyplot.subplot.html#matplotlib.pyplot.subplot)\n",
        "\n",
        "`fig, axes = plt.subplot(M, N)` \n",
        "\n",
        "* M são linhas\n",
        "* N são colunas"
      ],
      "metadata": {
        "id": "r2s1wZbkGW47"
      }
    },
    {
      "cell_type": "code",
      "source": [
        "import numpy as np\n",
        "import matplotlib.pyplot as plt"
      ],
      "metadata": {
        "id": "8jfH8kYmRRtN"
      },
      "execution_count": null,
      "outputs": []
    },
    {
      "cell_type": "code",
      "source": [
        "fig, axes = plt.subplots(1, 3, sharey='row')#col muda o formato dos graficos \n",
        "x= np.linspace(0,2,100)\n",
        "\n",
        "#Definindo o primeiro eixo\n",
        "axes[0].plot(x,x,'r--')\n",
        "axes[0].set_title('linear',loc='center')\n",
        "axes[0].set_xlabel('eixo x')\n",
        "axes[0].set_ylabel('eixo y')\n",
        "\n",
        "axes[1].plot(x, x**2,'b-.')\n",
        "axes[1].set_title('Quadrática')\n",
        "axes[1].set_xlabel('eixo x')\n",
        "axes[1].set_ylabel('eixo y')\n",
        "\n",
        "axes[2].plot(x, x**3,'g:')\n",
        "axes[2].set_title('Cúbica')\n",
        "axes[2].set_xlabel('eixo x')\n",
        "axes[2].set_ylabel('eixo y')\n",
        "\n",
        "fig.suptitle('Titulo da figura',fontsize=16,)#suptitle porque a figura é matricial\n",
        "plt.tight_layout() # ajusta o padding dos subplots\n",
        "plt.show()#graficos dentro do jupiter"
      ],
      "metadata": {
        "id": "mpUENN4rD7fR"
      },
      "execution_count": null,
      "outputs": []
    },
    {
      "cell_type": "code",
      "source": [
        "fig, axes = plt.subplots(3, 1, sharey='col')#sharey = muda o formato dos graficos\n",
        "x = np.linspace(0, 2, 100)\n",
        "\n",
        "# Definindo o primeiro eixo\n",
        "axes[0].plot(x, x, 'r--')\n",
        "axes[0].set_title('Linear')\n",
        "axes[0].set_xlabel('Eixo X')\n",
        "axes[0].set_ylabel('Eixo Y')\n",
        "\n",
        "# Monte os gráficos para os demais índices (Quadrático e Cúbico)\n",
        "axes[1].plot(x, x**2, 'b-.')\n",
        "axes[1].set_title('Quadrática')\n",
        "axes[1].set_xlabel('Eixo X')\n",
        "\n",
        "axes[2].plot(x, x**3, 'g:')\n",
        "axes[2].set_title('Cúbica')\n",
        "axes[2].set_xlabel('Eixo X')\n",
        "\n",
        "fig.suptitle('Título da Figura', fontsize=16) \n",
        "plt.tight_layout() \n",
        "plt.show()"
      ],
      "metadata": {
        "id": "3s1xiDKVGYkb"
      },
      "execution_count": null,
      "outputs": []
    },
    {
      "cell_type": "code",
      "source": [
        "x = np.linspace(0, 1.5, 100)\n",
        "\n",
        "labels = [r'$x$', r'$x^2$', r'$x^3$', r'$x^4$']\n",
        "plt.stackplot(x, x, x**2, x**3, x**4, labels=labels)\n",
        "plt.legend(loc='upper left')"
      ],
      "metadata": {
        "id": "v10-w7vnN2xm"
      },
      "execution_count": null,
      "outputs": []
    },
    {
      "cell_type": "markdown",
      "source": [
        "#Aula 25/04/22"
      ],
      "metadata": {
        "id": "L4rgfUTB3nS7"
      }
    },
    {
      "cell_type": "markdown",
      "source": [
        "-inteligencia de maquina\n",
        "\n",
        "#Experiencia(E)\n",
        "\n",
        "\"\"um programa que aprende sem ser explicitamente programado. ele aprende a partir de um conjunto de dados que expressa toda experiencia que desejamos ensina-lo. esse conjunto de dados é chamado de conjunto de treinamento \"\"\n",
        "\n",
        "\n",
        "- aprendizagem supervisionada- conjunto de treinamento é composto por amostras de entradas e saidas\n",
        "\n",
        "- não supervisionadas- conjunto de treinamento copmposto por amostras de entradas apenas"
      ],
      "metadata": {
        "id": "WrYXF1fc3smV"
      }
    },
    {
      "cell_type": "markdown",
      "source": [
        "#Tarefas(T)\n",
        "- Classificação - supervisionada qualitativa\n",
        "- regressão - Supervisionada quantitativa\n",
        "- agrupamento - não-supervisionada"
      ],
      "metadata": {
        "id": "FNtPpnUH6eWb"
      }
    },
    {
      "cell_type": "markdown",
      "source": [
        "#Desempenho(P)\n",
        "Para medir o desenpenho de um elgoritmo de machine learning é nescessario uma medida de desenpenho para mensurar a qualidade do processo de aprendizagem. essa medida é conhecida como função de custo ou função de erro. essa função é definida de acordo com o tipo de problema (aprendizagem supervisionada ou não). essa função contem um conjunto de parametros a serem otimizada por um algoritmo de machine learnig.\n",
        "\n",
        "De maneira geral, pode-se dizer que o objetivo do algoritmo de machine learnign é otimizar(aprender) o conjunto de parametros de tal forma que resultado da função seja o minimo possivel. isso significa que o algoritmo tem uma alta taxa de aprendizagem e uma baixa taxa de erros.\n",
        "\n",
        "- dividir os dados em \n",
        "- treino\n",
        "- teste\n",
        "   - Aqui eu mensuro desempenho "
      ],
      "metadata": {
        "id": "lv5r1s-WAQzQ"
      }
    },
    {
      "cell_type": "markdown",
      "source": [
        "#EX:\n",
        "- classificar emails como spam ou não spam \n",
        "    - tarefa\n",
        "- verificar quais emails o usuario classifica como spam \n",
        "    - experiencia \n",
        "- o numero de emails corretamente classificados como spam ou não \n",
        "    - desempenho"
      ],
      "metadata": {
        "id": "YjzDMu7rCo0U"
      }
    },
    {
      "cell_type": "markdown",
      "source": [
        "#Generalização \n",
        "A habilidade de desenpenhar bem em dados não observados anteriormente.\n",
        "\n",
        "- Mensurada por erro\n",
        "  - Dados de treino: Erro de treino \n",
        "  - Dados de teste: Erro de teste"
      ],
      "metadata": {
        "id": "La-lgzUQDRsB"
      }
    },
    {
      "cell_type": "markdown",
      "source": [
        "![imagem_2022-04-25_203743114.png](data:image/png;base64,iVBORw0KGgoAAAANSUhEUgAAArYAAAE+CAIAAAD3asSTAAAgAElEQVR4nOy915Mcx5no+2Vm+ar23k2Pn8HAAyRFAiBoJJGUYUi7Z49We+55uBuxG/tXHT3dc+6NDWk3RJHSLsGlAUkAhHeDwQAYb3vae1NVmfehunt6DECQAjEgUT8iwEZ1dVVWVlXml59FjDGwsbGxsbGxsdkK3usG2NjY2NjY2DyL2CKCjY2NjY2NzS7YIoKNjY2NjY3NLtgigo2NjY2Njc0u2CKCjY2NjY2NzS7YIoKNjY2NjY3NLtgigo2NjY2Njc0u2CKCjY2NjY2NzS7YIoKNjY2NjY3NLtgigo2NjY2Njc0u2CKCjY2NjY2NzS7YIoKNjY2NjY3NLtgigo2NjY2Njc0u2CKCjY2NjY2NzS7YIoKNjY2NjY3NLtgigo2NjY2Njc0u2CKCjY2NjY2NzS7YIoKNjY2NjY3NLtgigo2NjY2Njc0ucHtwTtb5PwOENv/5yF8wAEAIfZfNsmnfCwbAOj2NGLQ/IgAAxph9F2xsbH6Y9I5tbMeW5xLE2GNM0U8UalKEEELdUz9q0mGUIYwA7Fv1HcN6RLeert7S6/YtsLGx+QHTFQu6s+JzP+g9dRGBAaMMIdRWDABiwJi1PH3YLxggBNZ/Nk8Y1n4fEAAwZm2gCDAwZGkUkCU8dKW4jjzH7JfHxsbmhwBjzJoHrbUrACCMbC2CxV4YGgBMatZrdd3QKWUMgCGGEUYPuR2UUuvD01d4PA8gQJYEhgCsvxgCwqj1ilAEFBAFjFjbCMHakoR9L2xsbH4IdPXYGGOMMcdxkigRjuxtq54R9kBEqNVrD+4/uPDVhVKphDjOME2EABClhgmAMEK4vWbFgKCj57AnpO8WBIgxihBGCIBRAqZAwDTNlsko5kxMMEMYEGIIgDFkC2s2Njbfd5ClQbDWRpgQYIwQ0pfsO3To8EB/P+FtKeGpiwimaS4uLv75z3/+wx/+YFATONLU9VKlrOsNTVGdmoMAQsB4jgeGWVsD1Fm42nw3dIw4CCEwDYPHiDarxUxKlWVBdYIktwAjhjBgxBBDtG2TsLGxsfne0lEeWE7zDBgghOr1erI/+e4v3/27//7fvT7PHjfxGeBpiwiGYdyZvHP9xnXNoZ0+fdobCi5vpM5dvLC2tnzs0JFjh45osgyUYYzB8kCw7QtPC6ubEaOY0dT8g48+eG//yOjwkaPuSKyJCWYEMYQAGGK2lcHGxuYHAGOWbMAwwoyxlq7fuHF98vbkJ59+8otf/hLAFhH2wtDQbDXrtXo8Fnv99dfig4P35mczpVxDrx06fOjdn7/rVJWeSAf0+D6KXUkCIWRPYY8NQ8AYIOgEmCDGmN68d+3i5IUvjk2Mn3r7bUc0bnICZgRB24Wx/f8ddE16dmDk9wJb+LaxsbDeBdMwMcYzD2YKhSI1zb1u1DPB0xYR2qMSRqIkxuOxoYGBUqPq8Xo0TfV5fYlY3O10wKYz6daZxh7QvhMs7UFXrmLQaFTWFl2KEvZ4E9Goa2gIMNeObWjvYd+J7zebb5Yty9nYQHsUbDabwUBAkiVgrOsm/5zz9EWEdvodxsCkFAAQIIwQwQhbznKsu+M3XIzag91fRU9CK0CIAjMMQikzKVAKGAB1woW/NvzUlh+efeyXxcamFwQAQBk1KWWUUUbtd8RiDwwNCBAwhoEx3TCpyQAoYwbVDWpwPN/NgbDLDbLv2XeFlRuBAhCrl3lMeIyB6RxigAl8o0WnfZtsbGy+hyCEcTcAEtnVCQCevoiAuotRQBhzCGPAmAKjyKDMMEyjJ8cfs5MlPRWQpdwBxhCjVm5FjunEaBBkUEaBMWC0fefsjEnPFd1w451JSx7xlY3N9xEG1DQpYwgj25uqy9MWlFi7BIBl/wbKgAFggomACI8YMzup/uxh52mCwHJBRAwQAwYCM30KrwgcsiSDtn+inaDiOQPZhd5sfriwXYe0tt+2PQNZPHVfhPYfRtviAcMYJJn3+T2izJvMoMzEQOzb8zSxbgpCHYMCRhpP+gN+ryjx0E4r0pHZbBHhOYJRyOfza2urhmGYpkkIMU0TusOn/ZLafE9oB8chYJQBAoyJx+Pxej2qpgIDoG1lmKU/6FSss8c6gKcsImzvcgSMAUewLAlOlyYrMkPA7FXLHrA1HTlimsj3B3xeSRQYAhMAo46FwbY0PEdUK5Uvv/zi//yf/7dYKDBgHMdT0yQcsWqw2WOozbNPu+YCIIQQpbQbjfXGG2+8/dbb+w/sb49nbaHXkiXsIW6TvanRYIEAWVoEQpAkCoTrKg/seWhvsPqdMkYQuGRJIQibJlDWSZZEEaK26vn5oVwuT92ZOn/+nCzLiUSfy6UghLoLMlsVa/OM086LxJi1HMUYA2PpTObevWkAGB4e3jcxgUnPg2wJCpZQYWkXcEfL+rwOe3spIkDb0IB5niMcZox2jJ/YSudj83RoK9ag7cLLAAGjCFEE7RcDMSstAkPMyptk35vnAAr1ej2Xz+kt/fXXXz958mQwGKSUEkJgsyyojc2zT3vSBwBK6YMHDyqVcr3eKJfKjFlhXG3a6f4pY5ja2V8s9lSLgBBGSOB5t8tNNrjOvGNPP88CDCizslQgYokJmwWjbZ4HGDDDNADA6XK++uqrb7/9TjAY6OaTsZUINt8LLFnWysQDAITgGzdu3L59O5/Pm9TEeItyAAHaolKwn/CnLCL0hEdZHxECEHje5XIRjrOc6lE7BI/ZBqGnTPddQYCs0EfKbLHteQchhDERRVGSREEUNm2A3yS6he14fjobGMBTTJfebcZ3ccbea/weCdLfaZ88I2yNyxV4gWCCMSaEbL/qrVOUPe7BHuRFsAwJDCFAFBgDIAQLvIAxRy2zUXuhaidFeKog6M2viIAhbJV0BECIQTcSCBH7vXmuYIwZho4RZt24V+hK+I/ze4De7N67sjPjwmPu+a15Isd5hIl65/Gf/TQSz2arngiWV4EFsmIVmGmajDKTUo5sMTQAs+IaMEDHF+GZvWVPhb0zNFg6HYQQwhhjBgy1qzvaRYCeCdBWZXKnpNYPeK1hs4W2dzfANmWsjc0PgE72gx3bOw4JsOvXzx97JSJ0ajmCda8oYwyhtoTHbBXCnrK9dpYdA/988jSMTN/lwXul2e/iPN3FJf26habVErwZqsUoA0B2ht+nx05T1yMKCXddce1Rb89EBNTJsggUGEVtKYECY4yZgLB9c546rDuAdeOE0eZ2G5snzXf8WFFKS6VStVolmPACDwDNZtNaIMqyjBAyDMMwDFVRFVXhef4bDTmGbjQaDUM3NIfGcRzA9twiW0DAKKvX6o16Q5IlRVYQRpaU8Fdfpc1jsLWbUQfKqK2x/lr2NugRAABhQBiDZV9o57ayk1fsEQiAAUXtMCBsywY23wC2GfDSdmnsRNE+7H3embHzydmyMpnMmTNnrly5whiLRCKiIM7NzeULeYfD0d/fjxBaX08Zur5vYuKdt9/u6+/7RgdfW1u7evXqxsbGz3/282gsitDXlC9pNpqXLl26e/fuiVdODAwOappqK0r3HmYbtb+evVd1WVUBTGCU0vb61b5te0JHe9D27GFdn7Suxtm+LzYPg3VtUp0NaNuX2xVSuz9NdPuGb/vQVSqVmQczPMcPDg4ODQ7F4rFCsTA9Pb22tub3B4aHhwcHBwVRuHfvXrlS3t6EXcWUzkZq0kK+MD8/f+vW7UKxgDBqvyUMGGXtn7OOlxwFRplJzeXllZs3bq6tr+mtVtttG3ac6JHn/RqN3iN+y6C3Ve1G7np8uvUnjziXvX54PthjLYIVvGA9bJSx9ovzCJWdzXdNN2MIgm7JdNYVEmxsAKD3Hd38hDbFyE2zFWwJa0Sd7TunxvYPrXkJQ89P0bdSLVBKEUanXzv94osvedzuZqt57979XC6XiCfeeOP1UChUq9WvXbt65sMzhm5YbeiE7Wz3xtneTgaKokSjUUKIpmmbjcdWwHAn0oF1xjfGMMLRaGRkdCTgD/CCsHm8bcHdaMfot1U+YMA6NQR2vI7oIRu3/Q09jezerJ5cANt23rJD15fCstYz253ih88zYGhACCEGgCizElrZ89AeY432zFbn2DyczSejXQUUGEOss4QGRkm7nDvqeh4htDkBbR5l64zIGEIId/37/pqVKsdxPp8vkUj4/X6MEaWU5zme5zmeEwRBkiVREEOhsM/n0w29Xq0TQkxqUkolSSKEWGvoZqtJKQNgHOEIRzDBAIA5HIlGXnO+Bgw8Hg+jzDRNXdcBQJIlhFBLb5mmyXEcz/OMAgLEC/zRI0cnJiYcmkOURGpQ3dAppQQTTLBpmpQyhJAg8NYp2r1Bmd7SDdPACGOMTdM0afuwpCdUr4thGKZJTdM0TUMQBJ7nMcGMMl3XTZNijDFCDJhpmIIomKZJTYow4jleb+mUUoywKIvWoUyDGoZOTYox5ngOI4wwopSapmnoBkKI43lKTcMwZFmxBYUfMHsrIiAAzABhRDhCgDHK6HYhwZYZnhLbOt1yJmWIWXkSerfb2HSxspwBZbhlQMuAFgMKgBgmwLoCAOtY6kUOVKFjlMBbDmM9gJRBy4SWAZQBz4EoAP/NWwQAgMChOSYmJvz+ACYIGGCCGWOUMkpptwCV0+nweD3T09PFQtHr9SKMMpms3+8fHx8TBTGXz62srCwtLbVaejwe6+8f8Pm8ANBqtmZnZufm5wHghePHXS7X2tra/Qf3y+XygQMHHA7H4sJitVoNR8LJvqTT7TR0Y3FxcXFxsVqtJpPJ/v7+crk8PX0vn8/F43Gvx1sql9LpjNPpSPYlQ6FQW0pgkM8XlpeX1lbXRFHUHNrGxkYumxsaHjpy5KisbBcRmMkK+cLs3OzGxka9Vne6XGOjo8FQqFQqLi8tZ3NZVVUVRWk0GtVqdWR4pFqtzs3PIUDJ/mSz2SwWi7Ks7Ns37na5G83G+vr63NxcoVCQJTnRl4jHE5qqFkvF+bn5bC4rCKLDoTWbrXw+Nzw83NfXJ8lS2zCxUwlh831mz7UImJrIMCy9FaXMRKitUAOEwI5/fErsTF7TFhGAAVDU1vui7lf2LXne6Vn8IwDUbJlzy7krt2aXMyUKGCFMwEQAjCHKEMMAQDWZH457Xzoy5nYKCBjpqrutwyEKAC3dmEuVLl6/WyjVJkajrxzfx3/TIaorIjgd4+P7vF6v9U/GoB1VTdtjCiJIVdRoNHblyuXLly8HA8FgMDg1NTU0PKRpqtvt/vjjj2vVmtvjEUXh2rXrd+9OHzxwYGx8HBjL5rKXLl5cXlmJxWKaphVLxcnJyevXb9ybvnf06FFMcCqVunnz5sjIyDs/ewchVK/XJycn79+//+qrp4OBoK7ry8tLn336mcfrHR8fi0Zj9Vrt8qVLfcm+V199NZHoo5Tev3/v1s1bjUbD6XTOL8xvbKQVRQGAYCho6DowaZvyf3ll+drVaw9mHvQn+3mBf/DgwYMH93/6k5+Kkri0vHT+3HmEUbIv2Wg2Zmfn3nrrp7IkT07euTs1NTI66vV61tfXS6XSv/zLvwiCcOvWrZs3b7pdbo/XQym9c2fqzp2pY8eOOhzOfCH/5ZdfViqVWDTG8dzNGzd//JOfaKoWjUW39D/Yg8QPhD0WERCAruv5YtEwDEoZNRmjgDD+luZHmycOQm1Nsv3C2+wKAgAwKMtk8zdv3b6/uE6RhImAgDGgJmOUYoIxh8HvUlGzPDEcdzsEQECB4U2zOrUeM5OaxVLp9uT02kZJ5PSXj+77du0BAEEUwuFQz3PLEG6X+u1qKx1Ox9Dg4OXLl+7evZtJZxKJhCzLpmnqLb1aqV6+fCUUDB44eCAajU3enrx48WKhUOhL9rlcLqfT2Wg0rl+/Vi6XBEFwOV2iKE3dudNsNIaGh8ZGxziO+/jjj5dXll89/apDc3g8HoTw3OzcyMhItVZ1u9xOp/PBzAMyTxwObWJiIhQKfnjmw8WlpWgkGgqFTNO8dOnSX/78l9ffeP3AwYPZXHZm5kE8Hj98+HAymcQYU0p7TRJ6y7h48eIXX3zhdLpGRkfcLnepWProvz4aGhoaHx8XBCG1kVpZWVVkJRgKiqJgGIbL5UIAN2/dKlfKp0+fdjgcqfVUq9m6d+/e52c/X1pa+u1vfzuxfyKfz1+4cOHMmTOE4OPHj6uqmsvmJicnTdM8cOCAoirAmGEYjDHUTaL56CwRNt8r9kpEaLvKMwBdN8rlcrPRMk1qmpTZhTT2jG0+S2jHdrBffZtdwZiEw8FXXn5xaLyMiUQpQoiytvMhIQgDNVWR7wurqiJZLvUIYdaThwMAABCHcTjgO/ny8WKlNZT0bsnr+E0ePWoyBIAIYiYDBL2zV6+DjSAIkWgkkUjcv38/4A+cevXVN958g+M4l8tdLpf6+5OSJFspqPuSfZcuX7p166ah/4ZgEo1GE30JnucNw0AYBYPB0dERURIHhwYPHz4ci8WSRvJf//Vfc7l8sVjSVC0cDsdjMY/XY7kUuNyugf6BSCSiKur+if0HDxys1mrxeHx1dTWdSTPGarXa/Pz8/ML80NDQ4OBgLpednp5uNBrDw8MD/QMY482UlwgM3SwWi1evXJ2ZmfnH//sfXU6X5tD6kn3BYDCVSg0ODMbj8b6+vnwuPzo2+sYbb7RaLY/bI0ri6tpqPB4bHx9/+eWXk8lkuVx2OBx/+P0fZmZnJyb29ff3OxwOVVHHxsb++Mc/3rx5Mx6LRyLRvr6++YX5WCz29ltv/+QnP3E6naqqWpke7OJePzz2SESwzNwMKAPDNA3DoIxRk5qm2RMqZT9tT51uMENv5qQt3tX2AsEGoONoaAUBYIQEDoVDbsXpbOktggGYgZlpubwjxAEgxoAQTuKQJnMcohQAAWYAuBPobD1aoiCFPXDi6HiLtSRR4Htqiz0uls6rnTwaEEZWKy2bJepkX+l6SnIcx3O82+0OhoIul9PpcDJgHM+Zpnr48OGZmZnz589zHLewsLC2uiaJEmWUMSYIAsdxpmFaCeQRRgIvWOqEQCCgKmqj2cQYM8Zaraa1wuYFnhCOI5w1wfMCL/CCx+Px+X2yLLf0liiKjLFWq+3qKIkSxrhRb+h6q1arYYwHBwbdLrcgCdtsfYah53K5dCadTqfvP7jfaDYEQchmspIkI4QxwYQQSZICwYDH4/H7/QDAEQ4AeJ4XRTESifh8Pr/f7/P5isXi4uLi+vr6qVMnJVnCBGOMFUVxaI5sNptOp2PxmCiJwUAwGAj6fD5BFHGnM9tymG1o+GGx574I0M6VBEDbtbrpM9Co55pO3CljVkiWHddg81DaDwdPgCcgixiBtDNujnWcixAFhAEYwgxv1VK15VGEQRZBEnkK/LeURvGWU28a7HuwqvVsfotAFEVN0wgmhCdAQW/p6fTG+XPnW3orGo2Gw2FKmardMAyj2WxWa1W9pbfX8R1fCsuKIcuyKIrtq7HKqVNGLWWK5XCFAGNsSS2EI7Ki8DyPOYy73psMrOOEIxG/33/v/r16o14oFPqT/T96+UfhcLjd7B4pwbI7mKYpCmI8Hk/2JQlH4rH4xMSE0+X0eDxra2scxzudTlmWARDHt+M1GGMcx7lcLkmSrRAJBMikFIDxHG+10zo+x3GGYdTqNWCAMVZVVVEVbMVIYNu+8EPmWZiNMQKCGKKUGpQy+ynbKzYjsB8WuWA7iNhsgrp/sXaULAZK2hu3xjZuC27srAraO+3Ig4IYkCc4DCAAhqgVvNiu0LPZdkulwBijJm0LDhhardb9+/f/+N57x44d/fnPfzEyMsJz/GeffVqr10qlkmGYlku1lceXWYsbyiilmxIJY5ZzJFgZGrpytuU1iQAYUJMy68edOAuEkNUGnuPdbpfX4200GhsbG5qmjewfGR4ekVUZAID2JEgA4Dje6/WGQuFisRiLxQ4cPOh0OYyWUa6Ua7WawAsIIdM0rLNQSoGSLa8yA2qaVssJR4LBQDq9kclkDN2wdquUK7l8LhqNer1ehDFjzKQmpZ3btmuiC5sfCnsvIiCGMfAIMANErcHFTp20tyDWCWXvwbI42DfFppetzwhim9N/93vGenK4IrAm6C3pf7Y7vbAnq7hqNlr1ei2fzxcKhWq1ViqX0um0qiiyLPMCXywUi6VisVgqlorpdFpVVI7nGo1GPpen1HS7PaqiZLOZjfRGrVZnlN67d19RZFVVs7msYRqZTKZULpumkc6k9ZZeLBSz2SzzskwmU6vVqtVqOp32+X2mSXP5XKVSyRfyxVKpXCpnstlypWyduFwu5/K5crlcrVbL5XK5XMYYN5tN0zQD/kA4EpYkCQDWVlepGZIVWRCFzVeRAULg9Xr2758oFYvXr1/3uD2xeKxcLs/PzzfqjVg8Xi6XCoVCuVzO5XLVSoVzu4BBpVIp5AvVajWXz5VKpXqtLiuyJMlHjhypVCorKytLy0sMoNloLC4tloqll19+OR6PF4uFQr5QqVTK5VKhWAgGgwBbEzHZ/LB4BkQEhPD2EGnbnLWX9IgHViIcCojYqwSbR7O5MAdmyZg96TR6hcvNOGa0y7xiJSSkANuljW/N/Pz8pUsXV1ZWLly4MD83VyoVf//73w8NDR49ejQSiV68dPGrC19NTk6ura3Kkvzrv/n10OCQ0+EcGxsbGRldWlz843vv+XzebCarKPLy8vLHH3/8zjtv35m8c/7c+UKheObMGVVTMcYfffRRaiN18dLFQDAwPj5+7tz5qakp0zT//Jc/m9TM5/Kfn/387t27jUYjEomkUutnz569d+/e2tqa2+XGBC8vr9y4fmNpackwjEQ8ceToEUEQSuXS//rd/xJ4wTANjHEikfj5z3/+2muv9SX6oMdLAyHEYe7UqVM8x3/62aelUsmKiWg1W6dOndJbrQvnL1y6dLlYLDAAnuffeuttAHb+/IUPP/zwzp07jDFdN3785ptHjh4RBeHY0WMA8OWXX/7Hf/yH0+kql0upVOr1N14/ffo0Qujy5cuXr1xeXFxsNJoCL/zs5z/z+/22ieEHzJ6KCMx6tBAghqDzhz2huehhmnKbr6NnZIdNie3Z7zr7jj99tmqYrbm/s4Ft7rPlF49WEj5hnTU1qdfrGR8fDwaDsWisVC4pihIOR1xOp9/vlyRxeGj4b//2b1977TVBFKLRqMfjQQTxhB8cGvyf//P/qpQrkiw5HU40jsb37cvn8y6Xc9++fcFg0OlyVioVv8/fn+zHBL/11tvHjh1XVXV4eMjv8xsvGfF4jDEWCARisbjH4/nlL3959NhRp9M5OjKqauqrr77a19fHcVwikUgkEi6Xy+HQSqWy1+tJ9ieXlpbW1taGhoZOvHJCURVgUK6Uc7nc2bNnFUUJBUPdNIhdIpHIKyde8Xg9AMDzAjVNRVWSyaRhGi/96CV/IMAYdTpdw0PDhBCEUF9f4td/8+sTJ0+qqjI0NBQIBqx74vP7jhw54nK5qtUqpazRqB86dLgvkYjF461Wa2JiQhTFcrmsaVp/f79DcwAAo2AnWPyhstd5Edr+cAwhihgFRjuG8CcxtO8cauwJ41uyfU24tXOfmW617/jTZ0dI7FZfuh02g94Nu9+dJ2nPQgh5vV6v12u5DVpuARhjjDAmGAA59jlHRke629uVnQE0VXv99TcMQ6eUIkCEI8CsVGJACBkYGDh+7Hj7FBgBoKHBIdM0EUY8zwNAXzLJGANgCGFCMEZ4YmLCOhTGGBAaHh5uy94YIYQYY8ePv8AYRQhRSj/5+JNsNptM9v+3//a3fr+fMVbIFy5dvvS73/1ufm7epObOMVIQhHg8Hg6HTcM0qUkwwYRwhCCEAoHAiy++xBjlOM6SDwBgfHzf6OioaZoAiONIbxSl3+/3eX26obdaLYSQIAiCIAAAY8zv9x8+fJhRyxEDrO7aco9tFfAPi703NGxqs7cM8N8r01ZXqvn+NHk3dvb5bjXvUNc3+zu+2m/3CHTvgm0Z2Tt6jA4P+fJxDvBEWoIRwbuUM2jDACGEyS5ZnhFBHCEc3/kt3fpo9QYCMwAAQjAPfCeWATgCmNuysrbiDHvAW46AgXDtKFJGmSRLsiRjjOr1Rq1awwRTRh2aw+v1OpwOjPEuPcTAKgbBC3y7wZ2TEEYIJu0iVR0JDCGwhIh2G3qvHRAiSCSiwAvtOpasfXxEAG+/kG0d96gvbb537HWlR9T2XaKMMUCGblJgpt7CCFGECeEBATUpNSlqR98xQjruuA97FjsvLQNGzfa6geO5x312e/SgpkEZs1yhgRC8a+kUQMAoYz0ezgCbJeMsL+VtqdCeVXrdxqw/GABvlX3agV6UUdM0rb5FiHAchwAxYAg/sRGCMUAAVjSX9U+e57pR771jNGNssyAv3fpgsM0It3bb7CHsydJrN+h1bn9G+tly/sdoyxwPO2T6bS3vuuP0JmawRhW2WWux/Wh1IiO6x0EYUG9I5NbOaT+uvdpS1GkqY4AAc3j/xH4AuH79+p/ee0+SJFEUKaMIoV/84hf7J/ZzHL/LANg5S7uFCBhjiCHrPWpXoXwY2zxGcUcm2BZYsq2Ltv3W5ofInooICBgwTJAoCoCwYdJ8oXCv0iIAHM8hTILBkKo66vVaPpcvV8ocxzkcTo/HLcnSow7LOrI4ZfPz8+VySVXVZF9SlMXHWph2Kq6aBs1mM6srq+VKWZbleCweCoe6mVg6V4AAASLtKatdyZa1x4tms2XouqIoGH+P5APYKiJs1Y0wBgg1W61MZmNlZblUKiGEIpFoLBpXNZUQjpls+7Dy7WAAwGq1eiqV2tjYMHRDc2ijo6OSJCGMGG07snRaZ3U+aw/U7aEcKDXr9bqVNwaswX1T//0E2mjThvVMqzvX2XtL29Op/bl3+6N/tfsW1BEFaPfonX13FYy2iSDdX2yTP3YcLBAKTMCEpjnKpRLCiBAOAciKHAgEI5EwR8impLLjXJt6Auvd+GvGnofJAePWs3oAACAASURBVLZ88NywdyJCO8kZCILgcDpEQQSAZrM5s7g2e+++rEjDI2OSJEuSXK1Wl5aX7t+/L4rS4OCAKIqSLO2+WOkZoRAgw2gtLS1OT0/zHO/7tU+Uxcd5oBkAo6zV0u/fv5daT5UrFUrN1dXV4eHh49zxQCAAALputFpNQoggCAQIIDAMo1at8TwvSiJjQDCuVqtTU1OpjdSJEyddTifGePuIsLd01JsPp1cy2PxQLpVvT07m8xlDNwzTYIzl88WVldWhwaFEXx/fW3Vn5ziy85bRh7QBQalYun37dqlUajZbxWKhUqlgjIeHh2VFNg2jXCkLgqBqqmXxYIw1m03DMCRJ4gjHGGu2mul0enLyjsfjfvHFFzHC28frbSs8eLzxbtfJb+fGR2u5vsVX3xfojg+wpza4x7Q69a7mYcfnnfQmaHoc76nHPzK01QnBUDAYDHYVDNv68BuoBL4du96yrxkxbH6A7OUNt9biAs87HQ5e4CVR1DSVUvrBX/58+dIVappWClJJknVdX19fz+WyGGOe53tnrO4HRjc9qBFGCCNr7b64sHjl6pVSubTLMMFg+6EsCztCzUbj/fffv3T5UjgcPnDgQK1WX1hYSKVSpmEyxjLp9OLiUmo91Wq1GDBAUKlULl66uLa+BoAYo1bA9MVLFz/66KNcLovJt5UPvpFBnW3d/2G/ZQ+ZETuDAkIIMAbLsNNV4CMABPlc9osvvvj0k09mZ+cGBgZfe+31l19+BWN84cKFzz77bHl5udVqdXsSoKOJ7WkJ2xqxwhjbMpf0cOfOnffffz+fz4+NjfX19a2vpxYXl0qlkqGblWrl9u3bmUym22xK2fLy8ldffVWr1awtrVZrdXX1zIcfXrlyRdf1zQvcddx89ETS+5ix3XbbJgP1PlQ7dmbWs7rjK0YZpazt/vEMOVJYjicM7ZxEu/TOSbv+2XO+dTN2DjUPO/5fD9u89W1VXHcLahvRWCe90+5N2jkC/PUP0ndxTJvvD3unRWAMgFqBjqLAIwCe57weD0oyjImmaeFwWHNoVrLPRDyRG825XK5wOKypKuumYETATMaAYYy7hn/rO2pSjuNDoZDb415dW7N2tjANEwC6jgXttGiACMHt5GsMcvnc7Ozs+Pj4+PgYxvjkiROSJEXCEUKIYRoLCwurq6uxeMztdkuSBBTy+cKHH3744x//OJHowxgRQvyBwJtvvnngwMFgMGipuK0Ealbmdiv9aqcrAJBlpGCsbeC08qwBITssmtC+5E7iatZNgMoYWB7RXYcAZrZdIgADo4wxwGTr8qNtNDERQgBtJw9KqZXQlVITqAmmAUgABHqzeXfqzr/+6/934ODhl19+ZWBwSFVV0zReeeUVRtl7f/qTKIlvvvFmKBxilFnNaGtVKWMUMEJdG6dpmAhjTNr6UGpSALBEOtOkGCHDNBYXF5eWlt99991EPC7L0o9/jKLRmKZpHEcKhcLZs2dfe+31eCyOMUYEUWreu3f/s88+HR4edmgOQEhVtaGh4b/7u79zOByiJFpCZNdx3TQoRmibTcRKsYcxZgwYpW0pc9v6jzHTpAAIWLtyYLv/EQADwzAAEMG4e2TGgJqUcBgAGAVKKe79CQAzrQS9CCPU7hD6bEyrFj2Cd/fTFp7ImvU75Uk17GGqgu/iwlnH0Lf1RL0Zkx71w52f//rGPNlj2nxP2GNDAwCzphKEMQIQRUFRFISQJEmSLPM8jwnGGERJdLncbrdLVVXdMNLpdD6fU1VNEsVGs6G3dJ/P53K7rFmfmSybzebyuVar1Wg0CCGoY67Wm3o2m11PpUzT8Pv90UgUE7y8vFwsFnmedzic5XJJURRFURcWFrPZXKFQWF9P1es1wzQYsJbeajQbi4tLX3zxxcLiwvHjx63wp1az9eWXX3z26Wd+v7+vr8/ldHl93mqlUq/XJVFECDWbzWKxmMlkeZ5zOp3NZrNarXq9Xr/fz/EcAOgtvVAo5HK5ZrOpKmo6nQYE/f39wWCoPakzMHWzWq3mC/lKuYIwMnQDE6xpjr5EAgDqjUYmk85mspIs+X1+t8dNCJfLZbPZHDDm9XrrjUaj0VAUORAIiKJoiRH1en11ZTWb21BVJRqKOt1ewhPLM7RdTQ5j6KjoU6nU3enphYXFn/zkrbGxMU1TrXozwWAw2Z+UJWly8s7AwIAoifl83jRMRVGcLqcgiJl0ulKtKIri8/kYY+l0en19XZZlq6+qlerS4lKj2fB6vQihcrkcDkeq1crKyko+n0tvpJdXlkvFkmmYhqG3Wq1MJnP27Ofnz533en3hcEhTNZfbdffu3c8///zSxUt337xLTepyu2RZzmYyJjV5njd1s96op1Ibuq6LoiDLcj6fl2XF5/VqDgfCAAyajWY6kykWChzPG4aeyWQjkXA4HHG6HN0xUW8Z5VKpUCzoLd1KZQ8AkXBEc2hWy1eWV5qtltfr9ft9qqoaupHNZTOZjMvlEgSh0Wg0Gg2fz+d2e3iOo5Q1m41cLre2tkYIicfjAX+g7SH6ME2Pzbfmr5zbnpo65BFn2dWo2rtlG09ER7ztLLah4Tljj0QEtEV1RbuZ0zuV2Npfd0ZJSqmh69Yir9lorK2tfv7554qsRGNRTdXKlbIkScPDwwMDA81Gc3Jycn19HWOiKHIul0tvpC3fRb2lP3jw4N69e4QjCCFrohobG1taWr5582az2RgcHFxeXh4aGu7r60tvbNRq1XKpvL6+Vq1WFxYWNE3DCGuqVimXl5aXlpaW4/F4OBT2er2tVmtlZWUjvbG2tp5OpxllmkMrFos3b9zMZrORaMTr8aZSqcuXr5RKpf7+pMfjqVVrk5OTx4+/MDg4UKlU5ucXNjZS9Xqj2Wyk0xmEUDQacblcXq9XIO3CbpSxldXVubnZRqOhqmo6nS4Wi9FI1ONx1+v1hfmFtfU1juM0TUulUi6Xe3BwoFyuXL9+bX09FY/HrHY2m81QKHTgwEFFkdPp9PT0vVwuhxAlBKdTmeHh0VAo3BPpjAA2q7dlMpm5uTlLyNA0DRBYGhHCEa/XF0/EZx7MzM3NhUKhO3fuzMzMxuOxkydPmqY5dXcqk8n4vL6hoaGZ2dlyucQRjuP51HpqbHxMEISpqampqalEX58kiZl05sTJE6Zploqler1eKpfW1taymezq2mqtXpdluVKpLC0uLq8sr6wsZ9IZXTckWdrY2FhYWFhPra+urgX8AUmWAFBqI3XhwoX+/v5YPNZsNu9NT8/Pz/M8PzA4iBAUC0WHw/HyKy8ripJOp+fm5gr5gknNXDZXrpRdLhfGyKE5nE5HuycAyuXS9PT02tqarMiMsrX1tVar9aOXfjQ6NppaT92dntb1lqqqlUp5ZubByPCIw+FYXV09f+68KInhcFjTHKVSURTFgYHB0ZGRSqVy48b1dDrN8zzGOJXaGBwcGBkZQdjKH9bRANk8cZ7xpfDjtO1h+6AeWeFJqRDAFlifX/ZKJtziBcCAMmCUMcM0TcYsEYExRruBA10wIhwxDOP27dsf/PmDa9euYYIbjcZnn3325Rdf1mv11dXVP733py+/+JIQnIgn8vl8JpNBCFFGU+upTz755JNPP5EkORAIzszMvPfeexsbG5Sat2/feu+9965fv74wv5DLZU3DcDqdCGFJlsKhsMfjyWazc3NzG+kNAPB6vQF/wO/zBfwBf8CvaQ6n0xWPxwVB0FTV6/W6PW6OcJIkLS4tfnjmw0wmgzFuNpp370598MEHV69cbTablNE/vfenGzeu1+v19fXUv//7v928eZNSynHcR2fOUGqGw2GO6wnXpmAY+uLi4traerPZZJRNT09fvXJ1dm6uXq/fuXPns7Ofzc7OxmPxUCg0fXf6L3/5y9zsHEKwsrLy8cf/9cEHH+RzecZgdnb2zIdnisWCYRg3b9763//7/1ldXYlEIhzHnT934dr1a5n0hpXyhTFACFsadWtosBLIK4oiSqJV+LXjcgqEYEVRcrlcLptDgOr1+scf/9fly5ebzWaz2Xzw4MHCwkImk5mZnXn//T/Nzs4m+hKqqn78yccXL15s1Bv1Rv3DMx+e/eyzB/cfrKdSpVKJ53lZkTHGLpfL5/MzYPPzC/Nzc5VKJeAPxOJxSZJdTpfX63U6HKIoRiLRUCgEDDwet9vjVmSF44ggCOfPX7hy5aplgSqWiufOn3v//fcX5uc1zTF1d+rf/v3fcrl8rVa7cePGX/7yl5WVFYfDMTM7c/7c+UAg6HK6eIHvHSJrtfri0mIun0OAyuXyV199devW7Vw+l06nz50/d+HCeQBIJvs5jjvz4ZmLFy/m8/lWq3Xz1q0PPvjg2rVreqvVbDYvnL9w5cpl3dBnZ2b++Mc/Xr9+w+/z+3y+8+fOffrpp/lcnlFAqJ1R5+m8jd8hj2O6fjrm7Z1z5+Oc9GnegW+kqNi5c9fzgz3RLmW2Tuu5Zm/VRu1HD2PL37wdxtMp5w7dxxwhTBkFBgghSZL9Pr/X600kEiMjI+Pj40ODQ/l8fmlpKZvLXb58eX5+3uv1HjhwIBqLTkzsj8fjCKFarXb5ypUHDx4IgkgI5nmOYIIQzmayfr/f6XBSSl95+ZV/+ud/evvttweHBgcGBxyaFggEBgYH+pP9Pp9PEiVDNzAhPr/P7/e7Pe5wONzX1+f1etxuVzQa5XnB6/PG43GPxyvLciAYDIVClnsjL/A+n68/2c/z3Nj42PHjxxPxhCRL+Xy+WCwWCoWpqSlBEIYGB30+nyAKoiCGQqFkX5+V1MxayWOEJUns709OTExUKpWpqalINPrmm29iTD7++ONKpfLSSy8NDA7E4/FQKNRqNq/fuA4APq8vFAoNDQ3t379/dHREluWlpaV6vb6xsXH71q2LFy85NIcg8ILAO13a/PxcoVgEAKA9AwxqewzwPG9py5vNVvurbvYXxhr1Rluj4PO++OKLw8PDjLGVldVGo0FNOjQ01JdMTk5ONhoNVdUshwCe4wv5QqPZiEZjrWYrGAr+8t1f/vM//9PRo0cTiUQ4HHY4HPF4fHBwIBaLezxuhBEhxOF09PUlFEUORyJ9yb5AMCDLcigYDAQCsizH44loNKZqqkNz9CX6RFHU9RYwkCQ5Gol6PB7NoR0/fnx8fMzn81PKUqn1Rr2xsrIyOzsbT8QHBwZdTpesyB6POxqLulwu69o7jpzgdLqOHj3qdLkWFhdXVlZPvPLK/on98/PzX3zxxcjIyP79+/v6+uLxeCgcnpmZmZ2b9Xl9Pp83EomMjIyM79s3PjaeL+SXlpaq1eqNGzcKhYIkipaxCWNcLBYz2Uyr1fwO37k9Z1dnz63Oed/dealBTcOkZtstlD1rzqFWYygwk7Gu7+quuz3EyfdrDv6Ifz4M1JMexeb5Yw/dFaGjTWUdrzlmJQeVJIlwxHIhtL4xDF1v6W3zOEG8wGua5na5Y7G40+nUHA7DMHRdbzTqqVSK53l/wO90Oq2CqoqqIISoSdfX12v1ul9VEEKGbsRiMWuylxVZkiVZVpL9yZGREQAwTVOSJEwwxoTneUmWFUWpVquY4LZ4wREAxAs8xtgwTMYYIYRSKokSz/ONel3geUkWFUXBxHK0wIIoqJoWDIaCgaDH48lmshzHG4bRarVkSQqFwoVCYfLOpGEYXq83mUwGAgFBFLq9hRBwPD82OtZsNRfmF86dPz84OPTCC8fdLletVp2bnYtEI36/X1VUhJHH6yEcWV5eNg1TlmWv19vf3+/xeDDGoijWG3Vq0kqlUiqXCcGAkN7SRUEcHBjEhHM6nZatx3L/BMoAtdPOeL0+v9+XzeYqlbJhmITgrjdivV5fW1vzeD1+v1+S5GhUPnbs2M2bt86fP//G669rDkc4HFZkOZVKdZfjGKODhw4Gg0GH5qhoFcIRn8+XTCZdbhdQaLaagiBgjAVe0FTN6XQoimKNUjwvCLxACOE4YmkseJ6XZEngeYQRwVjXdcMwVEURJVHg20lmOI7Iiuz1egVe8Pl9TpdTliVJFFutlmEaDodDUZQHD2ZM06w36tFINBKJuN0eju/Ur2IACDwez/79E4SQ9//0/tLS4ptvvDE6OooJTqVSc3Nzb775Y5/XJ4qCqmoet3tqamojtTEwMKCpmqKo0UjU7XbprRZjzLrvq2trAEiSpFZLxxhN7J/QNE2WZY7jtix5v788zPf+IXr+Jz8HdU9EARBUKpVCoai3Wh6Px+F0Eg4bTb3RbMiS/A1Sq30XjYSOkMQAAZiUNptN0zQEQbCMUO3noeuq2M2TuCuPcyG9twbt8JB92Geb5489ExE6UV9o8x+MUZOKghCNRlutViqVGhwcAsQDhWq1ms1lh0dG2qtqQIyBoiqyLFmLXIyJ5X/H8zwDpus6AoQwarX0RqNh6AbhiEPTBIEnmDgcDrfLLckSpVSURIwxAiRLkiTJbf2FCYwxgglCCBMMwDDCncLwAAw4juN5zjTNXDZXrVYFXsAYW9EHmUxmaWnp8KHDDqcDACzpwUrMLgi82+Vq531CCGNkOc+Lkhjw+1VFBQBJkk6fPj00PNTerSfkCWPk8/smJ++cO3eu0ai/+8t33W73+vq6y+XiBd40zVqtZpgGB1y1UjUNU3NolvpBFMW260AnPgJhLHK8JIkYY1EUXG43wcjn8VXrDUEQKGOEWf4bFCiFTkE+v98/MjKiaerK8srqykoikbC0CJVKdXFxMZ1Oj42PDw+PWKLDoUOH7t6dPvfllw6H1pfoC4fDuq47NEc+n5clKRwKUcZkWVFVFWFLiiKyLMuyDAxMalqhHwCI4zkrEZZpmggBRpgjhHAEATINM5PNbKQ2xsbGrGHUavPCwrwkSv0D/YQQwhHr0bJGVUVWGGWWW6uVNZNSyhHO5XJFIhGB55uN5sjIqMvpDIVCm8l3O+OpoipqXT179vOZ2RmPx/PW229ls9lMOkMpFUWxVqs2W00AoNSsVCuYYF7gCSYYY1WRrfAcTLB1LZIoqaoCjPE87/N5CSaSJPE8306cBz1Z/J5d2pPbNgEA9X65V3QDBQH0lr66sjp9756u6xwhHM8Ly8uUUUmUMCGVcnli/0QwGNzL3u5ICQhDvVZfW1ubujOVL+SjkehLL72kadrq6mo6nVEUORwOO5yOr2nqI77syhlb95mbnysWi26XOxwOi5L0rD93Nk+RPRMResLtAROEEUGAKaWqph0/fnxuZmZmZqY/OeD2eGu16urqarFY1DRVEATToLVatVIpU9MsFov1Wi2TzVTK5WrFaZrmwMDAjRs3stns+vq6w+lMpdaLxWK90ahVa8lkcmlpqVKtCoKgObSW3qpWq9VqzTSNYqnYaDaz2UwwGJAkqdVqZdKZeqNRqZSzmWytWiuVS6ViqVqtNhoNSRQ1VSOEW19fNw3T6/MFgwGe5zVVq9aq9+8/WFxYGBgYQBiVy2XDMNLpdKlcsgrJlyvlcqlcLBZLpWK9Vs/n8+VSSRAFTIjb43a73IIoulxOACiXyg6no9d6asUCfPzxf3118asTJ04EQ8F70/eKpeLp06f3799fqVTm5ua9Hi/CKLWxQRkdHBzEmFTK5UqlUigUatWaYRr5fL7eqGezmaGh4UQ8EfAHCOE4jpNEQW8ZtVpNN3SEMViFbqwECbg9IjkcjgMHDpw+fXo9tX7l6hVBFBVZbjQbC/ML09P3eJ5/+Uc/GhketibCRKIvEol8/vnZyduTL7zwQn9/fy6XG9+3r1AsEI6IokgpBWDNZgMhyOfypmkUi8V8Lh8MBQFQuVTOZnONRj2bzRYKhUqlWiwWDcOs1WstvSWKoiiJ5UrlwYOZjY3UwOAARzhRFCVJSm2kCoViMBAIhUPZbLbRaDSbjVKx5HQ5y+VyoVAwqVmpVErFUqPRKJdKuWyuWqtakpylfJIk2fI+8Xg8orRZT49R1mw279+//4ff/17V1GPHjiGEbt+6PTA4EPAHDuw/kM1mF+YXEKDFpaVMJuPz+UKhULlSrlQr9UajUChUypVsJlupVFRVLZXLw8PDCwsLDJgoiqIo1et10zBN0+gm837mF3Dd0OPNqYdt/3InjyU7bFU0fPOO6CgPmq3m3Nzc+fPnL5y/EI1Fx8bG/H7/+vr6wuJCuVRu6S1FUSLRSCgU+san6PVseFLhEgyazebi4uJ//ud/Li0vHTp0aP/+/ZpDm56ePnfuXDQafeunbzmcjoeea6ejYicc14JSVq1WqtWaz+ft+tlQk16/fv3u3bvJZPKtt96SFGnzhzuPvzOMovdc8HgCyraG7RqagXZs6X7+FubxZ9xB9Rlmr2s0ACBMKEMYYUAIYeTUHK+dPk0AlldWzl+44HA4VlZWTMM8cviI2+3GGOdyudnZ2VQqRSmNJxIul/vy5csb6Q2E8czMzL59+06dOrW6snr27Fmn0zl9b3pmZiafyz+YmXnllVd+9KMfXbt+/fy5806ns6W3NFV74cUXLl68uLq6Vq/VLl26HAwGI+HI+vr62bNny6XS8vLypUuXZUlaXFxaXVlRVGVjIxWPxQeHBpdXVq5cuRKLxV47/Vo4FMYIn3r1VC6Xu3HjejAQpJROTk4+ePDANM3bt25bU87dqbsbqY25+TnNoS0uLmaz2du3J4eGhvqT/aZhfPjhmVKpqKmaoqqxWPT06dMnTpxQVKWrA2w2W7du3rp7d7parTYazYsXL127dtWhOX71q1//4ue/uH7j+uzsTLVaWV1drVQqQ4NDBw8eLBQKKysri4uLPC/09/dnM9nJyTulUvnq1WvBYPDY8WO6oS8szFcrJY4nQGFsfFyRFeuNpNQqPcGAMiAIADBGfX19v/nNb7744tzc3FytVvP7/cVicX5+odGo/8P/+Idjx45ZqgsA0DR1YmLi1MlTXp/P5/VxPOd2u1966aVarZpOZz76r48EQWg2mwcPHOR5/vqN67quP3gwc/3GjVdPneI4bmpq6vbtW9Vq7erVq5TSpaWlxYVFSZbm5+YTiYTH7Tl86PD8/Fyj0YjHYjzHczw3PDQ8NjZ29eo1p9MRj8UKhcLly5fL5Qpj8NXFiwcOHJi+O33/wX1FVqamplZX1xYXFzfSG5cuX4pEI62Wnk6nf/e734miKIqix+PZt2/fO+/8bGCgv52WEQE1aTabu3bt2ura6uDg0MbGxn/8x39eu3rV4/X85Cc/FUXx0uVLN27euHPnzsrKCsb46NGjkUhkenp6fX29Wq3GolFBEK9cuby+njJNc2rqztDgUCFf2EhvfPLJJ6qi1mq1gYGBZH+S47l2ZYGH65KfNRC0x/HtC9BdPA/Q7jugnVsf36twd1p6a3Zm9g9/+MPU3am333770KFDiUSCEKLrej6ff//997/88tzQ0BClX2fYZzuUOh3HwN6SDY+aLFlnbnvEXMUAEKiqOjExMT+/oBt6o9FgwChljDHdwtAfcQTLz3h7nRQGVoVJhJFh6HfuTN2+fftnP3snGot2j9NqtVqt1mY/PI6H6Q7BqFuYZvf9e2WCbcqMbt0KACulym6X1i52AwCYYcu+2T5d72Oy46dWsqknWDvmeWMvRQQr+Y/JoKWbjDFKTcM0BUHoTybh5KlMLksI12y2HA6Hy+kaGByQZQUhJMvy2NjYP/7jP5qmGQ6Fw5Ewz3MDAwOSKA0NDwUDwZMnT+ZzeUopwjgYDI6Pj7darQP7D4RCIbfbFQwF6/U6wQRhpKqq3x84eOCg0+lqNhqJRMLpcBKe+P3+U6+eGhkd0TQtFotJovTrX/+qUqm43e5QMCSK4ujoGM8LExMTTqdjaGhI1dQIifzDP/xDqVQSRdHn83k9Xozw3/zN377xxhuRSMQKeRd+I1Qr1Xgi7vF43C63x+MRBCEUChfy+Vqtduzo0WAoKMtyq9W6efPmnck70Wh0ZGSE72ieeZ4bGR357W9/22jUI+EIxnh0ZERWZI/H4/G4FUVJbaQEXhgYGMQYh0KhWCxaq9Xe+dk7L7/ysqKo/clkNBp1e9z1ej2RSHi9PkkUnQ5nJpsxDB2ACYIQi8VdThc1TAAAy3sUb0Y0IMQEURwaGkaYFItFRhllzOFwRKMxRZGTfUmny9l9RQkhBw8e8Pt8HM8HggGgIIhCLBo9/erpbC7LGCOEQwhi0RjC6M033xwdGXU4Hf39A5bpZ2Bg4O///u+rlWo4EgkE/KFQyOf1iaKYSCRURdVU7Te/+U02m1UUJRwJK6oCgI4cPeJ2uw3TUBQ1Fouqqnb48GGX04UJ7u/v9/v8J0+eTPYnZUnuS/YJgvjuu++eOvWqy+kUBbFYKCiy8qtf/crn85mGuba+trCwcO/etKoowVDQyulECHFo2qunXo2EI5a+oVFvTOzbNzIy4vN6Dx8+7Pa4TZOahjE4NKRpan9/v6Y5BF7QNM00aSgY9Pv9qqoMD48osjw4NBgKhVRNzaQzVoUeAAgGgi6Xy5pLEPseDGpWFaOufNDZCAxYO0Pxtll+5zU9xOvCOshuSvFvQKVS+fDMh5OTk33JvhMnTiTiCUEUrXTdPp/v0MFD2UyWF3i2c3ULW//ZLc2wY57rlkPYflFbr8TKXbZF5uudJntmUJ7jXS6Xz+dVVdWK6MIYTUzs9/l8oiiFQ+HdL3VTPkPtWbY3wAEAEQQMctnc0uLi4sJCo9EAaKc/xwS/8MKLo6OjmqppmgbWPL01q5iVUmxTLOje1i17oc4TsaN1bTEFMMGbreqKTT39skU+6N0BWasUTCm1quJtV7Pt7HPrxnUyy9l8O/ZSRGCMUQaNRrNcKbdaRrPZajabAIzjuOGx0UHTbDSapVJZVVVVUTGHrbuuqMrwyPDw8DBA+7EIBAJHjh7pvmOKoiSTSdM0TdMkmFBGDcMQRQljpKqK1+s1TWplIbSKRo7tGxvbN9YrhDqdzuPHj/c+gvG+OMCmoOoUHIcOHZyY2GdZtRFGsiofO35MYq9JJAAAIABJREFUb+kAwHM8YFAdaiwR27xYColkousclIgnDh05BAClYuniRmptff3Y8WMnT55UFHVhfv7G9RuFYqHZaLbTFSMAAI7nBgYGBvoHdq2T1D/Q35dMWtfVfpkpSJL8o5d9vbuNjo1uXghANB6NxqK63mqXfmcIADFkVVbs7NT9gDkAijEeHhkGBs1mq1wqcTyvqSrXLc3Qtaoi5PP5fD4fo51lDQVEUF9/X19/n7WywQRbg5TX5z3+wvH2GIoBKCT6EolkAqzRCqPeljMGCMGhw4dM02SMWRXrGWORSCQUCpmmiRDiCAcYxp3j4/vGuw3z+r2HDh/q9meiLw4ApmGurKwUioVGs/HCCy8MDQ01m82vLnx148bNXC5vmibGuDvqOZ3OAwcPHDhwoO1CwzYvzeVxHXAeoJQxRgkh3bSM/QP9/YP9XfeCSCxy7Oj/z957fslxZAe+90akqyzv2wHd8CBAwtBgyDGckXYojsZIq11ptPvO0T+gv2Hfn6HzPunLm286R5p3jnZG0s7IDIfkGNGCBiCAJoC21dXlfVVmxn0fMqsqyzTQDRKoJjp+B2xWV2VnRkZURty4djh3Ly0tLR1bcmzHcRzPO9XvOPYVEBKAvBhNAAABQgANJufBd3fwJAkA9ytC4NXfRM+OxfySQv9TQsBHLm3SaXU2NjbeevOtZqt56dKlxYVF3dD7Czoiw2cuPNPudG7fvsU5cy/uOKJarRSLxVqtZhjG/Px8JBxxhOMaBxlnZsDUdb1ULgshopFIMpVk3Pt69Lq9XC5Xq9Zsx47F4plM2gyYjUZjO5ezbSuRSHDO67U64yyVSplmkIiq1UqxWLItSzf0dCptBoNunjTGGOecM+4Ix3GcRr1hWb1AIODWe7Qsq16v12o1d0vtbqYZ54lEPBqNAkK1Wi2Xy61mS9f1VDoVCoYUVbEtO5fbeeutN3/3u9912p319XVN06PRiGkGW80mYywSibgJ793e63Z6pVKxUCgQUTyeiEWjoVCIAGq1aqVcabaa8XgiFotWK9VGo2EGzUQi4ZZYGwyh7ysCiCCEU6lUCoVCu9WORCOpVCocDtdqtUql4jhOMBhUFKVeq6uamkqlOp1OuVwmIl3XFUVpNBqGbqQzaU3TbdsplUrFQsF27Eg4EolGI5Ew57zZaFYqlU6365bN63TaJCidSYdDYZnu6YswKxEBwS3ujGA7TqPetGyn17Otnk0EwBAAGVfMoGLoAa8Akt/aiQAI7tQ0lOj7uE55bnAE44wJ7q7Zg8M4Z175Mxpp0WjrcHhmGpvBAACQoaqqntzcX8ZURZ06rQ+1Zzh6NgIzYCYSyXQ65SY6NAJGfjdvBs3jx49nMhnPud07y6hWbaCjc0V+BMYRiA8mYzezwfgGjobr0+BXVVPBja9CBgL626X+zQ/vSAyXaABd17Rkciinj0rxQghvunHbPNCc9xvgLb1s2IzB3fV3pt5QTOtQAOyn0EavXe45Pb9Fh1D0N1LuX/jLPPrgCg8EAqlUamtrK5fLKVwhoEazkUqlFhcXotGoG3czslnszzgjJfsIGGOMA9BIXu3hi379z0GrBhIGV/iwzvhgLZ21fDBWTWMvXFGv2+vslHYssgQTQISuNrgvB8DwbtC/gQTwFAUI6GpNCIDABiIOXFG0oBGKBWMq16Zc+GF0e93PP/98fX19eWX52LFj3v51eHuQTCTPnjkjhBMOhwHB6lnb27nPbt4sFAuWZQlBsWj04rPPppLJ9Y3169evN5vNZCK5uLRYr9cb9UY4Ej5z5szS0pJu6OVS+c6dO+vr67VaTTgiHA6fOXvm2NKxWq32zjv/ef/+2rGlpWgsWq1WG/XGN7/1rfPnz+3s7Lz33nvtdodzBoDRaOTs2XPZbMb1yHafBTeqqFqrfvLxJ/fv3w8Gg69++9VwOHznzp3bt++YgUAwFKzX67u7u4ZuvHTtJUM32p3O+++/XywU3X22YRhnTp9ZOrZk287W1ua77777wQcfRKPRz1c/R8Rjx45ls7xYKr733ru5XC6VTL322msJPVGr19bur927f6/dagNiLBoNhoKnTp0KhULlcvn3v//9Zzc/W15ZvnjhYq1eLxYLiqIsLS49c+EZVwkxNkcJIbq97r1791bvrDZbzXq9rmna0tLSc88+t7m19emnn5TL5Xg8EY1Gt7a2NFW99rVr3U730xs3SqViMpmMRqNra+vhcPib3/hGIpHY2NxcX1+rVqtCiGAwmEwmM5nMwvxCqVz64IMPNjc3Q8FQPBGvlCvlSvm17762cmIlYAYe4fsjcZmRiEAIg/0FoO0IQeB4KfRZf9ZnMFBMwZStlVfkdG8VnysrjNRCfYA+cJLBdfdSd/bfHyrH9hBXRyxho9pFzvm5s2f/+q//eu3+2vr6OiAkE8m/+PO/yGQzsVjMi0GYbK2vN0aUCoOXe5WHH+vG8VXAW/7779PkEYM0CQC+S0907KDliD4JYLIB/tdjy8joejw4coqlcuJmXbXqyDt7GyPT6fRrr712+fLl+/fvf/bZZ6Zpnjp16mvXvpbOpAMBE7GvRtnrCzD2eq/v2JQv8LSBm3rXh46h+MA5d4S9sb35L//xz7u1XUIHQCC4opIgHDHzM0JXu0CAruwpULgS2EDeEtBDAI20sBk/d/rCS1eupWKp/mUPIDm1Wq3tre1msxkMBjOZrKb65AwEADACxqlTpxYWFwKBAABsbW3927/+242bN65cufLy117+9Manf//3/7Cd2/7+97/PkK2urr777rumaX7zm9+8cuXK+vrGb377mxs3bvz4xz9emF94//33//7v/+HcubMvv/yyYztvvPHGf77znz/60Y+OHz/e7XR/9rP/rarqiy++aOjGW2+/FY3FFhbmb968+ZP/9yf//c//+9WrL7zzzrt/8zd/8/0//v7r33t9cXHRFWdd67sb7LO7u/vue++aAfPixYvtdvujjz5evXPn5VdeTqfS+Z38z3/+82QydXz5+OLi0vr62t/93d9dvnT59e+9fvPGzb/92799/urzf/4Xf760tBSJRLLZbDab1TQtGovGojFd1wFAUZSdnZ33338/Ho+/dO1aNBb96PpHP//5zxcWF1555ZV0Kv3xJx//5Cc/ee21165du8YYLxaL//wv/6woyo9+9KPnrz6PgL/61Rv1Wu1//d//yzTNQTo1b7wAHCHW1zd++g8/vXf/3l/+5V9eunTpl7/85a1bt1qtVjqVzuVy//Zv/24Y+qVLl9bX13s9KxgKnjlzZmtr89e//rXr07N6Z5UxFg6HTp48+bP//bNavfZf/+ufLczP37p9+ze/+W2n0/7xj39s6EalUnnzzTfLpfKLL75Yq9du3bqVSCSisZgUEb4Is8yLIIhI9CvIEQKg45YOYgwI+6F23sEAs99XPQ6QYTAU1A0jFAy1Wi0hhBEwXL/6kZXycV1+H8cMqjUiPWJjDvpXX8otP/QkPj1KNBozA2YsGut0u4rCQ8FQKBwaWE+QJtQkEgAAcIuTOUIQCE1XdV0ViIRECAQcwAEURAKBgVtljVhfh+WFSjJPd+BpEQCBocYBVUc1DE3lHAEECDZSfXl/EDiOwzlnyBRFGQygcESv13Mcx7ZsRziMsV7P6nS6t27d+tnPf3bx4rOnTp1aXFxsd9qmabqZzTLZjOuSzBl/8cWXTp8+1Wy27ty5ffPmZ65K//333r937+73Xn/95MmTRLSd2/7X/+dfr159/sKFCxefvRiPx1VFPX/u/Pnz58+dP3f16hWFK4qiRGOxcCgciUQWFxej0eid1dULa+tzc3NujC56eyiMxWLHjh+LRCLVStV2bNu2DUN/9rnnlpdXdnK5jz/+GBFfffXV06fPKArnnMdj8UgkkkqlFhcXk4nk9vb26urnCwsL8/PzCwsL6XSaMX5i5cTy8rJhGJquxeOJTCYTDAabzaZtWffu3vv973+f28n90et/dPr0acMI1Ov1VCr94QcfmgHzla+/curkKc54KBQ6ffr0uXPnavXa7//z9/fu3dvN7y4uLmm66na+N14E3W7nrbfedFOzn1g5kclmzp49W61WP/n4k9f+6I8WFxdjsWiz2bp8+fLLL7/c6/bOP3M+Go0tLCxEwpFarXb16tUXnn+BcRaPx994443t3Pa5c+dXlpdj8Ziqaffv33/jjV9dv379hRdeyGazrnv7yVMnV1ZWisXixYsXY7GofHi/CDOs0eB9iYgYAnPfEF6d3IGHz9M+tv2bUxSeTCWT6PkNCGcmDjaewoRoTBTYa4P8FWeg7QfkjPGAMWfODYwCh0fhfzgZaIQYYxrTkrHktctfqzWrDrjl0ZGjZ70izzrlCpleTTAxPI/wOcSS68rAgGlM07kRi8Q0Q3McB5mbDvwAaLqeTCV1Q+90OvV6nUgAcCDodrobGxu7hcK9e3d387uhcOjcuXOZTGZtbf3mzZtnzpwtFoqffvpppVpJpZKcK61WOxgMJZKJcCSSyaTPnDkTj8ey2YwZMDc2Nrrd7s7Ozu3bt1utVqPZvH9/DYh6PYsx1u12OOPZbDaZTCYSiXPnzl29evW5554zAoZwRDqdvnLlcqlc+uD9DwrFAgBUyuVCoSCE58IhSDDGETEQMCKRSCKRaDQajLFgMHTu3LmgGXSE8+H1D++s3rl27dq3vvXNxYUFAorFYufOn+/1er/77e8q1SoBtdqtUqmIiGbADIVCmqbpuh6NRqOxqNvrwaCZTCTD4XCpWLId+/7a/bt373LOl5eXXeeGdCZ99syZX/zyl/FE/Nvf/nYqldINI5vJnj9/PjuXDYVDoVC42+u22i3btjRdHVPgdbvdDz/8cDuXy2SzGxsblWrVra5XrVU5Z7FYPJvJttqtkydPnjx5EhF1XQeCcDgSi8d1Qz99+vTKyorjiM2NjXffeTdgBlZWlhOJBFd5MplIxOOO49y8efP8ufOJRCKRSKZT6RMnTr700ouIaOjGuIFJckBmpUXwW8jR20sAEngmOE+ROTClP5VjPLYIDYy0CAxH7OhPhr6NAcSDpO6nbSSGjhR+Y0ffCkNAX4nIglmAvleYiCaj4RgyAHD67hleYkpCT0QAn5lo4AqLQN4Xn4iABLqOKAxh4EAP7q/gDgjsYUGbIBgMnjx5MhwKN5rNnZ1cp3M2GDKBwBEil8vdWb3zj//4j++8887pU6d//OMfX7x4sVartdvtYrFwZ3U1t7PT7XZCwVAiEdc0lTFUVTUcDsWiMV3TOOOMcWTMcRzHEZVKtVqr2rZz5/btZqPBGGu2Wi9du7a4uAhuhi4iVy8VCATcMu4W2IFAIBaN3bt/79atW0KIUqkUi8V6vZ4QDud84Ajiyla2bbv17hVFPXZsKZvJ1Bv1X/3qV++++66qqq+99lrQDFq2raoKYywej924ceP27dvIsFAoBIxAt9t1HAc0YMiAwJVCms0mELjJZz0JDdFxRKFQaLfbkWhE0zTX5KuqaiQaKZWKpVJJCIEMFc4NwwiFQgpXVFVVFO4mvhvan2j4KDmOcLOblEqljz7+yDCMTqeradrCwkIwGEQEN2daMBgMhoKD4WMMzUAgEDACAdO1FFi2tbW9derkqWDQi6zmCg+Ggqqq5vP5drsNAIGAkZ3LBgJGIBBwi8wREYi+UU8+ygdnxnkRAKBvpkYCEkCTtuennDFXiUMQn+PN5kcnxdreNzqMxjoE43KoGFutEVBhCgAIcKMDGAy1Uvt+ivdx2P4zRaiqsriwePbs2bW1tc8+++yFF17QdU3hiqHrz7/w/DMXntndLRQKhWcuPHP5ypWVleU7q6vhcPj8ufOvvfbdZDIpHNGzeggYDAY540RuKRkkcCtsAQIIIThjiXg8mUzZtv2tV7919uxZVVWtnlWtVhOJhGmajWaTM+7m2XQchyuciDY21n/xi1+8/fbb3/72d155+eVqtdrtdmvVWrvTLhQK6VS6nw507K7RFSB6Vu/WrVv/9E//FDSD3//BD2Kx2C9++YtTp07Nzy+89dabb7/19jPPPPMnf/InvV7vp//w09xOrtVq5fP5xYVFROQKByLLtm7dum3b1qXnLumG7qU0YMgQw+GwoirtdqfT6bh+1rZt16o1RVEMw3D9aomIcQaArrF40FQhHACfwA0ABKqqZjIZIrp06bnXvvua6xzqxq/FYjEhhCMcXdNHxAsAxpiiKowNHcU1TY/F4gDQbrXcDiGHLMvudDqZTEbVVKftuJVf+hWD+5HDssDEF+AwuEURQwBwSDjg5SE5wvMxjj5gM2ZseTwszXpC4Og/yZB+PJK7+3fT04DrYsCQGLruiIPQBTH6j/b4J3w/aRBAM5wNDpRJinOeTCX/7M/+bOXEygfvf/Dpp5+2Wi1A4Ao3A2Y0GgOgXrdnmmYsFk2nM8ePH1taXGp32o7jZDKZRDKhqurW1tba+lqv17NtWwhBBCSEu9t2hCOE4Ao/dvzY3Fy2Uq6QoGg0mk6nA6Z57/69re3tdqdt25YgMYi1AQAi2Nzc/OSTTwBwZWX55KmTqVSq0+natr12f+3jjz9utpoAQCQcx3ZDipChbdsA5AY63rt376c//f+ajebLr7z86quvapr+8Ucfb21tF4uFd/7zHduxl44tnT59OhFPdLqddru9m9+9fv16oVhwY2d6Vs+yrK3NzbW1NUc4gG6FHHAcoajKqVOnUqmUm5fWsixAaDSad+7cSSZTJ06ccKXmgRuZO/TuGAnfF8GDAABUVTl39lwgECiXypFoJJPNZNKZbrfz+9//rl6vu1Eblm3ZtjUYZnfcSRBDNkjoZJqBZy9etGx7O7ftppDq9rq53HaxWDxx4kQ8HgcAEtTr9WhMwpJ8AQ6BFoGAISIjIge8zevQOnnkGPXtn2ET+i+nBTUcHZ5SN4wvD/c5HQRpAPbNg57+AHy6sQf34R6hH18kwaShGy++9GK9Xn/rrbfe/PWb+Xz+xMqJRCLR6XZyuVytVls5saLrBmNMUfjJkye/98ffy+fz77zzTqPRAID79++bATOTzdy7d+/Ondubm5u2bV//6KO5bPbWrc/u3b1XLBY/+ODDr7/yyvPPv5DP5z/55BNHOOFwuFqt3rt3LxqJupECW1tbiPj+B+9runb8+HHOedAMJhKJRr2xubn53nvv7e7ucsaqteqd1TuRaCSZTN64ceP+/fu6rn90/aNqtXrr1q3V1dVioXjr1i0i+N3vfvv2W2+trKzYtvPhBx+sra/dvnPn4rMXdd3IZDPr6+s7OzvXP7xeKBaIqN1q375zO56IX716dXFxMZFIvPfee9evX2+1Wul0xrKstXtrt2/fvnvvbrPZvHv37oULF55//vlms/nhBx+2W22u8Pv37zeajRdeeP7smbP5fP7DDz+s12vb29vvvvPuCy++sLq6urq6Wq/XP/74o2PHjumGruu6fxB1XX/ppZdq9dpObuftt95eWlrqdDuF3UK71b5/7/7t23fufn5XVdX333/fMIxjx45ZlpXL5W7euHnr9m1VVd55551AIDC/MB+Pxf/wv/zhr371q52dnbffflvX9Uqlsr6+/swzz1y4cKHZbH5267Nbt2/Va/X333s/kUicOXtGPrZfnJlmVwRAAI7IPM2BQCQiAaDAAV2TJF8izNsdzrodklmzj+XZfXSn5JzwJ7c48Ez9pbgpIyDHWCz29W983QwGf/fb39767Fa9Vs9ms7Zjb25sLh9fPnfunKKorlPe0tLS9//4+2+++Wa1Vv3ss88457Vabfn55bm5udXVVcuy3exA6+vriFCr1TVdm5+fr5TLlm29+MILhqF/+umNu3fv6brmOM7i4uLc/Fyz2drY2EilUgCYy+3k8/mFhQVN1Y4dP/7yyy8TUbFYdByHIbt48aLtOLquuxKG1bPCobBpmrmdnG7o9XrdMALpTLpWq62vrTUbzYWFhZMnTwLRzc9ubm5uzc1l0+n0/Nzcd77znTfeeKPRaNy4ecNxnAsXLiBis9lMpdLhcDgejz9z/pmN9Y1SsRRPJBYW5oUQu4XdZrNlmmYwGKxVa5zzay9dC4XCd27fvnnzJiDUarWzZ86+/Mory8vHd3I7xVJp+fiyGTRzudzubmFtbT0QMM6dO9doNKrVaq/bc2MpB0Opqur5Z853e90PP/xwY3Oz3qjblh0wAy9de6lSqXQ7nYAZUFV1c3OzWqkuLy8LIfI7eSFEOBTiCt/e3i6Xy/Nz8wEzcOXKVbdOyp07dzRN283vRqOxP/iDPzh/7nwul2s1W6FgCAGLpeLW1vbp06dl3uUvzuy1CIwxTdHczHoIKGwCdoRXp5kp9UcTn6Kr1KF+rfgjif9reNSmGvL5YTyMyeMOUW8hZNKZV1999crly5VqpVqt2rYdiUSuXLkSCoUVRUGAYDAIAKqmLq8sJ1NJy7KsnuUmtopEIpqmpVKpZ599ttfrMWRm0FRV9dmLz/7whz8QQrgrq6qqr7zyynPPPtfpdBBR0zXDMNxaZdnsX/3lX/4PBFA1LRgMuj6AyUTiW9/81uXLl3u9nqqqmqYJIb772mucsWAwyBX+3HOXrF6Pce4WB7948eIPf/BDIjJNU1GVb736rf/5f/1PVdUUzgHBsiwiikSipmleDQZPnTpl9SxkqGu6oirf/e53hRChYCgSjSDit7/z7ecuPQcEhmGEI2HDMC5cuHD8+HK30yEg0zTD4QgAJBKJ569ebXfaCKiqKufcDAYNQzeMwF/91V/9xV/8OefcMIxAILCysvxf/vAPHcfRdT0YDBoBwz/8bnaHgBl4/vnnLzxzodPtdDtdZBgKhQwj0Ot1L1y40O12EVFTtWAoCAiGYVy8ePHEiRPdbhcANF2LhCOAwJAFDONrX/va5UuXO51Ou9NWFCUUDJmmqWpqMBicm5v74Y9+5JZdDQSMKbUzJAdnpsWgCRgAQ7caMCKip1EYZqs5eswmgmP0eug6mIunOR/FPjmaHUDjTgBPmi+1w5FjwDQCphFPxJuNpuM4RiBgBgKT4XCccbdGhu3YAOAlxiBQVTUYDPoPdgsoYN+3YOCWL4QY+Pm6L6bk7RGADM2QGTBNx3EYIlMYAKQEEQHjCABRN5p/2BvhPW9vdFNhhkwzZLrJVZEhIMQT8WESdIBQOBQImI7jqKrihvMEzICbPMrveqTpqmmajuMQEOd88OduTw4vjWAGzXgivmfn98MlNE3TVC1EIcdxEFDRFAAwAn19gxjegts5Zsgcucd+5weMgGEYrvOEfwRdkWWYuBZHznkgjpCn9j6YnYhABAAcQFfVSDhkGLqhaYam9pOEH22nxRmDADDI1j4tnaHk6YfA73r2lak5+QA0XXPTGw8c4pBwZFHp+6WOJD4fvBA+hZovy6f/+RiUbNgTGq7EyEBhfPAJ4kTqh4EvEI7+LTxM3Tiab3RszeMK48rolcZO0veI4iofSQ3yAL3a1I8m2uZWih/e1Nhf7SWRT7injFd78hzYyBULhvc+dkLqx8+BG+Q9pe/cN6WUMGCGCZgZef6uPBQyVVUNBAxd09zIRwA4ens3AJitu6LvQaRRJ36vVUdMbjuSX0AA78bdWuDezOsXFw655navZWbsfRxdBkZXkZEXA/ZjcHto50xdbic+Iur7ckw9XuzZmGGZx8mGwUTbpmYGG1vgpyaw9zuiTluGp4MTJx/7dT9fLf8Bo5f2VB1jOXfGoJELeWLiqGWkf+BRmuv2ZmZlnLzIBSCGoGsqESGAwhg74uLbbO/eTVjl308dcY5sH+wlDR5y+QD2buF+8oHh6ALz0D98TKDPEYQmVlN4kLDyoO3vl3gX/h7DL6mL6OBeT1Mv6h+4qQ3bV1MP+bf8yTHTiIZ+gKP7XNKwkKxkliARuBWlJUcY19AwKMna3331y3Ue/HRP4smmiRfDN8Z2iwAwunndQyTyfA7GAjgHTN3l+09I00WQ8dKjo2d+lKDvyctNbRgM73o8NnXyTx6gN8Rprx/Q/wQwGAJ/UwdDMHnRqaodmHaDOHHM1Gb0jWfk1cF9gKFB2ho8Zh/RAOSmVaRRJZHkiTOYvIAARD+iYaDFm1WzJDOiLyP05/Fpzyb1j3rgfDqQNvY8gGg/M7JbPWSv8/idJ6YcM1U9AHssjdDf1LoLCvgywfsfE/Jl9p12/pEb96vlBwfQNLuAt4rh8GyTyyeNrvRT13Ly/Rzo1d3m0OhVpv4hPExEGIiNMPDcpBH9x9hJfV2HhEMhCb2+Gur8ydddY1qBsatP6xD/JX0F5vvqGc+OQ4hIYjyfL1H/cwkAHAIRYShDIpLUIhwKiHyP3V6bJsnRgAAASPjS1Y1uH/fjx/jQY/bpDPngw0YWg8lPx3I3+C1pOPHO4E3mS+IL4H8x3phJm/3UguwDkZtwvPd87ZnS2rHX/oMnj5l6JPjqj+O0q0y93AOUif3zD9uCI+cfOZaGdWe8Ipb+I9j4r1NaMnWABgeP/TrWtJE/RAA3K+j0JIxEQCSeBgfdL4OZiwjgxTuiK2R62wSpTZghE2V393aOkjzloCASjnCEY1mWbdnCEYwPvwyHcLc1spEdex+HnvBeVQJ3V0nkpgH2HY6DbTERuQWB3HfHbhn7uSQH7yO6lropneNWovG3x38eGm6QyPcp4ujJR7Ql3rkA0N+2UX//kYaR/yT+Ngw6bSTj9cT9jt34sC0DLQKi2wNjk/jw0gBExJB5ZT58C7ZreR6/30Ff9S825qgxGL7Bwb6LTonH6vW6lmX5zz96X34xRnIIRARXSHDLQQsAAcRBblYlkkMBY9izetvb2+vr6+1W2y8fHE5IuA4U4zOImxtgYiH0FqTpa/9+RATwalOOrcR7LK7D3c8eIgJMfjr50dCewnBwv375Y5g1yKff94sI7hI+2gavPM5IqOu0u3AbMFBIeE4G7jn75aAmbnxcRBjLHuGJCO7q77uo/3jppyxnAAAgAElEQVSf2DFoqtfz7r2Piwiu8WI0PJKI1tfXt7e3OVeEEOPCVv+qU948qsxYRHDVXQObmiAixIF2+7DPRkeCQ7dNlDwhEBSFM8Zqtfq//Mu/3Lx50zSDjCE8cHM5c/atRQAA6msRJjf9fi0CMOZfXB+uRRh7x3/wMKZuYnkeBDr69/cDPYfvTsZX/bGVdez296tFGNWvTDZ4rAFTMhOMygHjfzQiIgBD9JZ4Xz8jjt/v4Hi/+DJ5gw/VIgx6hnO+sbn5+ernJ06e8ArBTzBo0ZTPjh4zrtHg/iQBIEgIGpSWH3NAkTwRpvY39bOUSY4WjPGgGTx54uSlS8+RoHv37g2U4Yd5l7WX56NPRBgsGtSPqSLwbq2/MvV3LkQCCJAxIgEAiN6LAQNzwOB9RNY/4diDM6JC9+vA3cuR57LdXwrR/9HIqSY1FgBjIsJAEe8/eHgX/X27PwGU2zM0KiKM3+9DOxn2FBEABoIFAbKBcDPsZ8Dx+/WSSfVlBN/5B/oYJBL9fmDeqYZXnZBdCABh5cTKxYsX5+fnp6e6OsRf7yfPDLMrDrVlfW0CcwAECQA+5oAiefxM+gUxAH6kazQcbRAhnoj/4Ic/OHP2TKvVdhwbJtaAQ7jTeiQtwpfsi7CnFmFPX4T9ahEeoy/C/rUIky3xrcT780XYU4twMF8EX08+WIswdmuqqh4/dnx5ZZnJeoEPY2Yigi/Sx9ua2EIIAtZPQnro5p4jxMB12Jdm0ZsFpGbnqIAMNV1Lp9OGESAhBInB0sQGdmhx6B5T2iMwcigiDJUIw5XVWwsHd9P3ZnBTTDLG3Dv1bP8+EPu+CP33vf0xjh8J7oo/0CL48zSMGuA9Tf5AjeA7FbKhyX/gsucePDzDwBWD+nc6+NvBXVBfjzJsAw7Ek2GTJ+535CMaygjozQ6EgIOPRvofhsGxnv6Gxvt5aDHx3S8MhYDBjY/6IghC9Pki+Bo81slukxjnjKGmaV75jEktyQMDdI8asxARaOS11bNazXav12s2m41W03YcnStyJXrijPZ4353JfVwkRxECQOAKj8Wi3nTsL2cwOOaQMdWJffi+/yMarrI+P0IAGL1BgpE6DmO3PNkVD+gc/5+PTXE42p7B66HFYNqvU08+dvu0xwE02oapzZ68X/9Hky0h3/5i8iMYvRxN9PPk3/oHaPIk/ovSAztn8q/6R46NA/VlmT3OcuR4siICAZCruPYEZGBgC9FodSyr12y1Wq32QPz0tqyD74QcsscITTwpAACIBAPn0bFnVXIUcDdYDIa7qkNvtd1rbp/y/tjqOPUPceLTvW75Aed/wEX3+ujB/bz/Noy9OWlOfOhJHjzEDzj4oed5QGP2+tsHNPihAzRGfyob/2IcPtvZbJldjQZwNU1ABEIAY4wAbCEYY55IKEfqkHD4lgHJk0DK5ZKnm2k6ial6iqPM7Jw10DPMUT+DhisVCCGG8oGUEp4cU4QyIpnvUiKRPI3gXkKwXHVGmG1eBNeYgMgYARJyADcGpY/0Nn1y7HPPKAD4w4+SSCSSryAISP6skUeeGS/Cbv04zjkAACIhTEvMJTk0yNGRSCRPMYOAFwkAzFhE8LnBAZKXy0MKb7NB9rxEIpHIfdAIT1ZEQAAUXikG73cvOQkJL3uGRCKRSCSSw8AstAg48srLZdJPsjWD9khGkWMgkUgkEpi5LwIAMETOkTEEIhIOAMiIhlmAgx+0R44ROR4SiURypDgMIgIwhiQEgHBLeo58LFelJwH6kuOM4fdRIAAhh0QikTzNSGcEH7MTEcj7jzOmMEZAnKH7YuIwyRNl7wGQgyGRSJ5yZIEGPzMTEdw6Y4CgqmooFNQ1LRgMmabJGJcDdJh4QFpUiUQikTzNzNLQ4FZd45yZgYCiKpqmGYYxXk1k9paQowD1w0zG9AT9opvof0cKChKJ5CmFvEKUMneSyyxXYDe3LwK6tVbd9H4ypkEikUgkswFB7oL8zHaT7hVnYEhEgkgA0HjBVskTRXa9RCI5wvSd5KRHgsusDQ3k5rp0GEcAB1HIVWpW0PQvg8y6KJFIjhpSQvCYmYjgjYArshEhIgIhkByZmTNFIpBCgkQiOQJQv0CDXIlcvkClx8H28ouZBhBHsi2iXI1mzUTqJPmoSCSSIwGO/pA8qhbhS1U/IzJCICIQRCS+tPNKJBKJRCJ5VL6woaEfFvfoIBJ6IsfwNFKCmx0TihySwyGRSCRHkIMbGgbGhbGfj4YnHLgWBrcKpLQ0zATXd/ShET9ydCQSydNMv6SgnOsAHkGL4KZEBHCTGIzm73+kLhWABByBESEgZ1wmS3ryuCM6dQjHPE1kgINEInnqISkiuBx4PXa9C8khx3Z63Z4QfdeBg/Znf90hIAJChgLAchxAqdQ+tMhnRiKRSI4Qj7hltx07l9v593//99x2TjiChJds4hFwbKfT6XZ6vWq9XqnVHNuRK9EswD1CU/xvSulNIpFIjhAHFxEIgKDZaN6/f++TTz8tloqMMTcrYrPebLfaIAAAHh6X0JcDBEHXsm3HaXXa9XrdM4ijrAbw5Nmru9EntMlRkUgkTy8ICEgkM/R4HNxdEYEE2bbtOA4AlUvlfD6vqZrt2Hfv3g2Hw6dPn+H7WUj6jnGuxQeRCSLCQT4lyczAB/wmkUgkkiPDo6ROQo4BM6Bp2traerlcWVtbiyfilmV/+OEHZ8+eXVleYUxjQwf5h+BJCABCEMnqWocRv6FBjo9EInmakY6Kfh4puyJBrVbP5/O7+Xy9XrNtS9M0x3ZWV1dTyRQR4UAZ8FARAQGRI3AUyIADMCkkzIzpHS99ESQSieSI8igighACgBRFvXzlSiQSjkQiCGjZlm7oc/PzriUC2X6XE0RgCIiCAN00SnKzOluQxiIbSYaZSCQSyRFkHyLCqDKAiBBZLBq7fOnSubNn0+l0MBgUJIQj7t67q6oq5xwRCR62rHgFnNxEC+QFP0olzyxBVzhDKaBJJBKJZL8iAgylBLeCs6qpqXSq1Wp1up1ypSwEBYNmNpsNBEzOFUTcf20n9ygGQODFTsoVaqY8rPc9kdF/mNQxSCQSyVPIo0Q0AAIj1u12b3x64//84v989tktxtjx48def/17zz//vKoqB1oyEJEhMmAMkHnOi1JKmCFEXtEMiUQikRxp9pEXYWy9FwAElmXnd/IfffxRu92ORqPRaLTdbr/33ruffvqJp0KA/S7zDFFhHAFBCMe2UJq9Z8PQJ7Evpk0biIlC0RKJRCJ5WjmIFsE1AhABQK1W3dre4py//vrrK8srjLNcLveLX/zi7t27ly9fNgzDO34fCwoDMBQNAEkQCGdwIcmMQN+//jvDoZQigkQieaqRk5yPg4gICACADImo2WzWqrUrl68srywnE0lAiMcT9+/dN4Nms9HUNf2hEQ3k1slAYIwpisI5Z8xhTCoRZo+U0CQSyZFF5lX0c/AEzAiIyBhnnJXK5VarZTu2bdsI4AiHBLkRDfs9G4HCua6puqoFzUDQNKWMMAv6Fbk9HmAoIt8xe5V1kEgkkq8qrqVV7pRc9qFFmFbZJxqNJBLJ3/zm7UJhN5FIOo5TrVTur92/cOGCbuj7zJnkvmAIAUNXFQWA65riBT2OhlFIHj80Ylnw3ul/NJDb5IMjkUieYgjckkNSnepy8IgGAkAIh8Lz83OO47z33nu2bXc73Wqteu7cuUw6Y+gGsn11r2toAARExhhHdBBBJmGWSCQSyWxAb/sqzQ0uBxYR3PzKyDAajX33u99dX1/f3Nis1Wpz83NXrlw5ceKEd9w+u7e/d2VcpZ4thONVd5JSwqGA5EhIJJIjBAENYu8ljyAiuL4CvZ61s5O78emNkydPnj9/ngQFg8FkMqnq6oi1+qG4BwtCZETk2JbUIcwImhaCQlJKkEgkRwfyig9LAcHjkYpBO9RsNra3tje3ts6dP3fy1En3k1qlZlmWGTQB9hHx2C8G7QY1aJreajaIRP8jiUQikUieKEOHLOk4DwCPWOkRAREFiV6vVygUtja3dE23bHt19U40Gr3wzAWmsAMs8wQEhAAEZDkWuL4I1Dc3yGGSSCQSiWQWPIqIgIiKoiiKsrW19R//UV9fW4/GopZlXb9+/ZlnLpw5fUbn+gGWdgRCV7sjBAiGMqJhxhw8EFYikUgkTyGPpEUAaNQbOzs7u/l8rVrtdDqapvV6vTu372QyWUc4B9j99w/jnAsAy7ZloceZIwMbJRKJRAKPJiI4jmCMRaPRb3zzG7FYPBg0GWNWz0qnMydOrDBk+9mHevkPEIDAEQKRAzAhiEjIfDyzYJ/OpVO9GiUSiUTyFPIoIgJXmBkMZrNzAHDu3Ln5uXlHOES0sbGhaZqqqvs6yyAfDwJjiqLoroiAKPXcTx4E2E/ggpDRDRKJRHJ0eCRDA4EQotvt3Lx5cy47t7S0xJEDwLGlY4wzrvB9ncS3EUWGtiM63W672xFyEZJIJBLJTCFp8waARxMRiKDX69brDcuyLNuyLAsRSdBuYVdR1Ewmjf1oxoecp//CsqxCuVSsVNrdrpCOijOgn/wA8YES2v6yZkokEslXEAIiJEAiELNuy2Hh0SIaQFVVRVGq1epHH33U6XTD4ZBtOzdufDo/Px+LRjVdf6i5AAGhL6YRUa3RqNbrXcuG/YkXki8bt4zTg/0MZN0miUTydEJArohAQAKETOLnchARYbC/J0BEy+qtra3ld/IbGxvxeNy27evXr7/44ovXrl0joocnuHZTJ7lLEiIhOCQEkVTvSCQSiURyGNi3iEDgLfwIBNBoNAq7Bc4VVVNrtVqtVgegZrMFgN4Sv297gSAQhCQUx2GCQAgpIswIQpAJxSQSyVGGpBfCCPsVEYQjGGeAQAKQga7rx48f/2//7c/CoXC9US+XytFYtFarHT92nDFkHA8QHIeAyAF1RMVxHC8Hs2QG7DVa8oGRSCRPEdOy9/o137LM44D9ighMYQCQ297511/+smf10un0wsLi1atXg8Hg5uamEGJ7e/vWrVuO41y5emW/F0dyhwKRIXNDJR2BUkSYEf2HYtRKJMs4SSSSp46Btts32TFgDBgSIiEDJlPAwEF9ESqVyptvvZVMJEKhcCgUikaiuqHH44l0ura1tbV6ZzWRSDiO2F/PIlDfQQ6BAwCQI2wgQSQV3rNEDHMw9zNXeAMqZQWJRPLVg4hG6jLh5GTmhnQRIjCGjKHfXZGIjmxVp4OICAimGTh/7tzXv/GNM2dOc84bzUa70zYM49lnn11ZXmm1WrFoDIAcx+EK35/85dbdRIbIgEg4AETkIO4vuYLk8TJZG1oikUi+YvQrBfrWeXfb4+qsmeOAA0gdu93qtWxhM8Ec4QylhCMqHgAcNOjRNM0zZ8+m06mdnZ1f//rN27duqZp69erVa9e+Fo/H5ufng8EQEe0vexIBEriaBAAFFA6MIQjblkvRTNhD9UMA4ig/IRKJ5KsOIqP+WgPgmU+p/7Pr2BZZzW59Y3Pr7tZaqV7NpDKEgOjpEo6ya8LBRATOlWg0YhgBTdUSiXir3ZqLzqXTmYBhcMZDoZCu64xxv6r6gbhGBuDAGCqAKIRtWbZ0KJ0FiNOFhLFECLJGg0Qi+erQzwknAIiIuUF5CA5zbLC73V65XMoVtndLO4VSfmcn/9nqJ9VGMZ2KIwoAEiQQkNAN9zqK894Bgh5dUYqIOGdzc9mXXrqW38lffPbipUuXorFoq9FijHHOFb5PEwMAuasSkhCqojBEx3G6va4UEZ44uL8STdJ1USKRHA4ePBXh+AsGCEgO2e1Oq95p1Nr1arNaqZRzuZ18YbtcLlm9nqHqDEHlnCFyzgAQARGBCDx1wtHzSNi3iIAAAjrd7ubmJhFUKpVCodBsNZvNZm47l8/nO+3O+vp6JpOxbdu2bUXdx5m9DSpxhqGAETB0x3G6vZ4jxCPWqJZIJBLJU89Dtyrkulk7bs7EnmN37U670+y0m6Vq4X5ubS2/mdvZbjaanCmmbmTSc8fml1PRdFRJ7ayWOGlkMxjKBEd3a3Qwd8Xt7a2f/OQn9XpdVVRHONVqNRQMBcwAETm202w2//RP//Q73/kOY/syMwyC7FRVuXjhbK62KsDu2j0h+jERsl7DkwN9P8feHwT/yATMEonkCfLQpXksNgFd10QCIEtYBI4Ap9Vt7hR2cvntja313O52uV7uWhZT1Fgoevb42bnMQjaZjUViITMCDq5+cldTNQYcvSkP4UgqDwYcTETgnKfT6fm5+WgsRkIgQwAgQcjQ6ln319aMgIGIjO+zoLNn/lZVZWEuE42E6s2SLWwhDQ2zYepjgPs4RiKRSJ4I1N+nTBpF3eUIHQecjtWp1Mo7u7l8IZcv7RTLu416w7JtxVBjiUQ8lpxLLWTjmXgoHo8mY+EYAhJRt9NVuUJuIQC5CgHAgUQEciibnfvB938wvzCfSqWEEIwx9ycQtDudDz/8YG5ujsgTGvZ/Zs7Q0FRd00pVu9frCceRKoQZIrtcIpEcUgbbT1+qN5eu0600yrVGpdmsFWuF7d2tXClXrpY6nZaqqDEzuRBLL84vzmXmM6m5eDhpKiYAokDwSj9TjywAIBQE4igbF/wcwF0ROUaj0a9/4xuRSETXNAJyRQQAZAxt24lGo5qmBk1z356fBIAgSGXMUFWVM+HYnW7HkTmYDxd+zx/52Egkki/AmF1gn0y4BBCQDXbX7vVsq2f12t12sVLYzm9ubq0Xivl6s+o4TkAPpGLpuZPzC3NLi5lj0WDc1E2FKwrjnKnD0rbUt7MiAgD2c/qB2FtjcWQ4iLsigK5r2UyGcYaDELn+qqGoyuLiAucKV/ZpZYChJodQZZwBkLB7VmeYsOIID8wMGKYJ8Ucu4KiIIJFIJI+R8Vnf+4XciAIC4ZBNSBZYzU6zXC2vb21sbG5s72yXqqVOq8kZi8ZiK8dPLh9bXkgtxCOJgBEMaKamBDioCu4VkO95HgyCGz2ZZJBX8ahqtQ+WgBkBucoHtbAQfOWaCDRVAwYk+n26395EADBUVeMcyLHtriNs7+2jNx6HARy3wsmE2BKJ5FEZW/P30EUSkJtNDwAQiMHIIiKABIie6DVa9VJlN1/ayZXypUqxVCq2Oh3HsTjnyXQsFTs5l5xLRebjkXg0FImFYoqqMWRsaJaY1h6vkTiS/AC9QMmRw44eBxMRfLn7EdBTAyAC4FAyIEHuYfv2AkVAULjCGQfAnmXZjvAuB0d3YGaBl/jiIUdJ1Y5EItkPY4lUHuj67JaiJy8nMjog3LlIkNNo1eqterlRKTfKxfJuobRbKBcb7YawhcLUZCyZiqeSiVQqnsokM4lYQlMMBTkKpqAylAD8C8rg9X5CGo+2cfVgEQ3DF66E5xvjgX8ie6ChAV0YIiKwgZyBDBnnHBmzLEuQGAbZyQXpiUPo5rR6yFG+13KEJBLJHvjWZgJCcLMaE05o/InAIUEMCETX7nR6bcvu1pu1XG5zeye3vr2RL+a7va4QFAiYc3PZxbml4/PHs6m5RDQRUAMgUFXUvsIAkaPndOi+wQ4+aZFPhjiqk9wjiQhfBgOpjtDNi8k0VWOMda2ucLVNR3VIZg3RERebJRLJl8LUoi9ESNjXWQ4PIwdsx3aE1XO6+Vppq7i5VVjPFbZ3CzvtdgMIDd3IzKfmkscW00vpWDoWiRmqbmiGrhqqomLfROCQAwhDO4V7ctcFcS/Ftlxr9uZJpzGkPkBu6S1g6LmEaJrJmN61erboCaBhGmcin/uI5DEx6F42kSLJV72B5ChIJJKDgP2CigCAhMTc7EYISCgcEAywbbVL1XK+sL1byudL+Z1ioVKvdK02YxgNRxZTi5nkfDqejgbDqVg6bEYCusm5wpCNR88RsL5ygkj4FRUPUQQcYT3Bg5lRpuOJGptCEGMqoNKzLYds7KfE7tfkOpoVNGbFA7IoymGQSI46e9Y/HGgFxoz9CO6+UKBAJMaYJax2t1VtVButervVKlVLucLObjFfb9S6vS4g13U9m0on44mFzNx8eiEeTcdCMR31/pV8UQa+NwB8KZNxv7F1U25B0md2xRDI84xzc2jbro7JcVqdlhA2+n0jAeTK9CSRz4hEIvFDY/+f/uu4/+EAwQSBsByr3Wm3262ebbW6zWK9uJ3fyu3mioVit9uxHUdVtWg4evzYykLm2Hx6PhmJRYKmrqgcGTINURlcVJBAYn27waQqgSZas/87lfPfCDMTEUTfdR4BBfF6o5Pfre3s1jQGlm25H3ifS/ngsTMITXEZc/P1Bz0OXstBkUiOClMd//u6+ZHQd29nN4wxJJvsrtMjJsq10nZuayO3ntvd3tzZqjcbggQAZBOZU8dPZTPZuexCMpYK6aGgHlSQq1zhODA4MwAc1BtGf8TceATjI63xrlaChvpq9EseR3i2OxwlFRG6PVGtdWv1Xj3c6NkWAaI0Dj1R/N29dyQQShFbInma2dOIMPHmeIoB39xgg205VrvbqlTLu+XdXDFXKBdqtVqn2W52G8DANM25zEIynkzGE4lwIhqKhkPhcCgSUAIMGCO3dNzUnEX9osyTU9GE8eFRGLvvIx97PzMRwa8cIABkqiOUbg8cIXo9yyF6JDuSRCKRSJ4E/hxIhERAltNrtpqVaqnSrNVa9VK1sFveLdeLtVal0+noipEIJhfTS7FIPB1LL6QXU9Fk1IyqqsHQl9PV/cn250J4hBfvJ8MMtQg4yNKDBIqicq7bNhMCut2ebVuqwoUARIGP5nUiORiTWccAQIAsZyKRPGX4s6v73/TMBgdYdQWIdrfdsdo22J1eu9Io7+zmtndym1sb5XKp2+sx5IamJ+Lxi2eW5tMLx7LHMqlMwDARGAJjyNjk9L63en/kjS9Xz+zZWqXEMc4stQgA4EYrIICu64zpjqPYQnR7HcvuBRQDwM2hdOR1PRKJRPI4OKD875BtC4tACCFsYTc7rd1yYSu/ubW7VSoWqvVaq9N2BAWNwOLCUjKZmkvNZ5PZaDhqqgFDCwSUgKpofcP/RFOGq/5+ZvvhGuJ/bz8mEsn+mZ0WAfumJgSGoCoKoCZIs5xmvV3r9FqRQASBEciqjxKJRPIYmPQ/pPEqR24mREGESALsHvUqzcpOYadQyOcL+VKlVGlWa62aLZygboYj0eWVk6lEOh1NRsxIKBQOGeFQIKxwhREwGEljMMix0i/MIHw2hkdd0b+wZkEKE2PM3F2x767KgDOGgIKo2Wq2e23vyyKtDE8c+YhIJF9hpmpdaUIgeLC7PgEgEVCHOvVWvd6qV+uVZqdZrhSLpWK1VqnVq+1OWxCZweB8ZiERSaQT2XQ8k4qnYpFoMBBkwBhwIERiTKCXAG+w+hOw8cAp7v2OU42ee98njplOptpRQGZHejRmKiL4SmtwjipTFFSEg812u2N1Ye90mZLHioxakEi+2vhmzn40Ig2TC8HUGixe2ntbON1er2d1u1arZTWrzepuZXdnd2e3VChXKq1GgyGqXAuFgssL2XQquzC/MJfKRoLRgB5kxBkxVVH7sQVs4Jc+PpfvKaAMwhJof1v68cP2cLR49EwJR5yZaxE8kEhTVF0NENRanW7PsWgQ9SKFvyfL3p0tZQeJ5JBDow9wP41Jf79FIIgIGXN/8d4SNpFlk9O1e7VWfbdc3NnN5Xa28uVcuVbq9DrIGONqJBw7e+b8XCo7n5pLJ9IBLWiogYCqa4rmOZUjAwByjcP9wn5EgF663LH6cHsZFKYs+XtPSnJteLzMVETAYdwMgVAUruma7UCtUe922w44nJThF15+Ex4jCMD2IYoRgPhClkKJRPKI7H+r5PffGkumbgMQIgcAAcJBR5BodeqlSnG3tFso7uwUcqVqqd5udrtdjlzVlEwqk4ymEtF0MpaKhmKapoXMYCgY0hRdZSoC60sEPq0vCQIc5iAaBkoMTAsH8EA/qHAgnQm+XA6HFoGAMQwYajCgW4DVSqXVaQEAolR6P1ke0ttyMCSSGdDPCryvWjUCEDy5AIEIkBw3HSGAA45NvV6v12h1K41SuV6qNaq1eq1ULtUbtVazYfV6XFHMYDibmI+H47FYNJVIp2KpWDgZCoQUrjGvlLPfWsH6xgFyxQVk8LDlX67iXxkOh4iAwDhmUvGTx+ZzlVyr1Wy0GmIgC6P8Rj0p8MFigBwGieRJ4KlWx2wGexzn7cs9z27sF74DDghABNS2u12r0+40Or1Ou90s18r5cilf2ipWC81W3XEACAO6kYjHk5FkJpFNJbLZ1HwkEFE1lSNXuMIQgRDEtKhCHLRgMIGgjFR/ajgc7ooEHNnFs8uK4dy81711+3q727TsrqooRMhY/zsov2+PC+rvPfgDD0Mpr0kkXzrkBQB6enjyuda5CgEiQnBV9r5MMdA3+zMAQUACGAMAIdAhmzGwqWfZvZ7dK9XK9zfu5Uv5rfxWLp+r1CrEkXEIGoGl9MJ8ev7YwvG51FwwGAoGgppiMFQZcA4Mh7mEiFwNgXs9f2bcfoEXAgBg/qTJI7c49b6/EGMeiA+al6T14ZE5HFoEAM4gFQ2J4wv1Zvbzz1mtXm02G4GIOdUZVvLYeLAgJuUDieSx4HvwfOWJ+tEIPkO+8D4aHINEQjjkAAIItISot1ulSqFULRRKu6VqsVavtJvNVrvdsy1FU6OR+MrxE/FYLBqJxiPxeDAaDoSDejAUCKuKLkCA50aA481jE4//+BI/gxA0X7/JTeRj4bCICAhgKJiMhLPxhMZ5s9Wo1euJUFJxW3gwBxeJRCL5yoITr/tOCF5cAKKrW7CF45DT7rZrzVqlUW60mpVqtVKvlmvFcr3c6rUcYasKD6laOpMMh6LxaDIcjqXjmWQ4Gg5FDS2AgOAQBw4cgYAB9199NIBwNIoQxkUCNgtnpX1qESSPzGGJaAAAxkBTeDIeN41AvVYvV0pLmSVFVb2cG/IL8LghlKbrxq0AACAASURBVJkoJJIvh0fb0owF9Y/p8xkQUMdu96yeTaLV7bS77UarUaoUdna38rvbxVKx3mgIAsaYrhnRUCyTnVuaX8ok0plUJh5NaorOkaNARois30a+R4WWKY3bM5vBg9598CeSw81h0SIAABConAcDoZAZqTTK24Xt86efMSAwfNbk1+yxMoycHttIyEAGieSLsUfl4v7LoW1h8PgJAARhO7YgEsKxHadn9bpOu9Io50v5ncJOpVYplcu1atV2LEQwND1sRpbmV9LJTDKRjEaisXA8oJka11SuaZqucJUBMl8ZBBzYLfbwU546IxwVjuAtT2O27ooTSb4IAnoomUjtlHK7lbwDji/jB4ActScCjfcyTbyQSCQHZGyhFeNq1P7KTQAoQFhkE1hdu1OpVkuV8m6xuJPf2S3tVJuVVrfZ6jYNQw8aZjodTyaSc+n5aDgeNMLBQCSohwxd1zWNc4UDw36KAhpcpV+IYSRuAh86xU4YGp7G+Zi88lJP4a09GjMtBj1h4SJAzrVsKvv5/VuVeqHWqkWNBHpPjVygnhC+fvbCqPrTiBwBiWQCv6eU+5h4+YMBholdCAFHpG9XVeAQAiBHABDkdKx2q9eqt2rVerXebNQalUarXq5U6q1Go9ns9SyNo6Iq2Vg2GorEw7F4OJ6IxWPheDQSNwMhjgoCYwSIHBGJ+i4MAxkAvab05RNiXnOHrogTiz8dteWSiGRV6AGzNTSMf/kQUFO0bGouZIZqjVqxXEiGsqYakOM1O+gIzhESyQEYfzp81oL+WkMAwstAjNhPPGg7Ttdqde1uz+o2W81Gt1lrVsv1UqVWrpQr1WqtY7UdR3DkhqYnQvFoOJZOJOPxeCKWSCZShmZoTGXAGTLO1P4V+65bk3lpp7j27Wm/HVR28MULDI59yrcKPjuMZIYiAo0auQkIgQFoqpaMpQzV3K0V8oWd5eypkBaAvk6MpEPd48I3r43zlM8IkqPLxFee9pfB0H8CADf20FVSE3hzGzGF+Q8iIAGO7dgCHAHCdkStVi1WdnfLu8VKIV/I5wu7zXaja3eAKKAHIsFYJpXJZuYTseSxzGI8nDD1IGeKyhWOjHMNAAb1D4YrOA1yKI1p/tB/u2PekHvfmt8Q8lTPAzgYPjcpJdHTfb/7ZmYigr/y2GAs3Dwg4XAsFk3e3b2f390hsGDka340PWceN9jXlk5271gwtKzRIPnKM0whDINcREPJ4EBSwuDJQZ8y300h4AgiIhICkAip3W0VyruF6m6pUSpWd8vVSrVRa3YavW4PBJqGGQlFFrIL0VgsGU1EQ7FQIBw1o4YeUFVd13RN1RXO2egjSr46dzhY070kiDh5H+hr8745Sg+7W1sCkUg8/OCjwQy1CIMXg5UJCcAB0PTg3NwxY/1WrpCvNCuxYJIBl9qDQ4AUqyVPJ8OaQ4MVcX+bEQEgAIiIkBABkQDAIdHpdZqdRqNVq7frlXqlUW/UGrVqvVyqllvtFiAgMMZ41IzGM4lIMBoLxeKRRDgUNk0zHAqHgmEVNPQMAQi+1d6v63eVCMzfTvQdIifNA+HXG8iprs/sRIQJt3lB2HGg0ujk8jkHzFgstZvP7ZZ3F+NLmmogsKmnkXxJPMDQ8JBgaInk6YFGX081vvefAwFAAA45DtmW1W23m51O23J6nV6nUqsUK7ul6m61Ua02q7VqXdgOVxVV0cLBSCwUT8cziVhyPjsXjyRjoZjKNRDAkBERMHBTxgkiRAAidM0UOMhcMuVJ7Jsa8MBqAomLPy+MnOr6zExE8KqQuS9dUx5Bs9n96JN7v/j1u8unjyXi2dz2xudrq0uxxYXsErr67ac21uYwMFUI66swcXCM7H3JYYb8y+NDTAZjH46Z2ryldrAddz0OyXGE5fQAySan3Wv37G69Wc+Xdku1UrlWLpZLhfJuq910HJsh01UtFo2fOj6XSWbSiVQqnoqF4yEjwkFRkHPGGeeIjKMCyrjdnwGCM1AMjMx9/v/5hIO9buwh9/3Aj2jPT55GiNyIBrkj9ZitFsEf9Iiu203Poa2dciSVicfimhZY31zfXS6mM/OIihy0J8M086VE8tVgYvs8RTc2spo+YL/txS4KhxwC4ZAjhNPqtqqNeqVeKlVKhdJuuVqqNqqtdrtrW47tcOS6FoiZ0eX5pXgskYylYpG4rgdN3QwaQV3VdUU1NJ2DQkKg6y7gtxNM7v+Z/7NxHv/DeWS0EZ4jB3pucpMFLY8qs07A7HuACUDTtEg4jMgajS5zzHQiu7FxO1fMrRw/aQR076hJA5t0YXy8jO+qJJKvLo7tAABnHACmb7y9rTn17F6r02x3muVGpd6sVRvVRrPWaNUr9UqtWe9224IcxpAxpgWMWDARDoTioXgilAoGAuFQKBKOhUNRUw8RcAZMCEJCdRBtgAjIJrQDUyywM53djtgjP9TKoIxocDkMCZi9RwQBAgFMhAKGoZdrTacbPj53/N6dj+6ur55YOBZfCQIgAMOxgsWifw6UgsIXY/pcJLtV8mR5bGsi9dX33C1WRMM8gwJEj7q9Xq/X7XWsTttqNzrNZrtZr1fLlVK5Xq7VK81WvdmuC+FoqqppgYBhxsKxVDSZiqYS0WQskYyEoiEjZPAAADgkABj6yiMS64cfjN3qo9sEngwzb8CTRkY0+Jl16iS/rY9AQQgFjUQsvlVs1ltw4tTJVDqbK2x/vnn32NJyUAmhdEd4rHjy82jKiqHmRna65DFD/Z/7iNkHmHIYTkZG92cMAgFAjKH9/7P3pk9yHNmd4Ht+xJVnZdZ94ircIAkeaLJvtjTdWmut2loa05jt7Hzamf3bxtZs9oM0o5mWqBXV6iaJBkmAYBP3XahC3ZWVZ1zubz9ERGbkUYUCSDZAMn8GK2RGenh4eHi829+jIAzDIAyV1oH2iWk3aNWauzuVnUqlurm9WdndqdZr9UYtCAMEhhwzjlPMlg5NHR4pjoyWx0ZLY1knZ0nTEpYAKVAgZ4xzwSQAgAbOev2iiUO1nfB46Dh9OdGd8/87j5fBihC/01EgnG2LqYmxB8uV1c36D/LHF4+fuXr90oOVB+fqO2belszo3pgyZFpfKTBKpTh8OYZ40ThgHq8kC2DbHjDgdAQCrUErCAEopLDeqNcatZ3KzubW1k51Z6uyuVPdrjdqnu8rBQhgGkYul5ubnc3nCqWR0ZHSSMZ0bGnl7JwlLSlMU5qSGyxV6gAAtAalibN0faTk71Cx+YZg+Ih68GJFBExea2qb3CSn+dnxTz+/u7nTCkJ5YvHs8vrd5dXHH1/5+IfnfzReGAVMHA1EXanEhviyGLjBqw/UDiLpOXGIIZ4dPfaAHu2/f8dBGhHrbZuEdW8nvvKbbrPWqNaau9V6td5q1JvVWqPq+s1Gq95sNj3fD1QAiELIQrGYtXNZJ5fP5gvZQs7JOZlM1s7lMnnbMg0hODCOHCjagcWIQEO8Uw4BSAMAdeVvGezHbzfoyXv4bFkdhxjiT4OXwooQl3wkTQxNU0yOlXOOvVtpVLaap0/MH50/+cnWpT9e//zQ7FHbtHJWDoAlNnHs8LXh+/XVgAj7S3AOMcTXgwO+tgPXY2rTdKiV57u+8lp+s+W1mq1G02813EatXqs2diuVHdd1fT9wW24QBpwzLpgUciQzms3lstlsMV8s5IvF7EgxM5LNZAXnDBnnAgkZcACNQLGhMzFa9AozCO3iC4NjDwff6cHk8iH+9BgyFAB4WUQEAAAg0kRomWJqfKRUyK5vVtdWt189PX3yyNmtjY3P/vjZZzeuFLM5e8ISaEIsd0P3zskhnhsdqpbkcR00p32Foof4riCdR+grXwWJaYpAd+KR9+KvBASgSSsdesoLdRAov+m5W5XNnd3tze3NnZ2tnd2dSm230Wy03BYyNKQ0pTWSL42PTowUR8rlUj6XGy9PlLJlISQi48gEF4w415wxpokYR620ChWXHJABJUPU1BYF9puGPX5L5X7G1MEhXhYQEA01zhReGhGBAWqORAyhmOOj5QxfYk/WNr0WzYzNnzx8cvXJ4zsPr4+PFPO5XCEzxqOoEgIgPdDXMHDLytCUdwBg6l9ypPPKDCfwOwlK/Y0/9fsAvtzaoKhIMfFUZ0SkSRGAVkqTYsj8wPPc1m6tutuoVOrbq7WNaqu6U9lqNt1ABa7ngkbJhWVYY6WxQ3OHCvliPpMv5ArF3IgjHSmkFMI0pJTCMmyDOV2G/2TVM46e6928edP3/fJYeX5+njMeRVYT61gusSeud58JICAYVkz9ZoAIhsWg23iRNRqoh4mz2LxtmzA17pSKVmVrM2h52bJzbOFYpbr9b1d+f/mPlzNO7tVTb+asDCcG7XChAZuJh3hODOduiF70uNUHGJOw06zf236wS2gAFREGVL5yAxXUG41Gs9lo1Buteq2xW2/WG61Gy202Gg3Xd1u+q0hzhoIJQ5ilYjljZ7JOrpAt5DMFS5q5XM6ybNMwM07GlCYH0Vb+sX3JHqdAYsJYW1/7r//Pf3306NFbb731X/7v/+JYTnQaQnf7vjk4CIaRBy8dMFp5BLHyOaSCMV5gpccUuozcWjJ28th0wyPmt7KOzYmNFsffePXCWnXz9u2bFz+9aJu5M8dOZYyMDgkAGO/Z5kTtLofP+WBIAjti7DN57YkeErjvBAZH4u+157BtbEjvXcRBIf3tr0SB8r3AbwWuF7gNr6VU2GjV3aDZaDaq9dputdpoNJqtRrNV9wPPC3wAcuyMNAzbdjJWplQsj+RHysXySL6Yz+YLuYJl2Bw4JOpglHpfAyFh9DXeBkEDbjD6qeW27ty9/fd///dffPHHSqXyl7/85ezsrGlaQJo0IGPP8RLsIxMMxYWXCXH06IsexsuCF+hooMiYQ335EiXDYwvTU1MzEiBnIQIYzCoXxt565YLvevcf3P/48h8cwzo0fShrZRH7sqR1rhAnUB1ajQ4A6tOnqPNTewJx+OZ8F0FtAZIGiY4xUU0ETUpi+lKliwnJC1wNWmulwjAMtdY6DP2W16o367uN3Upta7dWqddrDbdZa9YabjNQinPGGRKyjJ0plUYK2XzWzhRyxVKhlMsWM07WMm3BDA5SIDOE4IzFWY3j2sydmAGeXsZaQ5RhF2PtIhZpEnlheeXJ7z/4oF6vcyY21zZ/928f/MUvfjExaQGy59xBNaRA3xAkxaCHhC7Gi49F6I5DikX+nMkyJmBsVgBAsJh5bOqIfj1kyO7evev5rR//4CfHj57Kshzb6/3DKPv58GEPMcRzYj/W1rEEAAACRZo5aVKABAw0KY2KiBRpzw+arWatXt1tVCq729u7ld1qZWd3p9loBEEQ6jBUipQ2uJkv5nOZkfHyTLFQLGQLxVyhmB+xLVsakiNjjFuGaUlbcAHAEJAhHzhOgkRDSDZVd0TgrvLJqShMBAQIQrX08NGHv//QbbmO46ytr/3jb35z7ty5icmJThqGIb61wKFKmcYLz67YhbTBjfV8IshI59DUggpDBnjnwd3f/uG3W7Wd146/UcqVeJTunEgBIQFD1q31DB/582GgzjjEdxgI3WxSR/HfBECglA5d3601a/VWrdGsN91m0200W82m69YbDddreb7nh57rN5XWjDHBueWYeaPgOE4mk83auYyRdWwnm8k6ZlYKmbUzOTvrWA6Ls6GQjk0Eg7bl9idQig+3bQSDBIn4riC5H1haWrp8+fL9u/c545MTk0R09fPPr33xxczM9MT4RO/ZQ9LyLQMR0fC5dvBii0EfqF3yuBBRlDKj5iFTcuGr4PH6cv1q0/OCEwvHp0cnMmYOIjsgQWIQj8kXiy2hHQ/T0PnXBxoUQkVDKeE7Ct1JPgIQfSACAAYKgqbX0loFnt/0Gi3f9YLA9d3A9zzPbbiNamO33qo3Wg3f9/3Qb3muF3oEJE1pSMMyrEK2kLGyOTtfypZyTi6byWVzuYyTc8yMJRxE5IAMOQKwyBHQ4ePYMRkOjBbE9nj3SaSQPgN7fnBd9/PPP//oo4+EEOXyaCGf93xve2v70qVLi4uL4+Pj8Sk9WzyG5OSbDmr/T6QJxfCJxnixxaD7QOmXvCckKCYAGbNw8vBpK5P94OPfX7tz/f1/++et7bVzp8/NTM7lnaIBpmRtwyN23ueEFAyFg6diWMDkGXDAPW9f+bUODuzjZLTH8ehHIgKtINSh0pq01kSkQYUUBCp0A9f13WqjWqvt1mrV3Xq1Wq9VG7Vqo96o1UPPj+x3jHHORMbO5DP5UqmczxdGSiO5XK6YLY7kRhzHsUyLI2fAQQMiA0DOhYjIUU9w0nMFHuPzVuoLguDGjRsPHz5cPL5YrVYt0xJCFAvFW7duPXz06HvvfK93MN8IhXNw0OnXc6GXfzb2BiaVthCH7oYYL7wY9LOD0GDWzOj8jy4YE+NTn3/x2c1b15+srSweO3n82MmZ8dmcyEiUXenT4zeE+iSGIfqAz0eTvzN4IfNyQJ6UfnIDw0/bWwyiEB8iItKkCUmB0qAVqUAFXui6frPVarWarUaj2XJb25XthltrNBu1Rr3ptpQOlAq1JgAUghuWmXGcqbGJnJ3LZJxsJpvJZDN21paOLS0pJCKTUhqGYXJTIBdCMOREhIDIERBJUxy+nLZbpRWGWKAhhKdsSmvrAM+kDMQzRABExULh3Llzr58//9vf/lu9Vls4dOjs2bNffPFHQ8quUUVxjpqiyAbSpEKltQZEzhgXnDQREOOJ5+NPw6eT4WmlAUBrjYDIkDHW1SC9GA7YbTvyNJHhki2C7ZDQrw0HF8S/CrtOcnNDEgjwomMR+jD4uaZijhGAAQORkdmFiaN5uzhaKH9+/cqDx/c/vfrJw5WlxcOLJ2cXp8tTOTsPwFJGA41EgHxoIdwHaaIxfD8G4OuclL153r5N97LGQR9PQtCkAEgD+KHnui3f91zXa7Tq9Va95bdqrVrNrbXcVtNrtvym73nKD8NAeb4PCEwwxsCQhpOzHHvEcbKO7WTtXMZ0LMOyDCtr5RwjYximkNK0LNu0GXEODAeK5ZQ4/zD6nKQo6LEf9HoVOiIDAhD2G7y+1PuMCI5l/+RHPz596pRl2Z9d+axer09MTPzZz3529uyZyYnJfsELOQKACtXm5tby8vLm5oYUcnJqcm5uvlqtIsLU9FR8a38SmkMU7xTzPH9ra2tzcyPjZMbGx4rFImlyWy4A2Bn7eVZyYtSNtWsNWuswCAlISskF3+/cLwM6sIhw8Jb7Y7ijIYWXTEQYjIjGaEAAUoAMgDMEA3CiMJqzrWKmMF6euPXg1tb6arWytbq8tDC7MDk2OV6eLjhFRzqIAJp1LZ9hWPJeIGDDmdkLX9uy6aFsaU2VgAijkBo+4Oqx/Ew6KipEoIk0kdY6DEPP90Ltx0GCgecFLTdouYHvuk3XazXdhuu2Go1Gs+UqpUIV+IGvFQEhMi6FYQoj69hW0bRtxzKtfD5nWZZjO9lsNp/L26ady+QRGAKL7HYIrGfo7ZtJ1PRkq3MUMcTSrJ/6Pu+9vzBWGb56ZitNefL0yZNw8vHSY84559wyzanpqYWFBWSDDRObG5v3791ferwEgEQaERvNxsbGxq1bt6cmJ385/UuClI3kqXgmY0N/4w6bpPW1tQ8/+mhsbPS1116zTGt7Z/vqZ1ellD/80Y9MwzjYBVJAcFtuvVYvlUuMM0CoVWs3bt4Iw3B6eubI0cPPMOyvBN3mnK8KbRFoyCAivLwiQu9DZwy0DjUxRulS7I6ROTJzdGpi6vD84Rt3rt+8e+P2nVt37t0enxxfPHJyfurQWGGslCkK5FJIFlVzTyOhsKmL7i+m7t/gS+OFOUF6EycNGgWlCP83Hc97F+2TaI/jT7tqHBCTJnDps7uXYNKEYiEAQZMGiIUAUKBJBRSG2g91qEjpUAUq9EO/6bmu69brtVq92nKbjWa93mg0vabrtTzX9wMPEYER5wiEhrAymUw+U8hnc/lcwTGz2Uwh42QyTjbrZDKWY0gDgQGA4BwAOOcMkCFDYJqIIUa/gk5ZogaRb0TcN7HgM+iAX4t1O/V+a62VVkRxBgUueWS670ADMNit7H766acXL14koh//+CcnT57wPf/6jesfffTRRx999MYbb/7F//YXjDGMNBQ24ELx1x42339nOnr0yPger2bKqhEZZoQUjx49qlZ3Dy0cmpiY2NjYeP/994sjxbffeccwZM/Oz/2gARgEfvjo0aO1tfXz51/L5rKAUK1WL1++3Gg033jj9SNHDseNMV6viKCVBgTWzjTVz3T7h9B/74mU2ZVBJ34lYnMZIsYCXOeFodg6dXBnyhCD8PKKCD1rRWt4stUkUo5tFrOCISRR1yi5Kbl5fMYcL4ydXTx959G9u4/vrmwuL3+4mrEyE+XxIzOHZyampyamck5RMCG4YChS0SidYP6n843+TE9dQ97TWvzUVfoiGS/109uB9ZrSjuIXgz14yFOluoGDJnhGj3XXyd1ZpA7YDwKoSCjVxBjr1Zbj2Y0S+isNpEFrrQlIAylSSqkgCLzA8wO/XqvV6w0/9Bpuo+nWG26j6TZbjWbDa7mhG+jQ9z0AQo2aiCOzLcc0jEKhmJ/IO04mgmVZjuXkrDzn3JBSMC64EGgYzBJSMs4Z55whS162rudPAAA8RbXb5JiSDYb9MV9RRNCgWLCXiZATMMYEF5HBWUebOXgqvAkAEHzXv337znvvvRcEwX/8P/7jscVjmUyGCLK57NTU1OqTVSDSSjPGoxPDMAQCxlkUGUCKIq7POUvkD2Qpzq2VVkpFBxljDJkmHQYKERljSunoOFDSEoFzHqn4pmWWS+WRkSLnPFShaZhzc3N/9atfmYaRcRzAeD1FJIshY5zF5ak0hCokIoaMSx5JNqRoY2PjxvUbyyvLR44cdpwM41gcKf7whz9SKhwbG48ZOUHkekBEIQQTDABIgw4VYLQXHbTWiNgJ0UjNeVqS0FpHR5TSkRAQPQ7SFLF/xhljSETRS4LE4nWHCEAsrUd+O5SaF4SXWEToxupW8+/ev9x0g5NHF3721lFbAkGXGGwazkTJGsmPlgsTR+eOPtlaWVpdWVldWV1fWX2y5Dh2uTxWyo+Ol8fHR8dKxdFsNm8JW4JIp1hJKNxeo8C4bnXvfrCYOD6NaQ0yQqTNq18SBElu2X3b7Hkx3clBsacokNYQIdW4v9O9FIfnx9P7GqCmYHo03U2x87H9bc9R997jAJlgH2dzO38fgAaNoJCDBgEImCxjDSrQvhe4Qej7vldr1Zpe0w1aTbfZcJtNz/V9r9VqtVquH/h+4AdBGPq+UioIQsYY40wIzoBzxrJ21nFsQxqOk81bBdMwpJBZJyu5tEzbZKZt24hoWpY0DEMYtrARgEAT6Mhx0H9rrD0/e62v9nQSECLsJUu/5MQaB3zWOmU/SJ4yETWajYsXP9rY2Dh79uzi8cVcLsc4A4JiccQwjNNnThvSEEIAkFZUrVYfPnhYq9dmZ2bHJ8alkJXdysbGpiFlPp9vNJvNZmOkODIxORH59X3Xr1QqS0tLnu/Pzc1NT08h4tLS48rOjmmauXxud3c3n89PT097nr+ysry5uSmEKJfL4+PjTsZBQMM0DGkwzjjjQRjs7FSItDQMAgqD8MmTJ5VKhTGGyLRSjuOUR8u2bTebzc3Nzc3NrXw+Nzk5WSwUGedr62u//93vLv7holb63t17UkjbcTzPazWb0pCxwQCgUW8sryxHA5udmc3msohYr9efrKworRzHMaSxvbNt2/bk5KSTcXonXwMBKBW2Wu6TJyuu6zq2U6vVGs3m5MTE1PS067aePHnSaDQKhcL01HQ2lyVNld3dtbVVIQQiaq0bjcbExES5PGrZZu9Te8nX3kuJl1hE6OWkuL3TuHrj/taONzEyceJoNmMA9hB6ZIawxgpjoyPluZm5hen1ta21pSdLq6vLu7XKw6UHj/lyNpPJ5/LlkdFSabSQH8k7OdtyLMN2DMc0LMmEBmBxjHKSR7ZnVGlekjY90n7GgsSc3KedH8hDeTDGH1kxkHovMojq9QITsSBxmaYsIpT6288iEjvgQNEnbRncc0zQiU/HPRqkrrS3RWAQ9jRd78Hg+9l8LDQki4G6f6LUExw0zwRAoJQKQ60C5Qcq9IIgDN0wDPwgCMIwCMNQhUqrwPf9wGu5TS/wPN+tNatNt+mHnh8GfhCGYajCQCmNwAQXXHApjYxtSy6lMAzDymWzhmFYhpNxHMuyMrZlmY5jZ7JW3jItg0sExoATaKZZxPC1Jsawc1MKGPJ2NbXODeCgD/vS3AMt6sEP4CUCJVHtXTaP5CMiNhqNTz75VCt9+PBh0zRjzRiBMcw4mTfffBMIkKHv+Xfv3n348GGr1RJCVHer6+vrs3OzlcruRx99WN2tzszOlMvlVrN1H+7Pzs6dOXNaKX3nzu0bN26Ypim4qOzsrK2tHj167PHjpcuXL/u+v7i4uLK8cujQISmNanX3008/JQLTNO/du7ewsHDs2LFSuRTdgtZEQFrr9bW1Dz/8cHR09NChBaX0tWvXlh8vz87O+oH/4MGDbCb745/8uFgofvLpJ2ura6VyaWNj/eaNm4cPHz5+4nij0Xzw8OHKyhPbsra2t3YqO4zzarV66/Ytz/NfeeVcqVTa2Ni4dfPWzs6O7ditlru0tHRo4dDM7Kzbat24cWPp8ZJlWfPz80KIzY3NYrH4/R/8IJN12ooJESFD3/XW19evX7vu+77Samtri/OYSRmm8eGHHzLGMpnM6urqvXv3zp49OzExsbtb+fjjj7c2t0ZKIxMTE77v3717d3JicnFxcWxsjAs+9DV8GbwEIsIBHh4RFAv226+/srrRuHt/9R8/+ELw48fm8lk7CaNN0XdkHAEzMr8wbs+Mzpw9dq7arK6sP3689mhtc22rsv1g9dHdpftSGhknO5IdGcmXirni2kRreQAAIABJREFUSH6kkC/Yti0kN6UpuBQoDSkNYQgmY66pejO0E0vuoIfBQA+T6Do64I77mGwfveztumPuoL6GRIQ4iG/vAQSItdskk0RvXqv9yXe3Ta/nPOznJtjbmGAAz9lz6H0MqBN+/DRBqu/K8WGWSEdpKALoFCBNS4ekKSSlCTSFikKlNREorcMw1FoRhFqFWpPSFKhQh77nNV3fbbkt1/cbrtty637QckPP9T3X973A9z0/8IM4MDGqiQ4KEaRhGKaTzeQzluMYlmNnbDuTsW0pjVwml7cdx7BNw+JcCi4YoibGGUcABsQYF0Ii8XScCQKPjMnQk5gIAFm3IR1Sd90jLg6a0s4ZbSba3XCPLvbB1yI07OcSwnSjztb4AXkaAAAgCILtra1SqZTNZqWI45xCP6w36kEQjI9PIEKlsttqNf/Xb/7XyvLK22+/PT8/f+nSpVu3b73uvT42Nvb48ePPPvtsfn7+5z//BWPs6udXb968ubAwX6lU/uX/+5dr16/9+te/Hh8fv/jRxU8vf/of/vY/AMCNGzfu3buHgI1mozxarlWrjx8/fnD/wYkTJyzbev/9j+7fvw8AF8oXIps8EiEyxngmk7l27ZplWb/85S/dlnv37t1ms3nkyJGHjx7+4Q9/mJme+fGPf+z53mdXPiOic6+8cvPmjffee2/x2OLCwkKhkJ+ZmV5efiyEHBsbLxZHLMusVKhWq927d79YLC7ML1z86OK169cWjy2eO3au0Wj83d+9/+jRo3fffbdYLFZ2dz/4/Qeu5/37v/mb02dOf/DBB5XK7qnTp2zbbodWRJNdrdauXv38n//5vQtvXZBSXr16dWF+4dDhQ9lsplatXbx48Z13vj8xMXHp0scXL37EkI2PjxPRxsbGhx9+ePjQ4dnZuUK+8E/v/dPlTy9vbm7+7M9+ls/ncd9nPsT+eAlEhL2QokoawTLglRNTW9sn/vl3V35/6RMONfmzCyfm8kKkGEyH/zIGwJiQHGwDcnZhtDB24vBJRbpar21XtleerKysraysLd9avRWqgDQhgmXbhXyhVC4XC8Wx8ljeGclncyOFYj6TM7jgKBAER661pjjHMwACi7wOse4+gMnjnnJBSvuPGqa45CA7wB66KrY76dBmJIKkUFbfWbFkkTqkAXRnviOFGbHtT05ZTgZT7c7IcDDbgIEukLTNYGBqx76WvT3sZSR4mlEhIUuxbyaKMKE43C6xoPA4169G3c7JSghKh74KXN/zgsDzm81WteG6Lc9r+Z7redXdLdert3y3Xq83m03X88IwCDxfa8WQEYEGDMMAEUzLtGxHSunYTrkwYgorYzuOk3Fsx7Yy+Uwu62Rs2+HSFFxyziQKjhwZ40iMMc44Jya47IhoRJq6vbDtu45jcgnTa2avp9qRefvmNs3/97Vt7WGl+eagLU3SniFGnHPbcZBhGIRJa1h6/PjG9ev1eh0ZMwyZz+eDILh06RJpKpXLRFQoFDY3N+/euTs7MzsyUpqcnDx8+PCpUycB4I9f/PHBg4dBEH766eV79++ZpmlbNudCaVWv1VeerMzOzmYyGcbYD374g6mpqXw+L4SwbDuXyzHGNjY2HNu5ffv28ePHQYPSSmkd3YJpGrNzs5lMxnU9rbSQ4uTJkwDIOHv/X96fmZ35+c9/Pr8wr5T66bvvtlqtbDaTzWZXV9ekkPVGfXR0dHxsfLQ8yjibnZ0dHS0DQKFQmJmZefRoKQj8R0tLv/nHf3zt1Vdff+ONhYWFWrU6Nzu7srJy5cpnP3v33dnZmVw+b3je62+8MTc3W8gXVpZX1tfXR0ZKmWzibkAADbu7u/fu3S0UCnNzc4ZhlMtlApidnT2+eNzzvb/8y/+9WCgYhmFIeffu3ZWVlcAPstns7Mzs4UOHj584/vrrrwvON7e23nvvn/7HP/yP1994PZfLPUNg5hB9eIlFhJRZOaLgBQffee0YEP3zH65d/uNtwYX39tnTR0YtCYN0g45HlQE3hWUIkwCyZmE0Nz5dnq0dqdWbtUptp9lq1BrVnd2dRrPeaDWerK2srD5mnJvCkoawTMuSRtbMWKadzRSymaxlmKZhGoZhmqZlWKZpSmlIIRkyBoyBQACK2WX8FzsEmkO/IBDlhXmaM6HL8THYDJ/+hvtIzn1CCEZCFQBDQgAeh1zEskE7nJP2ZAsaNBFjezha4kisvWPZ+7k7dh/vumxKeEQEIgDdrjNIgDo+3tUnS/RlgphfEqko+ClUOggD1235QSsI/VCFQRh4XhCEvh94nu8ppcNQ+X60ezAIAj8I/VCHfhhorbQK/TAItQqVDrVC0iIqP8CZ5ViZXE4wYRmmIYwof4AhDWmYpmlJKRnjUgrTNAwmDS6lMIQQjAkpDUfYtmEJIQBZPGRI77ojIA3IowxI0FZ3CUhRR21qmz3iL21fUtwFxArz/o9kDzwL4f1G63F7JdozTfPo0SMrK0/W19eDMIhs2qXSyNjY2Nr62sWLFycnJ3/1q1+tPlkN/CDy2YcqLJfLtm3n8rlcPmdZZrlUnp2ZzWZzAKRC1Ww2fd+rVaue52UyGddzPc+dm5sbHx8fHx+3LdswjGwmOzk5NTMzEzk7VpaXf/tvv83l8mOjo4Vi8eGjh4EfRDGDnDPOBZEmgkwmw5AhAhci59gnT568ffv2H/7wh2w2e/78+dm52bXVNUS8d+/u6urqxsasZVmMYRAGKlREJA3JBWeMCcFrtZppmIhomZaUQisdBsGjRw/Pn38tm80ahmHbdjabbbaa6+vrmrRpmMVigYhGikXHcSzLEkK0mi3S3ZtEGGSz2fGx8evXrl+7ds3JOPVa/cyZM9PT06Zlrq6tfvHFH6WUc7NzpmVxzv3A93wPES3bklI6jmPbtm1Zk5MTAHDv3r16vY6ITyetQ+yNl1hEgISVESAAA+Ac5sYt/sZxl9T7v//i4y/u1zy36Z0+fXi6mBFR+9hiDADQ2V1FAElQGHImhCFtaY8WxpCh1qEXuPVmvVLb2a3v7tZ3a81qrVFtek3Xb7mBu13fUKESwBEYCWYIQzJuCGEYhmVYtpExTNM0LWkYQkhDmLZwpJSccc4YZ1wKQwopBEeGjKNpmBxRcCG4ZEwwEABx+VwgivR61s0Mo53WbTJFsSqL7S3m7aaJKhwLJkRAmPIdtHuE/heGAXXYN0bMXBOgBqROtc201AZd2icixIWzBr2Kbe/MQGWMksHH2m8sNumYs5FOyRbRLgLdvogmrVSotQpUEJAKlQpJK63DuN4wEVEYhmEQko5bRj6AIAyUcsMwVFoFofJ9Pwz9MHQjISBy/ysdhNpVUboBQiIKVRiqMAqZ5gykKTiThrAc2xGcCyG54I7h2NKWhmEYhmmYpuEYTFqmbRmOJU1LGpa0hDQYF4JzxhgAaVCoY8s2JbxeKBabBzQB6Fiz70wxxr+y5GHHE4Tt3QSQipFMTtvTDjTEc8C27NfPv7619d6jR4821jempqeEFLlsbnp6+uatW6urq5ZpTU1NNRoNIYVpmI7tlEqlYrHYaDQYMiklANi27WQcIXgYhkIKznl0MCIj5VJ5pDRimVYQhhkng4xFJ5qmESUJ3tneuXzl8oMHD86dO5fP5zlnRLS2vrb8eDkaZJxLON4FiBGVsCzL87y7d+89ePDg7XfePnnyZBAE1x9eF0JcvXqViBYXF3PZnJTS9/3d6i4BuS2XIdNaB0Fw//6DXC5bKBR0RIUQAMFxnMAPPM9FRKVVq9UCANM0ox2JmUxGa804jwR0xhgyVLo3+RXnLF/IF4pFRHRs57Xz58+cPjM6OlrZqdy6devatWvHjh3L5rKaNOei1Wptb2/7fuC23FCFWmlE0KQ911NKObYjhEDW6zQd4pnwcosIERhxwnbxrelR88/ePsEF+837lz769MbWRuWv/vyHrx6fyRdRxFmXIzN5fHbaXY+ggYgjAEuCGLhpcCNn5cdK40orhsiRKaBmq1lvViv13c3KZq1ZazTq2ztbG7XNZtNVQaBV6AeB1gSIYRgoFSJDIYVlWRknY1mOIaTkUjJh2bZhGoZhmNKwTMtxMqY0LMOU0uSMc8YFE1F0JI/1RYYYM1wEAgSGjCFCHFsQ+zM4YwwYImOILBIgIOKyDBApYmlACMQSvgqIDBiLS51iYhBIvAgYaaMMAYGFgKFGiqcOKYylL0Tg8QTHc6u1Vu3EuUSoNWjSlCisiJxFW/qj/XsAAKgp4v9IoCHa1EexqQhAEymtY6+H1lprFVsyouIBkTSltQYiTSoMPc/zfdcNPE8FgQo833U9Nwh9PwjCSDoIAhWEpMkLPNf3gjBwfS9UYej7YRhqrQFZJJ4JzqKrIBOcG5KjY6Jh2oZhWWbWMMxcNmsZUkrTlKZtWrZlG4blWBnHdgxpWKZtSIMhQ0o4NwAHrkAhIAPBYmU6ejSso9skC5xhZAIBBISu7e+x7ydZ0QhR9He0cxLbqQpj+a4j7KX/65PfhprV84OANGWz2bffefv2ndtPnqx+9tlnSqlSuYSIoQqlFJlMpjhSLJfLrVZrYmIikgCy2RyR3t2tel6jUqk0m83d6u7ubrXVciuVnXq97nlurVqbnZubejC1vr5umEY2mw3D0K/6LbfVaDYazYbn+/VavVwqM842t7Zu375dKpUWFxeLxaJSyvf9e/fuXf386tzsXLPZ1FpXd6stt+W5XuD7zWZjZ3sHAD/88MMPP/zAsqyzZ8+5rnf//v2dnR2l1Pr6+vHF4ydPntza2jJNq1qt3r1zd6Q0EiolDbm5ubW2tvbo4aPRsVHBxe5upV6ru66bzWZfOfeKH/hLj5byufz6xvqTJ09y2dzszAwQNOqNarUmpditVIQQtVqt2Wru7u4qFfao+JFHb/HYsWwuOzo2NjExYduW53rVWvX+vfvV3er8/PyRI0euXL4ShsH6+vrt23ekFEEQ+J6/tbX15MkT27bv3L1rSOPC9743MjIC8HwL/Rtt9voq8U0QEQBivVkDaCAGpbz9g9dP5pzsxY9v3Ll1+3/+5p85/eDChWORER87xLSNtvLVk/6AotQoAMhBMiaQYktE3pSOyBSd0nR5VoEKVegrz9eeHwQqVEoFruc3mg0vaDVbzWar6fmeH7ie5wWB7/tBo+XpQJOmIAxCCoFFOmJUvi7i+owhMGQcueBCcGFIiYwxJgzDBEAuuJCcMcY5k0IyzjnnQghE4ExIIaKd0pwJzli0Z5oh45wjIjLBOEdEjlxwjgw455FhQzDeESMwqqADSBpIA7BYywh9x91FrgPfq7bqWN1uxOyKGER6LgIikNY6VDqkZLey0lppatf+icw4WinSIYBWSoVKKdKBVopIawpDX+lQhSpUgVJKhaQpVCrUWivSSqkwDIk0aR0EgVIqCEOlwmgLuFKaVFxnCAA0UkiKgJCASCvSAIQMGYBgnDMuueRSSiFM0xwpjnDOJYvsO8I0bdMwDGmYhimFkNKwrYxp2pJzAcQFB0CGQgiDIQpkyAUAcuSccwTGkHHGo+eI2N41ihQ7aIABQ8C284NIQzuDUOzN6UTGsUSiS0VgxiJSWwyIlzJGISeRXyWx8XRHbmJ3V0MTwlcGBEBkDEsjpV/91a8ufXzpk08/WXr8+NDCgmmZlcru+vr62Nj4zPQMZ3x8fOKv//qvr1+7/tFHH5XLt8NQFQuFufm55eXl5eXlpaWlXC6/sLBw/969+/fuVyqVK599dv78axcuXLh06eOLH13MFwqe5xaLxXPnzn388SerT1Ybjfq//vZf//zP/3xmZmZ8bOzMmTM3b978/PM/jo+N+b4PAGEY7uxUwlA9WXnSbDUnxiemZ6bv37u/vbPtef7Hn3wyNzd75cqV5cfLr51/7bPPriwtLQkhzp8/X8gX1tbWtre3P/zww2q1Ojpartetu/fu/vLkLw3DWFlZvnr16ieffDI1OTU6OraxuXnr1q2VJytj42Oe5/3iL35x5cqVL7744tGjR8vLy57vvfXWhbNnzzZbzZs3by4tPcrnC7fv3F5eWV5fX19fW//0008PHz5cLBZ7ciQ0Go1/+Id/8HyvWCgapjE5MXnhwoXF44vHFo99ce2LB/cfeJ63trZ27Nji7u7u9vb22bNntrd3tra3m81mNpcFgIcPHh45euTPfvZnhXzhWb0MlGzaHSLCN0REwNiFqhEIQDCYHjGcM4cnc/kvpsvLK48N29KJuzXWqXs66DKwt32xsfcW2kXo2+0RpZBSygy0o70A4iR3FCqltQpCP1SeF3heEPgq1CoIQz9UKgwC0lpr0KH2QtdTnh/6XuB5YeAGrh94nueFQaBVFE5EYagCFXja1ToaC4Q62ggXcd/I2a4BgCGLNHAhJIt9jYII26EHDBkiIjLOBUNELZABISECRxY3SHZ0AiIgaiQghYQIBgAQKU76xMZjUd1SD/SqFpufX61jqCkg1AiAwOLATNKalNYqnsxI/wYEQKXjGj/R2BEJAEhp0qRAqUjYI62V0lpprbXSFJk5iBiPGCaLSLDggifxd4wxRODIueRccsFNKaQQkjPOpWBSGMIwDUMKwYUUUjJEyZjgXHIhuck4J8AoJY7gwuBmJFpx5EJwIaRIZC/OJecCgXHggDoJpui8LJRi1r1rLZJSk6lIGHXKjxP7gWJ/DnQz8lRu+MT01RUuGv2Q/MRYdEYch0HRK9K3+JNTeqjlnmEtQxwA0WMxLevosWOO4xw9ejQMFWNoGEaxWFw8duztt98ujZSIyHHs1147Pzs7u7OzwxjjnOfz+UKh4Lre3/z139RqtVw+Nz83P1IsTkxOeJ535MiR6enpyYnJiYnJMAgAgXPuOJlyqXz27JlCIa9CNT0zXSgUuOCjo6M//clPz5w5wxi3LPPM2TNvvvmmlMbkxAQXfGSkGATB2NjY1NSUlPI//1//WZOen5/PZrO/+qtf/fSn705NTQohzpw5Y1n22NhoLpvLFwpuqxXt4XzrrQue59q2s3BogTH205/+dGFhoVQqjY6Ojo2ONVutn//8599/5/ulUunw4cPIsFwuN5strdWRo0dMw5yemR4bG3Nd90c/+tGJkyei9E1c8F//+tc72zujo6MT4xOIqBWxKD+nhtXV1bt37rzz/XcmJydzuZzv+0tLSzdu3gSA86+f/0//539inEkpT5069b3vva1UODkxmclm7t27l8tl5+bmTp06jQinT50eHR09dPiQ0c4zffC1TtCOTR4CXrCIcFCVJhVvwgABBAERjOYxd3J0csxZejxyaLbsiEQ+6Dm5z3Ge6hc7YVykIXb2pnzqiULXDmePEn0KzoEDSLu9qbezubfj1EACClQYKD/654eB77uBCrwgNnFrTWEQ+kGgtAqCQGsdVUbRFKnQoabEFBEGoVJKK9Jak9ZEuiNAME2ktUIAQFJKEykAUopIBxSqOHFv1EirWOSING4GCiIRgXEwgSAMfcmotL1eUh76tSebSyvNimcwQg1JECMSAsUeEYySpkHE1AGBASCLHSAsyhbMABjnAiUHphkRw4hQMmScCc4ZJTJZJBMwFks5nAvOhOQyso5wzhljHIRpWJxzKTgXXHDhmDYRCCGENEzTjDb7RalUeBwkEYeRRo7/6DFxENAJa0wvHEqWS/Qji/e2ttcDA0xiBKPnnRS+0+3okOQDtX06UQhFSgilpEvsiKAAgBo6BfQQOtx9QHXj2JoQt4k8O+m7GOJrQ1suQ5BSzC/Mzy/MN+qNeqOOgLlczrIsTLmK8vlcLpc9cvRI4AdSSohdUTA1PRn1RkSTU5PHjx9Pn1UoFqJgGiFElJRpcXHxxIkTaRpn2ubho4cPHz2sQx0qZZgyXRDrcJIXmTSMFEdOHD/Rzo42Ozvba2VCAIJXiwVE9DxfSsE4i0kbAQAcOXLk2NFjoQoFF8gxk8uMjY+mBc98Po8MAz+IggC00owxachXz7/abkaa5ubmEDFKhEAaGOuQ90ajsbm1eeHChTfffKtcKlUqlXqtfu/+Pc/3R0dH5xfmtSKtVUQQAMD3/Y31jd3dXSIaGRk5duzYSLHIOBeSR9eKtzM8leN3vHGxRW9YDDrCCxMROkFVBz2h7SoAhDgCzpA0Ne5MjB5nDEgB5yn7APadPCg9fPINManuFUmQg722/XJG0i4pfZQYjOPIcZRoCCFt6WjQOgq8p7YRnkWsgZIcLUTtmEONSWxRNFcEWpNWWisVRMYHHfnsiSLbvtJKa0WkQqXihlpHhntNCgja5vnEq08EoIFiKwIAI0kApENGwdyD2zuXLpbLo5mTrx0enfAEjzdlMEBgUQRDxMmjxKiAUU5YBgCRv4Mx3s4mHwkEHDgDxgTD6CvnUTJsKWWUkJVFuWcpmkQWG+0JoydHpCMrAhJLgiPj0sAcY3GF2uw6DtHoaOVt0Y+DSAh8Eh7ZozTEdYYSn376iacWACb7VRKpkADjBLCp5inC0yWO9CyfTksEFqV2Tq9B2uOsngsl1qE+HWjoV/0aQEAYvcTJfEdbVmPmh/2PAAEgClGMzk9cQxQ7mvrICzJEQIMZbSvSgLzFCZhghoh/bdeAjk/UgAgY1UqghIZ2uaRS40QEANMy0qs14rWcc0AQKDG9yrDzPkX8WEqZSK/Y1Sy5qfhD9EJ231ChUJibm3dd99Gjh/V6rVareb536NCho0ePcM6BIseeiG4qGm3LdT3PN6RBmlqt5tjYaJy+RicDgEHvTD8oduchYESlD3DOtx8vUER4jnOSLPGxIEwMiSVx323SDtC76AFQacUZ77wY2P178hF7JM4eettno6A28R64BONQ38jnz1Q0dux5ZXrvcZ/V3DZqEER74DUlG/6IiEhhW2WNq5xQTIAi4YdARyw14WYEoIiQQkRCFEQaQGu/lQN57fObU+Xp+cWz/OgpZRiRfKVYfHlGwCJSCICMRcZuTHL1ITJM5BsAjGIwo1jSRA4gjOsApQjZwBmg1MFYqd5bLRjw9NtFuqKU7+1dE2kG3KEkbUR+qwEVc7Dr//ajbz/q/lFg70kD+0uPuPfYYIF1QF+YOM26jw/tpl85Ipbf/aS7sgC111N6YfVbrNLlKvZ6TPs/u/6zGLCeFNo4gHYdVLGOlnfqTegw9W5Ju7/n51DEjx49WigUHi893q3uLi0t5XK5t99+e2J8olAsGNLouhDGr65lmsePH5+cmCgWi4ILrTQz4uonRKkNwE9DREWjiYorRAzxAkWEPXfIPRWxmAAAMCCZfKfLKP4OCKAVwsZW03FMxzIkgiHizELxCTFZ1xAzUkDkA6l6vz7ZNkn3tsXUC5Ywud6C6v2McA/0WS4iDZoj8nY3aUJBHQNE/Fti2yBNFCd9Sn4iAKAAGWgQBMSAyLCZmeMguDSdTEHkSgp5aiSRQgyRhx5TzyNRqA4gt1Mqd7UeMFddEwgACLHhA5H1dt1jA+i7VnwkvYOgq2XbJ5B+jj0LK0kh0HeZZB315M2CQY/0QFINdR/CjhdhQEfU9lcM8XWhYxfsZ7EHIWAHJ3IDW0avSb/toHsb8lOucvAx9Cy19DuYXpn9HQ6U7J+VwGswDXN6ejqXy9XrDaVCIUQ+n7csK6pb0QsEznl5tHzOPBcGgWmajuMIQ6R+x4M+ppiupYS8oVQNAC86XPHA5O0palW6K+z+Cp6Gx+vN93//KTFjbnp8vJSfLOdLOdMxkxzFcWuOoIlUYu/bb4F0LraXethD5QE6ve7/8gy68p6qRaqrNPOLXWnppolMxXoSjcUvggRo7xcFHXgApJEQOVMAGjnvKvKX3BBLdZN45SHRYtNNKXVf7QpYfBD5Gzg/FPseePtW46LDlGrQdccD5qrT21Pa7DHb+6nuXwYDzn7aAsB9fjvoNaLDQyq4B/oFNXhBxpi9rrj/ev2qrrjX569pGAhaa8ZYvpDP5/MHEYAQ0XZs27E7T0dDlDaq69kdHJTSqYZ4kVYE6LPtPnsXKXpPqfcYuvgAwValeuXavSebjXzWOTw/fXhu8tDM6EQ5n7WNjCmFZKaJkkVpAeLsh08bGqUV3cHLsI+gxHL/Pm/agGCJVG97XGfAWPeUl/r6oa6Dke8BiQC0Aq01sShIsbu/gcAeMroPcemQlXQ8SkIP+sXBARtUoGNRT10uvdc1pean0LYF4IB5ezay0Gfb+WrQ3w8OPvxVXnSIPqSDQ59Hlvr61kPP8a92DTyTNWKfMTzfqDDK7JLqYT+Ks8dXFhccfz5Q/OiHr1aMF2dFOLD952m99HyITN3YVjE5g7mp0i9+9s7law8eLG188vmdS5/dFoaYGCsfmZs+dWhmbrIwM54vZoRlMNAU72DvQzsQDdMkYx/3Yec4AWCUow8A9o/SHMx39MCjKZljf/tEj0CAXcSv74w2n06qNHRlMKX+dl2XeipF26/1gRdEz+IZIBnsMYL97fKp+emSP4fk4juClCG9rcNECiW1048OF8PXiq/IGvHM6DxrSqyWwycN8KIdDV8HUllnERBAIIznjXfOHT0+P722XV3bqDxZ23r0ZH1zq3rp06tXrt4sZsSRufKFc4tvvbKYdRggS/ah9Vl0e3Mep3a8QeeiA4YU29dxkO6a6n5vRbofNNCXkRrI4H72ZZFJN+0EU13m/Jcfg+ZpbynkKdLEM2pUQ3zzEYUBR/GzyFgU6ks6Mj1hbGYbPvdvO2KZ8Mtaub8l+PaJCL1AABNhIi8nCvL4fL7pzjxZ31nbqi2t7jzZqK/uNBq1nd262wzCMPZw9/HEdhB9smeiY1PfK5QJBhxu8/F9pAR4Ntazn0HsqyFllE7YN8QQ32ZgkjYbCIg0MmSMEXQC3YfywXcDuE95z+8avo0iQkcH1BBVb4oD4kiAztuQnSsuzpeUXqg3YX17Z21jTVM4PVkyLerE7HV3qAjqLb1bc92Wa5hSSmYINCXnnEtTxJkNIf4LSZB7fHLHbJ2MLJE5KPmEZ7ibAAAgAElEQVSKEMsOafHkaZv7iEGfGaNnDg4KSrkfOqdGuQaeIap0iCG+4SBF29vbzWaz5bpEUSpx3XJbld1KJpPJ5/NdrYcSw7cOQzmwB99GEaGDPiMzQZTWFwAYh5EsZKzizJitSAnBDdFxQHfr+kSEK082P/7s9r2HK1Ymmy/k89lMuVQsFvKFfC7jSM60xZnBwTaAMUBGUdRNnHwgzoynAVnblRDHD1DChVniPEgsE13e/+5b6Q2KaBd57Bn6QJNFylhKXf+3ZSuMEhYlzpae0IWezoYY4tuDltv63e9/9/Dhw+OLx4MgUEpXq9UrV67cvHnz1KnTP/3pTwBAa2JDV/UQ3w18+0WEbu6XbK5NOJsh0ZBWH4/sAZHGwA8aDe/x6vZObbnlBUIIQwoppW1a+axVyBljI7lTx+ZPHJ0ZH80ynZQ2TuLuk4CE+KtOLoRAgBRnBU8ni3gKAepxMaT27ffsX9jLF7Gnj4JSGwM6osjTRzTEEN90aHBd74s/fvGvv/3XR+cera+va60ePXr03//7f3/w4GE2kwUAQGBDPXOI7wy+3SICQFoLHqjwxiZ2TLdP/6h1yBEMwabHRt44tzg2WtqoNHZbXtP160233vDqblDd8VZ3g/vL29xwJicnxsYBEDVoBixK49/u1ddQqbnVmqtJG5KbklmCLNOUUrIkiTOHtMSSMg/03kXKO9C/yacTLrH3vHR96RUvUgaGrsjIrxPDvUZDvFAwMKQcHR1VSn3w+w8Q0clkHj58ePnylZMnTpTLZYDhIv2WI6F7QytRjG+/iAAwiP93M710qEBq3xMAABIDIuAwVnIKBefsyTlfga+g6fnVWmtnt7lVre/W67u7u25tZ7JkZAxiGgSHpK5Tyl+AQBoer2x+cXdls+papuMYpmlJy7JMQxoml4KZgtucl/KyXDBtU/T6xaLB6TiNM2no1DEAHedaju6mXb+k72Y7o2kf7soAlVQoRIyqOSClz3napoghDo6BEzkkTC8Utm2fP3/+5q2b/+2//b9SioJfdFutWq322vnXFo8vAjx9W9AQ33BESetf9CheGnwnRIQD0eI91gRjLDbXMzIYGhKcqEsywhFDUSEEUAhKAycQQAK0GGzY10BIGtbWNy59cuXqneUwZAw4MI6MMY6GwbKOnTXlWC7zo++dfP3ckemxYpT1vWuvJBEwJAStwfUh1KAxKffMGEPgDLQCzhACkAx4LEN0IiJ79v11ysK1L8EYMASGjDHGGDCmNLBku8VeUsKAm6ZBPz+fReLL2DHS5w7IO/Elu37aifs4ep63y68MAx/QPo2/A3STS37q9Knvf/8H7/3Te5tbW57nMcZn5+a+d+F7hw8fSfSGFzzIIb5GEAxTJ6Xx4kSEb0qkfNuekPCTOGUCguQggQBQEzDRbsNJa9KALL07goAhACKH0yePZnL5H2zWKk2/3gqaLa/lup4fBIFSIYWeT2j4IYQEKqkHnNq1QICBBr7b0tdvLF+/tbS+VZOmIaRkQhimY1umKZkhuG0zxxGzY6PlkUzGAtHeV9Fh1QSICiAgUACgScapkpQOAiMIwlAppQINUgPEhbb3rM7ZZ+voS53Z2TmJ7SZdZwz+sbsr6h4/dD2aVG9JYuce0WpAkMnepCDKCtHuv3+tDrLv9B4evMIToaTrJvdstW8XA74/A9/v/Vl3G9H2sUJ9CXzd5PdpT+qpcGzn2LFjP/zRj/7+7/9uY2Pz+OKJf/fnPz90+LAQfMg7vs2IyjgBDK7V+V3Fi6v0CPunGfxKMZAb7WFa2H9QCMm+xIiFQFxYKE07ELSO7PPpmmhEmpAzNjmWL4/kXQUtP2w2W67rBUEQBKrphkGgPdeXHGcniyOFHOuv3QIAwAEYgGo0axtb6/eW1kOSGoXSSMgIURMwRIPr0YL59vnjb76y6BgZ5KnIxTg2QgNgEMCj1d2l1cpWpW4YJmdoG5yFrdlHm0EgtnYa28vb3FyzSsVyzpSSx4nHANO5JtNQGjoF2rvapBoOpLMpR4/u8Ki+UwkwKmCP2Eld1csVu+0k8ZlRr0l617SnZSB77+knOam74y4XFu3drutg2vPUcyD9fd+F2PtjNzdPD+QAVg4YYF/q//35sFcA0P59DjD2HFj2+ZL2KgAm2Pz8wve//4P3/+X95eUno2Nj77777tjYBEDHtTcUFL6FQMD+RHHfeb/Si3U0/Mnfs6c+7IHabdeRtAqIXZwiPldDVPy5t2A8RlXMGYKQYBlQtAUUcgi5aFWqhNm1K1TyvotHVgoAEAynp0ZrjWZ+pFBvqiDEput7Qdjyg4YbuK7n+n4NPc9tMtJiYLIHAAAIQ7p/f+WDj288WquQEIhoG9zm4fnqnamAPdncefjJNf+Jf+jk0XPHp0ZHstEEtPM4JJNEfqCrNa9SdestHzhnnBEQkRbc4Mg4B0AQSBlLjGRt00zyVHRNjwYATRgStILInQI8mVTBATB2gPAuyalbcWapgz03jDwOvNSxEainj701foxkKuzqkto5LNrHB5S4PAgna19n0LXbAt3g7va+YL8kfLCXrT0XX5G+/NVaINp9HrDD57suQaFQOP/666dOnyaA06dPv/Lqq7m8E+1ZfqY+v7RFY4g/LRIVqu/gdxffjViErwopi/9A2kcAAAySbQwpYhbZ6RPm1Mu9ACgpXI0AqCEOOkwU324yzwAcKeamSxNjOa2IEWfEwjAMKVTAQs20Bt/3SYfFrFHKW0wT8P5lzgAAGGYcu1wq1DzlAQ+UbgVew/U2Gq7tBX6jdr2+Udl1eGlh4TAWAUWPoB0xMYRqy7988+HvLt5YWa8qJoSwgHPk3DBsgaHEQDAcK9pnFmfePDNvmA6lpHMEANAEGpB7oV7dqj16UvXcwDAkR+AChUAhGGNccCYFcwQUHCfvJO6ThIl39moiEEGrpZuuH7FyIsWQa0xkCIYIIEAbgtmWhUTt2NLuR0OgtdKogCkABoSkWZQyAgEAifFoRaRKZScsNpV2M96Q2iWVtN1sCc/pVeN7bAwH0btTkk56oQ7oMn2sfaj9QNpj00AMqX9s8Y+xcLT/0PZSwvYnuwOFtmel1Adp368SIAAC4zA1Pf3v//Zvd3Z2Tpw4kc3n4g57TVAHHQLBfrlLDjbQvfoe4qtD/KZipyTHdx4vUERA+NNn9n0+KpNm9Pt2lbz52OfH6jYpt5GegHaV5JhdUSxtwAA6yxnmLBMtM2oYyb4aUuKEBiJgAF3eir75Npg6vTg3PzvVdANNFIRBqPzAb03eKSz/6z+Up46cPPm2P3l0fHJqNGvLlN6cvi0EZJxzwbOZTMZyNaBWQeC7inStWglVoJSPpFs1Z6wgw+NTFLmZUu8gIgAwImzU/Fs3lv7nv3y8vFUJkWkCZExwzpEhaI6MI58sZ988d+zd7786NiJjPwMRAgEDTRwBkMD19O37Ty59drPpAzGOnDGGXHDGUXAumCGlyNhsfrJw6si0yXHw49GoNN9t/v/tvVmXG0eWoHmvmfkCOIAAAgEEYl9IipsWipRKUmZNqcTMrOwzldlnHqoe5iG7z+n5H9P1G6r+wnTPU9eZzDp1ciullJIoilRy35dYyNhXBAK7u5vdeXDHFoGgQhLJIEX7UicSdDjMbXOza9eu3euvF7Z9QEMYDBkDsKwgHB1ywYnANCEiwGTQtuXRsewnQkWADDwJwQ+h4ck7EG9YY/XCsOOXnbIDBm2tINRXBAJJ4x3ChltPCsRQpLbj+91mcdU2zylq9ltoM2wltscmDLQbdGGgWcLmPm7rbgqjH7WZiHf253ZRYPfndo1Gew72fou/XQyF3Sm30ROL/qef/cR13Wg0aggkqQBxR+menJn2B2HjJW2NEM1vv92g1OoM+7r3W6f/TanBt0nzqWTgWwpT3zEdDEclACLtdb6NAwwG/cPkieVqG5W/cWmFzSXyEx8UzI7QmHDDIRJDg4Dda5bOB5kG6+3B3h4OZIXvB0C9Xou4mWKED/TGY68N84lJYBwMvtdLgwAR0zw8NhSPpoqlqlRK+UqSlKSUxLrv130PlIpF+MRQOhq1d4z/Dc0IIIIpjGSiZ2Js1Er01Ak8Sb6vSIGSRMonqZRiwG2FnJB8gh3WGk1/1HXXW98qPpxbWc1XFQpJwUYGBYE8iRgCZdKxv3p95Mj4oCkaaohWrYZ/qq66/eDRZxeulOqKCROAc2SmqQLLTcYER0xE7WOHcu+dPmaLnXG6mqtyX8HUzMrNe7M+cUSGoJARMhacXjUROUPOaGJ8cGI0Y/H2Ng/aJNQx+QTLq4Wl1bwijpwDEnJEjgjAEREIQVkG7+2Jp3qiBjSnpVZ2FEEQhaRcVdW6i0wQMIXAQ+EFEEEpjzMwDcEADA6CdWgbmo2nAuUPQbCFFkYpQyACFbgOw1BYbndqG8pzbU0XFE0FKjgERaHdSOhOjEASIBFnGAQK3iGsdFQWNqKiqiBjYW7DzqYatYnAsTOCaVu5ApjgyWSqqSkhZO2xx8MXa58rzQ5NDXZc+XZgKF90vtndE3smc1zT6Lfzmd//WU+Yv7/zVNG1ap48QFPgxU7T4kCDQXfl6Uq+T4WnkBlqfaC25J6Q8u562D2itd0bjB3NGFQN/XVjaG/qvRvpQPurHq5MCAgYock5AHhKkvI4EhgcGAcWqpYBQgm7fd8/KmAk7QynHQrnGCLwCYmRIRWoYFQGKRBMwaHNZwNCx5vs2OzoRCaTjRcrVV8qqaTvk1Loe8r1XFdKX0HEUIOZeNwh0VrjdogKCgCFiKeSAyPDTtIl4IqUlHUlyffJ9cFVClFFY6ZpGCQJAFW3sR4ZuJJKVW9hZXu9jB66ihgCMqpJJSUxRcxETEcsLiJvvA6WaNR0p5SgADwFs3Mbn1y4l68JQgNBMSYRFYCBhDZXpLxYRPyNNHMjGQ5g7GxbUoCKwFNw5+Hi51/d9skmZhAq4IAcGaBgwJEYkGOL986cOPWGgwCiIz+KgPkEHMFVcGdqcfbxsk/MJyQmGEcEQgacgVKuZaJAPDI5PjyQchiwVt8LZnMeKDMqCuaWtjY3C7LmA3FkAjhXBAoImEKSBkdDiOFcNhkXESMUQUKTEGDB20AIdR/WN6uFUsX1JDBGwCQAIHAAwRihzxnYwkgm4k6EWaKxs9OJD1Bxqer6Xt31PR+AEQ9EK0QgJMUZcsE5445t2maottt9RFkCkALf811XSgnAGCEqQIXIGRJJQOKInKHBeNN3SVO4bL7fCkApAAClGtHQMHwjGQKEO1aNY0sIe9o5hGmi6nhO+I/2MSGUiPayJQ6VVh2KiM4hAToGhKCNmjcBUaBvQgwyg+Gu6d6j2J7fEACAatf5tK2d2kq11xqnkefGyEfUZifS9ssdEmT7Ge/dsiYAYwwRGTLG2ROK9UpxcCcadhyga/SMH2i41V1v7N7qgfZfPCGBxnWEcH7HLl0e28eB1qu2M53g3yocrTgqUFiTQomIQs6QQWPd137ukRrjXZACMmj6auIsmJ4IAA0KxjhCZA3hojOqbtsCk3FMxO1Y3JaUVETBABSuLAkUgWLAAAQDg7d0ga0hEgEIFFHE4scP5SZGc8Ew1hjbwg8MAQk4gsXAsTvWeO21BQAxhx89NBiLn63Ule+DlCAl+X7dV76UiiSQUqbBR4bShmgb3DpHpSBjiUT00Gi6XCepuJJSKt9XJCWQIiRX+SpiSs78YPJrG8haoxkRSAn5/NbtO9d8sHwQgQWHBAQADsRBArmxqBgc6Dn9xmBz/6KzqZEBeD7cvT/92/+4WHap5knGQCIqYABcgATyAWTMwv/zH3/Rl05GRLv9jApaPiip8uH8+RtfXp5a2VjjwuBcMBQMA9UGRwACP95j/B9/96PTx8edpI3Q/HVLRpQAxaq8ePXeg5nl/HaNkIAzQobIgYAzZghG5PWmnA9OHTk8OmDEWJvxR+tVQgDXk/cePJpZ2Nwu+9wwgHFExponjrngTKZi5rHx3FAuaRndhxoEKNVoeb28tJKv1DzkAjgnQEAUjAXRoi0Ojs2yffF0j2MZbcYojX4dqFiqHhRKbqHkeVIhMoYYjHucCwTGEQ3GLJNiEe5EQp1Hq8maEhmA52FVQslVUgb1Et6iwv06QlKW4LZQUYvxbsf1CEASIWLFldvFGmO2QB60BjJSwS4lYyR9htQTNYxw46qtchEBeGBXrQCqdaq7knEDIHDUQkgs2EAMXkzOwBRg7KjkpvoljLGNnqJ6nRgiNrSYCgEVISBjQTUqy2KiGTOmJQAEzuOAACUhSSQCSaSApAokT2BMBD2VIygi0wx3+Ha8pK2sIRKAJMURlVYnAMCBigjNT+B53nZhOxKNRiKR1qT2AxQU2njKpWuXD6jtbzjBPKk6O6wCAADAdz3EbV/WVLiOUNA0QyBse9aOcwEdT6HgfZfBYgODLDTf7906koZIg4EQsOPrrrqlHYuLcHkDnCMSCAGO2fpRc/FE0H0NGt6EHckaDLK9Tk/MJEUcBRBIQsAgACAxQkmEBrMtwxbdV4HBots04MRrY4O5dN2TAEwppQgIWSB3EflAPpJMp5KOCL0T7BSgCAQD24T33nljbGy47oNC7ktQyHxFUilQioOSXlVwNTGSQ9kISNIqDgIgY+ATmAa8dnhCUqTmoycVgOcDegpIMUYSSSEAp/pQLstBYZcKUwyZBDAYDGQzrx2iVF+vVEoRBLUDigRwZEKRH3GUZQrTaEuks8MRgC9935PFYmVzs6SY8qQfVLAKDACApKzlssmTk/2+nyayd1d0YFrhuf7MzPyXl+8urZeAcQUMgPGGJQQxgao6lInxj/4qmTgR6bG69gIEKFZqV24+OH/x+mahrAgV8mAmZshIESJaXOUy0Q/ePfn+O2+Yht3Z81tyXaFYv3jlzhcXb2xtl4ExBFThuWEOxBiAAWp0MPH2m4d//O4bjsN3VHTQEyTCZrH2lxv3P794rVxxOTM4cGScseCMFDImBcpMquf064feffuYbbbHegnTUQAKWaFYvXX30eVrd2seZyACuYcxIiQC4owJpnpi1qljE68fnbRE25ltxMaanRFg1fVv3pt/MLPkSQ4IiAqBMNhuIkRiDCHh2McmB8dG0pa5q34BFDDGoOLD3amFRwubRAaCAFDAiEAyQFTAmSAkU9Cx18YG+iIGApICBGguRpABECmUEmceL69uFH1AhVwBcYYIgMg4MzhDBr7ganQom+6JiHAQ6lyNhhtbWKvXPd+3bFvvOAQcnC1Coxf7vr+5uXnjxo2xsbHDhw7voSLTdIGaf4CgbeYFAAiny9bY1RTf23/c/KgAeMNekpA265Xb849zQwMZUIDUZn7Z8drsfodaV5B1vGKEzRXAjrVAOIcRdEyLXTWMQWlUZ/fYJf40t00AoWFHTuEyHLHj0Xs9oi0jjskds2Ed0DzySm0aTtbY1u4GAggGDCAdw3Qs3mwoIgpMSQlAEQKFgxoAsIYPh0YCAECBSaUAGB+ITQzEgqxKBQrJJ0WEQMQASPqIwBhyJkO7yLYmwcAoFkEAHJ3MDfcnQYFS0iO3ZdICTPqSAxMMelPxqB0cWW3mJ5AYgyO6aHA4eTg7kHZcX0kFhEiB3QgpAAjOfzD0JoayEdtoH45b9U3AEWKWcfLwWCqeKNVqIJjrecHQRESkgEAhUCxqjQ33RyPd5/UgzYhlH548giJeKNU8AkWcCCmwbsBgoqsnIphOp03D6MhIWy8iACHM3lR6fOxQqlQnQB+FomCNSkoqJDC5zPRaTiIJnNOuPkiN2Z3QFHbCSeQqqgDIFCASEjAgBkSMJAcPRJRxG3YdOqLG1C4B6iSqvtiuQKXOEQURJ+DQsILkKBnUBI+Uqv5u18HUSEQCVHy+tiXvP9ou1ZGQESGgQGBECkAyUiaXfb1Wri977AhYO1oqFPmRADxfTC8WP/16qupyAKZAKSJCACIk4kAWo54oWpYYGU03Egj2SRg1NFESoOzCtTtLf/ryVh2EbLxIiMQAOCIHJKKkwyw7PtA3BAQAqqEBaA0lDMDz4NLVB19em3IxIkFIksgQAQOFCgfFoN7j0C9//r/1JsYBoaF/6RDJGILne3Nzc6urq47jdO9mrx4HeaIhmHc8zytsFe7du29Z1qFDh7RPq28JUuhMsMs5in2KWrjjPhTFuje3sbFZdyWiQbRj+Ntvzjof/gQ1xs6vd4y42HZbtz3JHR86llChxBn+pbadkZ3alja11p5Pb1e6Uqcr6j2KFwxCoUTBmvsQrabChhq87YHYvuJuS4yIAtdUYTYYD27mRBRYqKLgzVQagldnlTWCj/c4Ro9jtMRMDCUfbPwiGLDb9T6NwgfOu4ABGAgjud6hbC81pSYMjfgQw80dBOAMeHjwZKefq0Ar7Zh4dLLv+OE+RSCbz6IOcY4x4GyXQqNNcgGAuAVnjg+9fXxIykC1DlKBJFCkSBERMlAMVTRiRO1dp49V2EAI0BPlp47ljh3K1lzfl6AIArtgCs5uKABQEYsneyIx0+DttjDtdUTQG5WnDvcOJM2yWw+PsRAqAiBGSiEREsWiRn9fj2V00ZHxxn+pKJ0YTznizWpNMmZAkAiQVIokAPlAXioZGx/uixg7bXib6UiCuKDR/vi7r4/WJSPyCQiAEYGSpICIiDOKR3h/X9Tg0OGQtKH3EaCA0ATZ3yMOj6SKZcVIEQZjhAqMLwgYR4gYGItFGWuu1ltvXkMUBlN5juH1JcBVpEAGe5FEPgtdxBAwFbO54HWODf8ksOsNZYQopaoqqihQBEIoBUoCyaDRuWG45NfrGHa/oDV3OaYjAFKkGuiZKOAgTzSEciAiAXme63k+wCuwxfDi0Zrpgk/IlBAVSS5yv2OOOQjV2+7O0LV77NFndmZ499wPO9UvO3/cKcF01seTH972KGzW7ZPz17y6O0kCAB4qHlRTFRPcp5ppdVH3YDjvBf8IXHKxZtY7N5mwsU+7S7zrLHQwUhMicoRQz9C1BB21R6G0iQ2rWgpU3cA5BEr20FST2n65Wz6lpmFe+1dB/QA3G6JbU+ODEEyEocPTrvZ1betSBIiYYBt2IGSExrWKiBRjLJyeMdQfCd699REAUcVsiGacXDrhAwECCySNQMkV6LUJEEEIMLrtfiEAkGIkYxa8Np49NJIjFe70d07fIAkIKGo2Jr7OHhRo1ARC0rHeOj762uFRXwUVoxAAkalAlcUACAQHm5PBd4wLzRpSAOhExQfvHD958ni4Esew3lCFOyNKAShIOCB2SE+tT8QAEo7x87Pvv//+uygMUg2zIeUppZQkxjgyYqASUZOHrw+H4L4GyvcZU7Zt/OSjD9585x0fuCJkigAkkAQCIKYIiTEO/thguk2b2uXdQ4bZbLa3t9eXPnX2+Fd2VnqBTjQQqcAyTnMgyMY5CFJKIrqICgTBLjeRLwNPU5QJS6/aZuTv0kkJ2nTAbV6e9pa79ixEm0eRHdqSboEowuF9d2rBXK/CWbThqiH8P7VzGm49qe3HHUUgIgKFDLFluBos/ShUT7D2VMIFXUt66iw0hj6ngr1/pNYd3YNbNCqXmiVuy2CoO8GO3Lc2lUI9XGOiC58CiG2+JZpzL5EK3I80lCW7ppBG6qRAegzAMoUFTBGx5iObWWxIG4qAdVRIIykkRBRBmJT2Fml3XRUqbEID0S5g+APG0GRgGIGUhQx46NKcgJApQEmACEwGXuWfJIxHDYgYIAEAFANsd2we7GsAAAPi0CWdRhUQIvREWDzCgEKPcYREiESMiCFwaGidFLR0Wu0wjkSIQNmU05sEIkWggt6GwckaEAAcERiAEE2Rhe2uqkBeTSQStm1zxju+f4UXrgfpXVGRAgotWxnjnHOpJEfe/VDDN7bQAaxwD5I2DXdzjbbzni511q2WQt0bNrwKcwaEnLjvq3D4YQ0d8pMtH78te41o+4T2+NxVVfAdwB3/wJ3XvlUCHV+0KSiwrSVb01/bxS7wHa7kQ6OG7gvkznRaZ1WxbZJszvmNSbWbGhZ3ZKs13QYDOWKwpuyYMoMbseP+DkGr/W/bM0KdCDUMXXfLKjtm5U7prV0D1P7Fjivhwxt+p3Yojjp22LBp58qwIxc7pafmP5ABb5jqEez06dC2SMVWvcOuRsSW5NfeAJ0u0Vjbr3fNZ81/q2DtDhAc8gjf+/BIJYUuOwCCjS5qU9d0ZhpbVd0wKw58WYTdiTV0GXsv+NpX6K27IewqorNXttUEtG4PS4SBExhiHEXYRq2Qerv0fe3apV2VRMQQGaDgHHcMpq+qfADPX0QIFg8UdgUEDKP+KCUBkLFdasD9t80r1oq7R8rdE26XKulWS823JRj7vJqviCkmiBty51TFnnI1f5/2bVtr7bj47TK5r7u/b7l3acx3CwHYmGvbLSa6sR+5qstU0fWm/V7G3d98B/Hu2wqYBI11+r5/9t2Fzq79ae+7vvmOvSW27k/oUkxqyWvYPcFQwdJVcmre0bq6sx2xQxJqCVhd2htaPh2ad+x4dGMs6brf0Spl+1u6v8rulN2an3cUaufzmgua5k+eoJpjgEjAOUMCxgLXFft8j37IPG8RgYC44EKIUrk8+2iWMeb53vz8wvLS8uPUo/v3HwjOVad9HMC+W+j5KBK+KTPUCHP05K37p6m/D5SNux/RGB7aXqUuT6XAEBmAEUMgt1acmV/YqtTnNzamHj3KMOGywHgp9HeHu9rnQGjpnncsqdr6wUvpaB3bljq7qxoBWk3deQOCanzF2kN7PN0MfPcEO7PU9OLzPR/RNfFvgD1pvmgWn9qNLMKL1OZ5bFdYwJ203dx8a7o9t2uFh62JTQ1COGl9S5p5aKS6v3R2tU5bOoHOkX1TOsGantqCjH83GABTqPZosiAzDVPEJ8EJgJqHNztbkACk9H3fX1lZ8TzPicWwXV3xCksJz3+jASN2hDG8cOGrx48fJ3t6fDYIeR8AACAASURBVOm7dXdtfe2TTz/5n//v/+ScB7uPzR80AhDDS3lQFXfOUtSc2nZ9tZvWzfug64376djUvJWCJZusbqwtTk8vrq//5utLVk/KVyBBERALIx69EK8LNnoFtfUNhFD4CpRUL6f/k9368X3e8M1apKeUge+WIHa7+P0f8bTSeXYJ7v+J0K1Bd67tv+eT9pdIQ0TYQw9A+5K/nyiK7ZcgD7tXQB2Z2ceaa2c6zZgbqmGL6rru5uZmuVQeHx83TROg0x3jK8nzFhEs03zr1Fu/yP+Cc1Gv1QDBIDMSiTiOA4hC8N3zJqmXXETo7LpEbSLCN/Xq1s3PCQQExsxobiCeSJiGQMtWjAtCn0KTZ1DAdh8Yes4EMkCoQsTdddS8SMEA8hJ2HI2mnXDZS99bngremm9+I7pKdZ2Z+eZ08Cmpdr8hnf0VqsvGRngWNhj3kFmWFYvFJsYnPvzbD+OxWOtHrzD4/OddkrSysnLh4oVSsYSIUiki4owFCz6GuKM/NL3/vWQj/R6qgm+pRYCn9I7tg9a+HRJJUooxVIhEJBB9hDBGtewa0OAACNcAjTw3M9UuFrycWgSNRvPMaZ5GaV+qcSHGxkaPHj2aTqdfjHHugDkAEQEASIFSCoikkojIGGPIAq8VnHMiUkpxtmdowYPmG6KBNTex2BOVBLQftcg+1Ai4jzV9073SXmlAI7dhIL7gMzZlBRZaliPHvXOEbYXCfQhA35P9dA/9jms0micjVcMVKUAjkNNB5+mF4WBEhJAdG3CvmknIiznF7diCJAp9lexyRnfwvJgVqNFoXkaobUNDjxsNDs4vQrMlqPNi10Z6UfUJ++IJZ3u+USp6bgVvz8mu8yQ7PVXslavd15/pm/ZS9wqNRvOCQJ2j9Ku2WH0iB61FeEY2zgfLXnLoiyOfEhARMiRJTZf/e6Javl3aU9iTF6GAGo1Gs0/aR+YXZ5R+MThQEWE3WnzbDzsUMN+hxqjtwzduILQ3ym4Zbj/auafbrLqTaDQazXPhIB0wd6Epx/0w5gACKRVA081D4L8eIDjJGRjS7lvZQCr0PRpIdS1XId+hroLTwFIF6SAhBZnsqipAAADpS8ZYa8eBABkqqTA4XPyMmqwpf7RJJEQdbjO01K/RaDTPiAMSEdoGfSUVENTqNYbMtEzG2Es86DfdhDAABfV6fWVlZXFpqVwuA0A2mxkdHY3H44wxRCTVcJQOuwq7e6pGQAC37rquyzm3LTtc/WPnQ/ei/UADAgAQQbVSXVlZyW/lE4lEf39/PBbHHTHrG4nXqrXFxcXFpcVyuWJZ5tjYWMyJSSUNYfQkewQTBATUzcvDE5qyq1RBbT/BZlYJEX3PL5VKkUjEMq2gRFJJHgTao0YBtR2yRqPRPD2eu4jQueuzsbGxuLhYKpWCSOHJVHJy8pBpGOGdL6OUAAAA0pcrK6uzszPLy8uWZQGg73vbhcKjR49OnDgxPDxsWmY4H+8uY3BFgeu6xVLRcRzbtoFAKnn/3v219bWenp7jx49HopFwQt29U7SPnYggkF6hULjw1YVsNnv69OlYLBaqEdqMd+r1+tra+r27d0vlUnC9Wq3UarVisVit1t45cybqRIUhGq6K9miwvaSBZnmfKBQiYqVcWZhfuHL1yusnXz9+/DgorNdrvu9bpmVYxlNz0KLRaDSaNg5Ci0ChYxvPc2/cuHHt2jXDMBzHWVpaSiaTtm0PDgyapvlSygeNVW+5XLlw4avr16/39WXOnv1oIDdQKpeuXr365z9/trGx8eMf/fjwkcNPLiAB5bfyd+/ePX78uB2xAaBeq9+9d29mero/1z8+Ph6JRgDb1APtC+jOMxTSl0Qggoj0bbM150IYxuzsbLFUGh8fHxsfaz47SET6cmlx6asLX125fGVicvJHP/pgYGBgc3Pz9u3bf/7zn/P5/ODg4NDwcCQaAQZIje2Ghi3kjtTay9bMcNPZdtPHWUehGsWpVmvT09Mff/yxbdvHjh+v16qLi4ue66X70n3pPuRhqPu9qvKl7EsajUZz0Dx3EaGhPZauv7Gxcf369a2trV/96le2ZV+8ePHBwwfnz5//6KOPstl+9rRjCj4PCACgVqtduXLl888/j9iRs2c/GhkecWJO1Imefvt0uVz+4vMvKpVKf64/EokwxpQizpnv+0IYiKCUYpyRglKx9PDBw8uXLmcz2UwmC0TCMN45c+bw4UOJeMJxHFAN76GIQKAkESkhBDIkRdKXXPDgM2MMAEiSVJIxFoTTBADDEKlUMtWb4pwRNfxBUUPaIKjVa+e+PPfrX//67Nmzf/M3fzM5MWHZluM4qVRvqVT+4vPPOQ+9Q0lfBU4NA8kgyJLvS1KKC04EoAgAOA/D6QKCkuT7vuBcBfdIam5zSCkZZ9KXgbEG58xxoidfP+k4zujYKJEqFos3btzkjClSPYkek5vSl0DAOCMixhkASF9yzpVSoRuUl7A3aTQazcFyYOaK9Xp96uHU2upaoicxMDBgmubg0ODde3evXr36zjvvZLP9B5Wx7wkRlcvlS5f+sr29ffTo0eHh4VgiBgCmZWb7s6dOnfrDH/5469bt6enpXC5XKBTcumtaJgBWqxXHiWWzmZgTK5XLFy9e/OLzz5dXVsbHx+2InUymDEOUyqVarR6PEQCsra+vra0CQF9fX61a2yoUDCGGhocZ4urqarlSzmazqVQq0MdIXz5+PLe6usoY5nK5XC5nmIYwhG3blmUJIbgQO1bhSqmph1M3btzY3Nw8eeLkxMS4HbUBIOpELdM6cuRwpVKORh0ArJQqq2urq6urgotMNtPXl4lE7Eq5srK6UiwWo5GolLJWr5umMZAbiEajpmUCQXF7e3Fxcbu4HYlEhoeGk6lkqIOR5Lru8vLy6uoqIvame/v7+0lRoVCQSjFkm5v5G9dv/P53v+vr6/Olj4hjY2P5zfx2cdswDMeJpXt7q9XqyuoKAKTT6WQyyQXf2U4ajUaj+SYOTESQUs4vzNfq9X47ErhgjkaigovFhcVarRbe9NKpiAkQ0XXdmzdvmqY1OjomhEGSABEZCENks9lEIr62tjY3NxeJRO7cvvPg4QPbtg8dOgQAxWKRMXb8+IlEIr6xsb6wuFCv1/Nb+WKx6DiOUurxo8eP5x4PDg71pntdt3771u3Z2dlsfzaXG3Dd+lZ+68bNm/F4zBBGpVq5fev2qbffHhsdBYBHjx9duXJVCB6NRGdnZ0dHR48cOdKb7oXAm7SilhahaUaq6PHc49WV1WQylRsYiEQjwaZAoLeYnJh0HCeVSjGGt+/cvnLlysjIiOd6QX7e+6v3PM979OjxtWtXpS/Hx8edmLO9vX3t6rUTJ0+MjY15nnfj+o18Pm+Ypu97t2/feffddwcHByzLKhQKly9fXltbi0aiRPTl+S/ff+/93EBuenrm8uVLgvOJycn8Vn5hYcGXfqFQKG4Xq9Xq4uLi5cuXN/P5n//854l4fGFx4dKlS4YwzrxzJh6Pc8a1JaNGo9F8Ww5s4HQ9t1wuI4JlWYiAiHbERsRSuSx92bpPfe9o488TBADwPG9rawsBHMfhjCFvWfrbtu04jpJqcXFJKVUql65fu/7FF+eklPF4fGlx6df/36+//PJcsVjsS/cNDAxEo05fuq+3t9cyLQAqlUpTU1O3b99yXde2I2vra1+c++J3v/1dPr9pWdbS0tL/+B//z1dfXZBKeZ736aefXrt2NZ/Pl8qlxcXFpcVFx3EM07hy5crvf//72dlZUO3xS6hlwRD+R4VCQUqZTvcahlAyNC9AhkywbH/25MmTQ0PDQoh79+7dv3e/P9tvWuafP/vsX//1Xzfzm8iwVqvevn3n3JfnKtVKPBav1+u//8Pv//iHPz5+PJfP52/eulmr1zKZvlKp/Jvf/Pratavb29u1Wm1qaurf//3fZ2dmc7nc4NDg9evXHzx8oJTyPe/TTz+9d/+ebduZTCbbn02n+9LpdDKVNE1LKnnv/r1/+7ffLC0tAsD62vrUw6nCdgEIXjjnHxqNRvOScGBahCD4UDhFEQAB55yAlJSKFDYO5n1jDPAXCwQgEFzEYjGpZK1WVUH8pIYk5rputVJ1Pde2rGg0mslkJiYnDGG8+eabPT09jPHNzc2vzn918sTJdDrd29urpBoZGclms4IL13MHBgcS8US97iJgKpVMp9NDQ0PpdPr48RPpdO/s7OxWfuv48WOnT5+enZ1N96Xz+XxhuzA8PDI2NsYYi0QiW1tbhmE8fPhwdXVNKhmYFu6MFRU6cYBIJGKYRqlU8jwPoUOp4/t+vVa3I7ZhGCeOn4jHE8IwLMuq12ubm5uFrUIsFkun05OTE729qRMnTr525EgylVxeXr5582ZuIHf27E9Onnw95jjCEL7vGcJYXFza2NgslUqXL18moqPHjp48edJ13f/23/6vkZHhwYHBQqHAOfd96ThOf39/MpnMZPpGRkYGBwdt2z527Pg7Z96Zm5tbW1vL5/OAmM1mz549Ozw8LATfeZhTo9FoNPvgwEQExpht24iMgKSUUknP8xgywzAYY4FfoBcwctA3QAAItm0PDQ2trKyura0pRc2vlKJatba1tcU5zw3kLMuybduJOpZtJeKJnp6ewcGBgYGBry5c2C5uJ3oSQVWYpun7slqtWaZpGqZhGq7rIiLjLGJHent7JyYm0uneWCyWTCbtiD00NNSbSq2urkQj0Uql4rquW6+vrKxcvPh1KpnsTfdGo06tVqtWKsFBSgRUpHzpBx4pSIUumRFZNpM1DXNmZqZWrSHH5ukD6cnl5eX5+fmhoaFEPLG+vn7r1s18fnNoaNg0zVqtFpgImKaZSCSIKB6LOTGnP9s/Pj7+ySefrK+v16rVpaXFlZWVgYEBRNbT0+O6dd/3Xbe+srJiGEamL+PEnaiKnjl9OjCbcKKOYRhCCMbQtm3OuWmahmEoRbVaLRqNHD5y+MyZM3fv3h0aGopEIkPDQ7lcLhKJHGR/0Gg0mpeZA9toMA1jeHiEMba9va2IELFcKitSk5OTjuO8ZJJBOwSWbb/11lucsZnpma18XvqSFAFCsVi8du2aL/3h4eFDhw5How5DFshGAEBEnueXK2XLMgMjfASUSrqeu7K8PDX10Jcy0FIwZIHm3JcSEePxuBAi0AfYth2JRLjBlVLBMUIl1dra2qVLlxYXFwAxkeiJRiIM2WZ+c3FpUSkFAEIIAFCKiKh55IQxnJiceO3oa5Zp3X9wP7+ZD/05EhDQ0tLSgwcPyqXy3NzczVs3F+YXopFoMtnjOA4CFovFlZWVUqmklKpWq4oUItbderlUFlwQ0fTM9BdffLFd2E4mk8lkDyAEJoorK6vRaNR13XKlHBh2KFLFYrFcKiulwi0DAs54cEyjUCisrqysLK/Ua/XJyclTb52an5//058+WV1ZHR0dDRxMKaVemo0qjUajeZE4MC2CbduHDx26nMlsbeVXVpYty5pfWCCCN958Ixp1XtbY0AgAEInYp98+PTU1VdgqXL9x/UjtSE9PT71ef/zo8V8uXRoeHn733XeHhgaJSCpVq9W38luP5x47G86d27fXVtfefPPN3EAuGnWiTrRSqSwvLW9ubNbqtcHBoa2trXw+j4hbhYJlW6VSMZ/fWl1dKxQKFVFZXV2rVCpLS8sb6xvbhe3NfN7z/WKpWCwWp6amE/HEyMhIJGLX6/VqtXr//v2R4ZHR0dHCdgEAC4XtaqUST8SRhe4NELGvr++9997b3t6+e/duT0/y8OFDjuO4rlcqFYPzC7F47NGjR4FeZGh4mDEmpfI879at25VKpVarua6bz+eXl5ej0ejMzMz0zPRrR18bGxvbym/Nzsy+/fbboyOjs7Oz9Vp9a2tr6uHDbDZ75MiR+fn5xcXF6alpAFjfWDdNs6enZ3l5uV6vbeXz+a08Fzzdm65WqlNTU8ViKZvN9KbTqVTq0OFD0ajz8MGDI0cOj4+PG5YBAIwzLSJoNBrNd4D/0z/904E8mHFm25Hi9vbq2trC/ML6xvrdu/eikcjPfvaz/v6cCE6pvXQiAoSrfCfmDA0NVavVWzdvra6ubW7mb968cf78eSH4Rx+d/dGPfuTEHJK0urp67dq1Bw/u+55/89bN69euK1K//OUvjx073pNIrK2unTt3rrBViDrRoaEhIfinn3564cJFt14fGhoqbBcuXrh4+crlUqmYyWRnZqY/++zPDx48SKVSRDQzPfPll+dWV1eCo4+uW59fWCiXSpVyZWlpaXpmOhp1EvF4qVz6/PPP5+fnbMs68toRx3EYZ81qF4bI9GUGBgYezT66eu3q8tLy5ubm9evXLv3lkmmY7777bjabFYaYnp6em5v3fW92dnZzc1NKub6x/tprR6NRZ2Zm+sb1G5VqZWpq6tq1axvrGz//+c8/+OCDWq22sLjouu7a2trS8lK5Upmdme1N97516q2jR4+WSqUHDx7cuX1nampq6uFUtj9LRJ988umVK1e44Nlstr+/33Xdq1ev3rt/Twhx6tTb6d5ewzSkryqVsmVaR147cvS1o8JoSMAvY0fSaDSag+aAjb1XllcWFhaq1SoiI6V6073jY+N2JILwEvvbD0I0uW59eXl5fX2dCEipulsngt7e1MDAQG9vLyBUK9ULFy5++ukn5XL57//+F5GILaU0TfPw4cPxeBwAVldX7927xxnPZrO96bTg/NHjRxvrG8IQY2NjETvyeG4un9+MRp2xsdFarba4uLi9vT08PJzpy1Sqlbm5Oc744NBgb6q3sF3Y2NhgjBmG4fv+5uam4ziZTEYIY35+rl6rDw4Ojo6NRaORQIEf7CYEGoXidnF+YX5tdQ0QDGEoUozxTF/f8Miwbdn1ev3x48era6u2bSOi7/uu6yqlxsfHN9Y3/vTJn2ZnZ3/605/l+vtd1+WCH5o81JfpK5fL9+7dIyLDMADAdb1icTudTo+PT0QjkcWlxbW1dSVlMMePjo4JwR8/nltYmE8kEhMTE5lMZmNjY2pqularDeRyR48drVQqiOi63u9//zvHcd54483x8XEuXto+pNFoNC8AB38ezHf9YqnoeZ7jOI7jtPYXXuaoj0pSYHOpJHmuW6lUADEaiRimEYZGBCgUtv/86adffvmlbdu/+i+/yuVylmVxLrA5rxH4vi+lFFwgC/0YIqAvfcEFMFBSBYaFiA0zw8A3IoXuCwPnho24juFpEUMYLTeLFP4vtPkPPB+31zwCSUJEX/qlUsmtu8IwYjHHtMzwHgBA8D1JShGQaZi+9AGgXq9fvXr1448/3t7e/sd/+MeTr580DdO0zNBDswoEJxV6fgw8MyIGnh+DyF4N35FMGJwUBK4ng2iZBECkpJSBk4bghGe9Vh8bH7t+7fobb77xxhtvmqbxMvYcjUajeXE4uGDQjblfCJHqTbUuss57Xk5YY0efcbQilhWxSBIghLM4AQG4br1ardbrdcM0Am9RLflAATAABGEIhg2XyY3QBoKFrRbusjdjIjQDP4bfIvCWV0HGkfHwh6LxIRQsmnXefoSkEUExCBItDJFMJsOv2iMwAZAkzhk2gi4G4ku5XCkWi4XCNpFyPS/MLYYhrZEjKmScBQINqYbzZgSSFJSXhVEcAIKgU4oYhvcjgJJkCCPIcLVa/frrrwtbBWEIJ+b09WUE5y9xvFCNRqN5MTg4EaGrkuDJMZFfIpqzdaOYLQ8QCICACoQwxsbHItGIE3VM00REZOGSvT0l1q4t7xoWMgx/tPc9T8jm7ujPu9Pv+rmt4ToSCUqpgDM2MDDwk5+cBYJUKqmUCgI0tHQkbXJJKwUFBIDtIkgjIHUrLhQCEHCjJf0kEolf/uKXS0tLiURi4u2JTCbDBHtJ9U8ajUbz4nDwGw2vCp1RsInA971KpeJ5nhCCcx6NRHlDo966s+vPn2J+mjw55d195An3EwCAlLJardZqdQAwTTPmOEywQIXwzRnbHR66U2+xm1qlVi6XCSCVSnHBQu2IRqPRaL4HWkR4vlBHKGQACOIjNLcMwq+ewwp4/yJC1w6y7+wFxpuIIKXirBF08duWbm8JiSRJpUJ7hbZaDfZHQH2nx2k0Go1GiwjPHOpcFrO22W63z2PaZY3xUtMu6KjWEYkW30FQ2P2THSnv2MDSFgkajUbzXTk4W4RXiifYWzzZGuOlprNc2DiS8ZRhDVOMrtX4Q6pPjUajeb5oEeG58ISNgx+qfLCDp1K0H3D9aDQazYuHFhGePTuM776Ppv0lous2yo4rGo1Go3mB+cHse7/A7GUY+IOfJmlX2Xdf0TxrvlWd6wbSaDRtaC3Cs+fJzgZ+wLyyBd8NhX+lktKXSikCMAzBOQ88X7Fn5CuagAiAqOV5InC0FRz30K4jNBrNE9EnGjSaZwkBESADULC9vb24tLi8vFIsbgPA2Nh4LtfvuZ7neYNDg6FP66f9dICOUx7lUrlUKsfjsUgkEhwDCX1IaFlBo9HsQosIGs2zhAAQpK8ePZq9fv16Pp/PZDLRaLRer3uet7W15bnewODAhx9+6MScvX7+PZ8eflSEDG/dvPXxxx+/++67b7zxRiwe81xvfX0jFnNisVioWtgrHdAqB43mlUPbImg0zwwCIPA9ubS4eP78V+e+OFcqlUZGRs6cOXPmzBnBxbWr1y5+fXF+ft5zvS5GAAREBKqbfcBeRgMESlIXZ5QND9br6+t3bt9ZWlqqVCqkKJ/P37hxY319vSUfaHMEjUbTQNsiaDTPEAKq1aqfff7ZxYsXhoaG/v5///vR0VEuuJLqvfffY4zdvn1bCKGUAgC37rquy5CZlikMERgN1Gp1KX3OBSISKUQ0DKM9spfneZ7nExHnzLbtIMRosIPgS9/zPCJCQDtiA8Dk5KH/8l//6/DQUDwWz+fz9+/dv3z5km1b2WzWtm3P84AgCCsqhAAApVQQkJMxxrheUWg0rxZaRNBoniFKqsJW4dy5cysrKz/96U/7c/3CFEDABU+lUqdOnULEfD4vDOG67vzc/Nz8nO/74+PjuVzOcRy37j588GAzn7dtK5fLLS0tm6bR15fp788Gtgu1Wn1lZXl2dpaI+vv7JyYmLMsKAnvV6/WFhYWFxQXXdfv6+sbHxqWS29uFer1Wr9fz+fydu3d++9vfzs3Np1Kp3t50MtlTLper1RoiOFFndGy0VCytra/5vt/T09PXl7Ej1kFXp0ajea5oEUGjeWYgeJ63urq6sLBgGMbY2FjEjjRDTDFkvenet956a2trCwAuX778+PGcEDwaiX788ccDAwM//vFf25ZVrpS/+OLzfD7//vvvx2KxrfzWtWvXhoeGT5061Zfpm3r48I//8R9HDh9mnF25cuXSpUtnPzo7ODy4urx69erVhcWFWCzGkN2+fSf/Rn5gYGBhYfHy5UtvvXVqbGysVq3VqjXGmPSl9H0p5XZh+/xX50ul0pnTZwaHBjfzm1evXt3Y2Pzgg/fT6fRB16ZGo3neaM2hRvMMUUoVS8V6vS6EsG0bEFoGAgxMy8z2Zw8dOmRZ1sbGRqVSTiaTsXjs5s2bFy9efPz4ked70Wh0YWHh0qVLruv2Z/sTicT09PRv/u3fHk49rFSqpXJ5eXkpFoulUqmZmZn/9b/+dfbRo1qlNjU99Yc//qFQKOT6c7mBHCJWKhUppfT9+fmFpaVFItWX6csNDCSTyWx/Nt2XTsQTsXisUCg8uP9gZna2XC5vbW1tbmyWSkXLtBhrRN/WlgoazSuD1iJoNM8MAsM0YrGYZVkA4NZdKZVhsPbIXvV63fdlJGIfOXwkl8tZlr2xsW6aZrVaXVhYnJiYmJyczGQyKysrf/3Xfz0wMDA5OVmulP/lX/7l1FtvTYxPjI+P/93f/V2qN1Wr1ohoZmZ6fX19bX3t1q1bt2/f/s+//M+nz5z2PH9wcKgnkXBiTrlUTiZ7DMOI2BHLsvr7+8vlUn9/f39/P2fcsq0f//ivXddbXl6qVKrVSnVoeOjw4cPj4+OWZTa9O+ijDRrNK4IWETSaZwURCWH09/dnMpmNjY3FpcXJQ5OGGb50pKhaq05NTeXzW8ePH5uenr5957ZhGIcOHXIcx/d93/c8z+ecM8YQmWVZwhDRaLS3t9e27Eq1sr6xXiqVzp07l0r1HpqctG1bCMPzvFKpVKlUGGOxeDwSidq2cqJRRYpzgQwZY57rAYJgQghORIyxcrlcq9VTyeTJkyfu3bt7/vz52dmZpaWleDwxNjYeiUQA20JsazSaVwO90aDRPCsQERGSyeSPPvhRJpO5cuVKsVgiSaQACHzpz8zMLC8vc8a2tra+uvDV1NRULpcbGhoyhOF5XqFQePDgfmCpgAjBcYN6vZ7fzPu+b5lWoVC4c+fO48ePe1OpoaGhRKIHEYrF7c3Nze3tbc/zisVt160Hxx/m5xe2tvKIjIi4EIwxACAi6Uvf9zfWN+7evVOt1dLp9MjIiGmYf/zjH1dXV3t6EpFIJJALQg9LWkTQaF4ZtBZBo3lmIACBZVoffvih67lTD6f+8vXXY+NjyWQSAbcKW/fu3rMj9vBrw77nLy4uMsYGBwaBgABKpdLM9IxhGOl0GgG3trYePnhYKpZWVlcePnw4ODR4+PBh0zQ3NjZc1+tN9yLDWq1qCOPRo0eZvkxfX9/o6Oj01LRt24lEol6rr2+sDw8Nb25u5PP5tbXVYrGYTCZ7epLb29tzc3O+728XtqXvC0McOfLakSNHPvv8s1/84pcjIyMMUS8lNJpXEy0iaDTPDAIiEoYYHRs7+9HZaDR6/vz5ubm53EDO9/2lpaW+vr4TJ08ODg5WK9X33nv/8eNHN2/dtCwrGo3adqRSrSQSiUgkCgjb28W/XPpLpi+zvLyc38r/wz/8w/ETJwTnq8dXl5aWZmZml5aWyuXyW6dOVSoVRfS3f/u3g4ODN27c2C4WbcvyPO/U26dqsEUSSQAAAvtJREFU9dr8/EK5XF5YWFhdXR0aHBoZGbZs+8GDh6ZhTk5OGqYJBNls5o0337hz987o6Egul1NEjPT+gkbzKqIdMGs0z4NqubpVKKyvrfnSV4oQwI7YqVQqlUrZEVv5aml5qVgscs455whYrVUBsK8vLYT453/+56+//st//+//dyKRCBwZZTLZZLIHEQuFwurKKiCapiGlDIwM+vr6enqS5XJpY33D831EsG27J9FjmEawB8E5T/emk6lkvV6fezynSMXjiWSyR0ppWVa5VL7/4P6N6zc+/PDDEydPhDEmNBrNq4fWImg0z4NINGLbdq6/v1Ktum5dCBGJRIQQweqcCTY0NKSUanpKDmIs+b589OhRqVgSQpimOTg4FI/HghsCUqlUMpkipZBh+3UAMK1UKpWSvmSMhV8hxOKxznvMY8ePAxARFQrb5744xzkHgM385ukzp4dHhgEBtf5Ao3lV0SKCRvPsIQCEICKzE4s6KhoeemwcIyQARAjdKjd/QqCUQoSJyYlYPG6aFmcMETuOHSIgAjLWclfQHmSBATd4+AiiwOti6zYAIGCIgEiKlJLValUIwTiLx+Pj4+OxWIc8odFoXjX0RoNG81zY4U5AAUBHmKXwc9sVIkAEpVSlUvF9Px6Pt/QBTwi9uDuG0+4M7LiHAABIUaVaCbQISinLsoLP2gpBo3ll0SKCRvPcobY5vm2S3jkZq/AKEe3YRHi6mQkGAe3zQKPR7ECbIWk0B8F+HAw09AqBfECSSDUE+qci2FNLWEFEAHjK6Ws0mpccrUXQaF5g2ncH1P4Ei/2j2j43lRnND3r5oNG88mhzRY3mBQb3+PxU2CEE6MWCRqPpRIsIGs0rT1fh4AkWkRqN5tVAiwgazUvCs5utd9hOwq7jFRqN5pVEiwgazSuPNjvQaDTd0GODRqPRaDSaLmgRQaPRaDQaTRe0iKDRaDQajaYLWkTQaDQajUbTBS0iaDQajUaj6YIWETQajUaj0XRBiwgajUaj0Wi68P8DIDMkePode6QAAAAASUVORK5CYII=)"
      ],
      "metadata": {
        "id": "0FyocwYYFjzS"
      }
    },
    {
      "cell_type": "markdown",
      "source": [
        " # Overfitting e Underfitting\n",
        " - Centrais em Machine Learning\n",
        " \n",
        "- Underfitting(ajuste abaixo do esperado)(aprendeu de menos)\n",
        "  - Modelos menos flexiveis que o ideal\n",
        "- Overfitting(ajuste exagerado)(aprendeu de mais)\n",
        " - Modelos mais flexiveis que o ideal\n",
        "- Capacidade apropriada(ajuste ideal)(aprendeu o suficiente)\n",
        " - utiliza apenas o ideal\n",
        "\n",
        "\n",
        " ![imagem_2022-04-25_204341090.png](data:image/png;base64,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)"
      ],
      "metadata": {
        "id": "QItUbCpSGd90"
      }
    },
    {
      "cell_type": "markdown",
      "source": [
        "No Free lunch theorem (Nfl)\n",
        "- nenhum modelo é garantido que funcionara melhor \n",
        " - ex: para alguns dados, regressão linear é melhor; para outros redes neurais..\n",
        "- a unica maneira de saber é avaliar todos os modelos \n",
        "- por isso é nescessario se esforçar \n"
      ],
      "metadata": {
        "id": "hOTtCb8fJ5sk"
      }
    },
    {
      "cell_type": "markdown",
      "source": [
        "#otimização\n",
        "\n",
        "Método mais utilizado é o Método do Gradiente\n",
        "\n",
        "Inventado em 1847 por Augustin Louis . Usa a derivativa para minimizar uma função-alvo\n",
        "\n",
        "Método iterativo: a cada interação, tenta ir para o local/ global minima\n",
        "\n",
        "\n",
        "![imagem_2022-04-25_211750554.png](data:image/png;base64,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)"
      ],
      "metadata": {
        "id": "CNqQYOO5OIV3"
      }
    },
    {
      "cell_type": "markdown",
      "source": [
        "![imagem_2022-04-25_213558957.png](data:image/png;base64,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)"
      ],
      "metadata": {
        "id": "AxCF0no3S9pt"
      }
    },
    {
      "cell_type": "markdown",
      "source": [
        "# tipos de metodos do gradiente (gradient descent)\n",
        "- batch Gradient Descent: Dataset todo\n",
        "- Stochastic Gradient Descent: Um exemplo aleatório do Dataset\n",
        "- Mini-batch Gradient Descent: Amostras aleatórias do Dataset"
      ],
      "metadata": {
        "id": "mPekJmOuTqBU"
      }
    },
    {
      "cell_type": "markdown",
      "source": [
        "#aula 02/05/2022"
      ],
      "metadata": {
        "id": "Bq5pZu6F6DmY"
      }
    },
    {
      "cell_type": "code",
      "source": [
        ""
      ],
      "metadata": {
        "id": "X9LSFhHiScNQ"
      },
      "execution_count": null,
      "outputs": []
    }
  ]
}